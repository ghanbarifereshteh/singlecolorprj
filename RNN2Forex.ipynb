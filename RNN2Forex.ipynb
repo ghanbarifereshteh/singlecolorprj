{
  "cells": [
    {
      "cell_type": "markdown",
      "metadata": {
        "id": "view-in-github",
        "colab_type": "text"
      },
      "source": [
        "<a href=\"https://colab.research.google.com/github/ghanbarifereshteh/singlecolorprj/blob/main/RNN2Forex.ipynb\" target=\"_parent\"><img src=\"https://colab.research.google.com/assets/colab-badge.svg\" alt=\"Open In Colab\"/></a>"
      ]
    },
    {
      "cell_type": "code",
      "execution_count": 385,
      "metadata": {
        "id": "BcjqXsnLqTLO"
      },
      "outputs": [],
      "source": [
        "#import all libraries\n",
        "import numpy as np\n",
        "import pandas as pd\n",
        "import math\n",
        "import sklearn\n",
        "import sklearn.preprocessing\n",
        "from sklearn.preprocessing import StandardScaler\n",
        "import datetime\n",
        "import os\n",
        "import matplotlib.pyplot as plt\n",
        "import tensorflow as tf\n",
        "from tensorflow.python.keras.layers.convolutional import Conv1D, MaxPooling1D\n",
        "from keras.layers import TimeDistributed\n",
        "from tensorflow.keras import datasets, layers, models\n",
        "import yfinance as yf\n",
        "from keras.models import Sequential\n",
        "from keras.layers import Dense\n",
        "from keras.layers import SimpleRNN,RNN\n",
        "from keras.layers import Dropout,Attention\n",
        "import IPython\n",
        "import IPython.display\n",
        "from math import floor"
      ]
    },
    {
      "cell_type": "code",
      "execution_count": 386,
      "metadata": {
        "colab": {
          "base_uri": "https://localhost:8080/"
        },
        "id": "lp7DA9MQLvpg",
        "outputId": "317c1a5f-e38e-48af-bf6d-1cc34a8eeffa"
      },
      "outputs": [
        {
          "output_type": "stream",
          "name": "stdout",
          "text": [
            "\r[*********************100%%**********************]  1 of 1 completed\n"
          ]
        }
      ],
      "source": [
        "import yfinance as yf\n",
        "df_stock = yf.download('EURUSD=X','2003-12-01','2023-11-01')"
      ]
    },
    {
      "cell_type": "code",
      "execution_count": 387,
      "metadata": {
        "id": "w16y7K87IeTe"
      },
      "outputs": [],
      "source": [
        "#set hyper parameters.there is a sequence. the network sees the input days and predicts the other days. seq_len is the sum of inputs and offsets.\n",
        "n_steps = 20\n",
        "n_neurons = 800\n",
        "n_layers = 2\n",
        "learning_rate = 0.001\n",
        "batch_size = 50\n",
        "dropout_rate = 0.2\n",
        "num_features = 6"
      ]
    },
    {
      "cell_type": "markdown",
      "metadata": {
        "id": "DRjD2gV3jahs"
      },
      "source": [
        "For example, to make a single prediction 24 hours into the future, given 24 hours of history, you might define a window like this:\n",
        "\n",
        "![image.png](data:image/png;base64,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)"
      ]
    },
    {
      "cell_type": "code",
      "execution_count": 388,
      "metadata": {
        "id": "lFLxcXfgrlA5"
      },
      "outputs": [],
      "source": [
        "#the data must be normalized so it becomes understandable for machine.\n",
        "def normalize_data(df):\n",
        "    min_max_scaler = sklearn.preprocessing.MinMaxScaler()\n",
        "    df['Open'] = min_max_scaler.fit_transform(df.Open.values.reshape(-1,1))\n",
        "    df['High'] = min_max_scaler.fit_transform(df.High.values.reshape(-1,1))\n",
        "    df['Low'] = min_max_scaler.fit_transform(df.Low.values.reshape(-1,1))\n",
        "    df['Close'] = min_max_scaler.fit_transform(df['Close'].values.reshape(-1,1))\n",
        "    return df"
      ]
    },
    {
      "cell_type": "code",
      "execution_count": 389,
      "metadata": {
        "id": "IGX9rqe6P1w_"
      },
      "outputs": [],
      "source": [
        "#spilite data and and make three datasets for training and validation and test.\n",
        "def spilitData(df_stock_norm):\n",
        "  n = len(df_stock_norm)\n",
        "  train_df = df_stock_norm[0:int(n*0.8)]\n",
        "  val_df = df_stock_norm[int(n*0.8):int(n*0.9)]\n",
        "  test_df = df_stock_norm[int(n*0.9):]\n",
        "\n",
        "  num_features = df_stock_norm.shape[1]\n",
        "  return train_df,val_df,test_df"
      ]
    },
    {
      "cell_type": "code",
      "execution_count": 390,
      "metadata": {
        "id": "5XGy6GjFgdph"
      },
      "outputs": [],
      "source": [
        "#because of normalization(between 0 and 1) some values become zero. in calculating the amount of profit, we may encounter divide by zero error. so zero values are deleted with this function.\n",
        "def drop_zeros(df_stock):\n",
        "  mask = (df_stock.drop(columns=['Volume']) == 0).any(axis=1)\n",
        "  removed_rows = df_stock[mask]\n",
        "  df_stock = df_stock[~mask]\n",
        "\n",
        "  # Display the removed rows\n",
        "  print(\"Removed Rows:\")\n",
        "  print(removed_rows)\n",
        "  return df_stock"
      ]
    },
    {
      "cell_type": "code",
      "execution_count": 391,
      "metadata": {
        "id": "f9rrr_tBJZ0S"
      },
      "outputs": [],
      "source": [
        "class WindowGenerator():\n",
        "\n",
        "  def __init__(self,df,input_width, label_width, shift,label_columns=None):\n",
        "    # Work out the label column indices.\n",
        "    self.column_indices ={name: i for i, name in enumerate(df.columns)}\n",
        "    self.label_columns = label_columns\n",
        "    if label_columns is not None:\n",
        "      self.label_columns_indices = {name: i for i, name in\n",
        "                                    enumerate(label_columns)}\n",
        "    self.column_indices = {name: i for i, name in\n",
        "                           enumerate(df.columns)}\n",
        "\n",
        "    # Work out the window parameters.\n",
        "    self.input_width = input_width\n",
        "    self.label_width = label_width\n",
        "    self.shift = shift\n",
        "\n",
        "    self.total_window_size = input_width + shift\n",
        "\n",
        "    self.input_slice = slice(0, input_width)\n",
        "    self.input_indices = np.arange(self.total_window_size)[self.input_slice]\n",
        "\n",
        "    self.label_start = self.total_window_size - self.label_width\n",
        "    self.labels_slice = slice(self.label_start, None)\n",
        "    self.label_indices = np.arange(self.total_window_size)[self.labels_slice]\n",
        "\n",
        "  def __repr__(self):\n",
        "    return '\\n'.join([\n",
        "        f'Total window size: {self.total_window_size}',\n",
        "        f'Input indices: {self.input_indices}',\n",
        "        f'Label indices: {self.label_indices}',\n",
        "        f'Label column name(s): {self.label_columns}'])"
      ]
    },
    {
      "cell_type": "code",
      "execution_count": 392,
      "metadata": {
        "id": "AMfvl3aoOguT"
      },
      "outputs": [],
      "source": [
        "def split_window(self, features):\n",
        "  inputs = features[:, self.input_slice, :]\n",
        "  labels = features[:, self.labels_slice, :]\n",
        "  if self.label_columns is not None:\n",
        "    labels = tf.stack(\n",
        "        [labels[:, :, self.column_indices[name]] for name in self.label_columns],\n",
        "        axis=-1)\n",
        "\n",
        "  # Slicing doesn't preserve static shape information, so set the shapes\n",
        "  # manually. This way the `tf.data.Datasets` are easier to inspect.\n",
        "  inputs.set_shape([None, self.input_width, None])\n",
        "  labels.set_shape([None, self.label_width, None])\n",
        "  return inputs, labels\n",
        "\n",
        "WindowGenerator.split_window = split_window"
      ]
    },
    {
      "cell_type": "code",
      "execution_count": 393,
      "metadata": {
        "id": "jMJ-3TLyTkCn"
      },
      "outputs": [],
      "source": [
        "#this function makes datasets like timeseries so they becomes suitable for a RNN network.\n",
        "def make_dataset(self, data):\n",
        "\n",
        "  data = np.array(data, dtype=np.float32)\n",
        "\n",
        "  ds = tf.keras.utils.timeseries_dataset_from_array(\n",
        "        data=data,\n",
        "        targets=None,\n",
        "        sequence_length=self.total_window_size,\n",
        "        sequence_stride=1,\n",
        "        shuffle=False,\n",
        "        batch_size= batch_size)\n",
        "\n",
        "  ds = ds.map(self.split_window)\n",
        "  return ds\n",
        "\n",
        "WindowGenerator.make_dataset = make_dataset"
      ]
    },
    {
      "cell_type": "code",
      "execution_count": 394,
      "metadata": {
        "id": "D5D-_O45WfQU"
      },
      "outputs": [],
      "source": [
        "# the model consists of many RNN layers. each layer has many neurons. we increased the number of neurons and saw the accuracy improved.\n",
        "# after RNN layers, there is a Dense layer that outputs six features.\n",
        "# to avoid overfitting and also enhancing the model, we added a dropout.\n",
        "class FeedBack(tf.keras.Model):\n",
        "  def __init__(self, units, out_steps):\n",
        "    super().__init__()\n",
        "    self.out_steps = out_steps\n",
        "    self.units = units\n",
        "    layers = [tf.keras.layers.GRUCell(units=n_neurons, activation='tanh')\n",
        "         for layer in range(n_layers)]\n",
        "\n",
        "  # Create a multi-layer RNN cell\n",
        "    self.lstm_cell = tf.keras.layers.StackedRNNCells(layers)\n",
        "    # Also wrap the LSTMCell in an RNN to simplify the `warmup` method.\n",
        "    self.lstm_rnn = tf.keras.layers.RNN(self.lstm_cell, return_state=True)\n",
        "    self.dropout = tf.keras.layers.Dropout(dropout_rate)\n",
        "    self.dense = tf.keras.layers.Dense(num_features,activation = 'relu')"
      ]
    },
    {
      "cell_type": "code",
      "execution_count": 395,
      "metadata": {
        "id": "6jFv659AWuRT"
      },
      "outputs": [],
      "source": [
        "feedback_model = FeedBack(units=n_neurons, out_steps = n_steps)"
      ]
    },
    {
      "cell_type": "markdown",
      "metadata": {
        "id": "SHyqqHpfZU0d"
      },
      "source": [
        "![image.png](data:image/png;base64,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)"
      ]
    },
    {
      "cell_type": "code",
      "execution_count": 396,
      "metadata": {
        "id": "58cCnZNcO3Kk"
      },
      "outputs": [],
      "source": [
        "#give the model time to warm up its internal state before making a single prediction\n",
        "def warmup(self, inputs):\n",
        "  # inputs.shape => (batch, time, features)\n",
        "  # x.shape => (batch, lstm_units)\n",
        "  x, *state = self.lstm_rnn(inputs)\n",
        "  # predictions.shape => (batch, features)\n",
        "  prediction = self.dense(x)\n",
        "\n",
        "  return prediction, state\n",
        "\n",
        "FeedBack.warmup = warmup"
      ]
    },
    {
      "cell_type": "code",
      "execution_count": 397,
      "metadata": {
        "id": "o7GXkkaMO75f"
      },
      "outputs": [],
      "source": [
        "# this call function as you see in the image above, gets the predictions and gives them as input to the model again..\n",
        "def call(self, inputs, training=None):\n",
        "  # Use a TensorArray to capture dynamically unrolled outputs.\n",
        "  predictions = []\n",
        "  # Initialize the LSTM state.\n",
        "  prediction, state = self.warmup(inputs)\n",
        "\n",
        "  # Insert the first prediction.\n",
        "  predictions.append(prediction)\n",
        "\n",
        "  # Run the rest of the prediction steps.\n",
        "  for n in range(1, self.out_steps):\n",
        "    # Use the last prediction as input.\n",
        "    x = prediction\n",
        "    # Execute one lstm step.\n",
        "    x, state = self.lstm_cell(x, states=state,\n",
        "                          training=training)\n",
        "    if training:\n",
        "      x = self.dropout(x)\n",
        "    # Convert the lstm output to a prediction.\n",
        "    prediction = self.dense(x)\n",
        "    # Add the prediction to the output.\n",
        "    predictions.append(prediction)\n",
        "\n",
        "  # predictions.shape => (time, batch, features)\n",
        "  predictions = tf.stack(predictions)\n",
        "  # predictions.shape => (batch, time, features)\n",
        "  predictions = tf.transpose(predictions, [1, 0, 2])\n",
        "  return predictions\n",
        "\n",
        "FeedBack.call = call"
      ]
    },
    {
      "cell_type": "code",
      "execution_count": 398,
      "metadata": {
        "id": "KVP1aIR5e-va"
      },
      "outputs": [],
      "source": [
        "def stacked_RNN():\n",
        "  layers = [tf.keras.layers.GRUCell(units=n_neurons, activation='elu')\n",
        "         for layer in range(n_layers)]\n",
        "\n",
        "  # Create a multi-layer RNN cell\n",
        "  multi_layer_cell = tf.keras.layers.StackedRNNCells(layers)\n",
        "\n",
        "  # Define the RNN layer using the Sequential API\n",
        "  model = tf.keras.Sequential([\n",
        "      tf.keras.layers.RNN(multi_layer_cell, return_sequences=True),\n",
        "      tf.keras.layers.Reshape(target_shape=(-1, n_neurons)),\n",
        "      tf.keras.layers.Dense(num_features)\n",
        "  ])\n",
        "  return model"
      ]
    },
    {
      "cell_type": "code",
      "source": [
        "def simple_RNN():\n",
        "\n",
        "  # Define the RNN layer using the Sequential API\n",
        "  model = tf.keras.Sequential([\n",
        "      tf.keras.layers.SimpleRNN(units=50, activation='tanh',return_sequences=True),\n",
        "      tf.keras.layers.Dropout(0.2),\n",
        "      tf.keras.layers.SimpleRNN(units=50, activation='tanh',return_sequences=True),\n",
        "      tf.keras.layers.Dropout(0.2),\n",
        "      tf.keras.layers.SimpleRNN(units=50, activation='tanh',return_sequences=True),\n",
        "      tf.keras.layers.Dropout(0.2),\n",
        "      tf.keras.layers.SimpleRNN(units=50, activation='tanh'),\n",
        "      tf.keras.layers.Dropout(0.2),\n",
        "      tf.keras.layers.Dense(units=num_features)\n",
        "  ])\n",
        "  return model"
      ],
      "metadata": {
        "id": "Eje_UTdbU-b2"
      },
      "execution_count": 399,
      "outputs": []
    },
    {
      "cell_type": "code",
      "execution_count": 400,
      "metadata": {
        "id": "AUiiZi8oXN3z"
      },
      "outputs": [],
      "source": [
        "#MAX_EPOCHS = 150\n",
        "\n",
        "def compile_and_fit(model, window,epoch, patience=10):\n",
        "  #early_stopping = tf.keras.callbacks.EarlyStopping(monitor='val_loss',\n",
        "   #                                                 patience=patience,\n",
        "    #                                                mode='min')\n",
        "\n",
        "  model.compile(loss=tf.keras.losses.MeanSquaredError(),\n",
        "                optimizer=tf.keras.optimizers.Adam(learning_rate = learning_rate),\n",
        "                metrics=[tf.keras.losses.MeanAbsoluteError()])\n",
        "\n",
        "  history = model.fit(window.train, epochs=epoch,\n",
        "                      validation_data=window.val)\n",
        "                     # callbacks=[early_stopping])\n",
        "  return history"
      ]
    },
    {
      "cell_type": "code",
      "execution_count": 401,
      "metadata": {
        "id": "x9KkhgHTsCBA"
      },
      "outputs": [],
      "source": [
        " #for ploting and comparing target values and predictions, we need labels..\n",
        " #this function seperate inputs and labels from dataset.\n",
        " def get_input_Labels(ds):\n",
        "  ds_inputs = []\n",
        "  ds_labels = []\n",
        "  for inputs, labels in ds:\n",
        "      ds_inputs.append(inputs.numpy())\n",
        "      ds_labels.append(labels.numpy())\n",
        "  batch_input = []\n",
        "  batch_labels = []\n",
        "  for i in range(len(ds_labels)):\n",
        "    for j in range(len(ds_labels[i])):\n",
        "      batch_labels.append(ds_labels[i][j])\n",
        "      batch_input.append(ds_inputs[i][j])\n",
        "  return np.array(batch_input),np.array(batch_labels)"
      ]
    },
    {
      "cell_type": "code",
      "execution_count": 402,
      "metadata": {
        "id": "vEee0rHzWEQX"
      },
      "outputs": [],
      "source": [
        "def plot_target_predict(test_labels,predictions):\n",
        "  # ploting the graph\n",
        "  comp = pd.DataFrame({'Column1':test_labels[:,-1,:][:,3],'Column2':predictions[:,-1,:][:,3]})\n",
        "  plt.figure(figsize=(20,5))\n",
        "  plt.plot(comp['Column1'], color='orange', label='Target')\n",
        "  plt.plot(comp['Column2'], color='red', label='Prediction')\n",
        "  plt.legend()\n",
        "  plt.show()"
      ]
    },
    {
      "cell_type": "code",
      "execution_count": 403,
      "metadata": {
        "id": "JiXZKIYZOsmT"
      },
      "outputs": [],
      "source": [
        "def plot(history):\n",
        "  acc = history.history['mean_absolute_error']\n",
        "  val_acc = history.history['val_mean_absolute_error']\n",
        "\n",
        "  loss = history.history['loss']\n",
        "  val_loss = history.history['val_loss']\n",
        "\n",
        "  epochs = range(1, len(acc) + 1)\n",
        "\n",
        "  plt.figure(figsize=(20, 8))\n",
        "  plt.subplot(1, 2, 1)\n",
        "  plt.plot(epochs, acc, label='Training Accuracy')\n",
        "  plt.plot(epochs, val_acc, label='Validation Accuracy')\n",
        "  plt.legend(loc='lower right')\n",
        "  plt.title('Training and Validation Accuracy')\n",
        "\n",
        "  plt.subplot(1, 2, 2)\n",
        "  plt.plot(epochs, loss, label='Training Loss')\n",
        "  plt.plot(epochs, val_loss, label='Validation Loss')\n",
        "  plt.legend(loc='upper right')\n",
        "  plt.title('Training and Validation Loss')\n",
        "  plt.show()"
      ]
    },
    {
      "cell_type": "code",
      "execution_count": 404,
      "metadata": {
        "id": "oblpt21tfD6b"
      },
      "outputs": [],
      "source": [
        "#it seems ploting is not enough for evaluating model. with this function the amount of profit will be obtained based on predictions.\n",
        "def calculate_profit(predictions,test_inputs):\n",
        "  amount_of_profit = 0\n",
        "  for i in range(1,len(predictions)):\n",
        "    if (test_inputs[i,-1,3] > test_inputs[i-1,-1,3]):\n",
        "      if(test_inputs[i-1,-1,3]==0):\n",
        "            print(\"i zero...else...\"+str(i))\n",
        "      else:\n",
        "        if(predictions[i,-1,3] > test_inputs[i-1,-1,3]):\n",
        "          amount_of_profit += ((min(predictions[i,-1,3],test_inputs[i,-1,3])-test_inputs[i-1,-1,3])/test_inputs[i-1,-1,3]) *10000\n",
        "        else:\n",
        "          amount_of_profit += -((test_inputs[i,-1,3] - test_inputs[i-1,-1,3])/test_inputs[i-1,-1,3] * 10000)\n",
        "    else:\n",
        "      if(test_inputs[i-1,-1,3]==0):\n",
        "            print(\"i zero...else...\"+str(i))\n",
        "      else:\n",
        "        if (predictions[i,-1,3] <test_inputs[i-1,-1,3] ):\n",
        "          amount_of_profit += (test_inputs[i-1,-1,3] - max(predictions[i,-1,3],test_inputs[i,-1,3]))/test_inputs[i-1,-1,3] * 10000\n",
        "        else:\n",
        "          amount_of_profit += (test_inputs[i,-1,3]-test_inputs[i-1,-1,3])/test_inputs[i-1,-1,3]*1000\n",
        "  return amount_of_profit"
      ]
    },
    {
      "cell_type": "code",
      "execution_count": 405,
      "metadata": {
        "id": "lxBo7arRJUvm"
      },
      "outputs": [],
      "source": [
        "#in dynamic LSTM method, the actual value of the recently predicted\n",
        "#date is added to the training dataset to rebuild the model to make predictions for data in\n",
        "#the testing set\n",
        "def dynamicLSTM(window,test_inputs,test_labels):\n",
        "  val_inputs,val_labels = get_input_Labels(window.val)\n",
        "  len_recent_data = 10\n",
        "  i = 0\n",
        "  new_predictions = np.empty(shape = (0,n_steps,num_features))\n",
        "  print(\"len new pre...\"+str(len(new_predictions)))\n",
        "  iteration = floor(len(test_inputs)/len_recent_data)\n",
        "  while i < iteration*len_recent_data :\n",
        "      npredictions = feedback_model.predict(test_inputs[i:i+len_recent_data])\n",
        "      new_predictions = np.concatenate((new_predictions, npredictions), axis=0)\n",
        "      combined_data = np.concatenate((val_inputs, test_inputs[i:i+len_recent_data]), axis=0)\n",
        "      combined_data_labels = np.concatenate((val_labels, test_labels[i:i+len_recent_data]), axis=0)\n",
        "      window.val = window.make_dataset(combined_data[:,-1,:],64)\n",
        "      feedback_model.compile(loss=tf.keras.losses.MeanSquaredError(),\n",
        "                  optimizer=tf.keras.optimizers.Adam(learning_rate = learning_rate),\n",
        "                  metrics=[tf.keras.metrics.MeanAbsoluteError()])\n",
        "\n",
        "      history = feedback_model.fit(combined_data,combined_data_labels, epochs=7,\n",
        "                        validation_data=window.val)\n",
        "      i += len_recent_data\n",
        "      print(\"itrration.....\"+str(i))\n",
        "  print(\"last i....\"+str(i))\n",
        "  npredictions = feedback_model.predict(test_inputs[i:])\n",
        "  mse,mae = feedback_model.evaluate(test_inputs)\n",
        "  new_predictions = np.concatenate((new_predictions, npredictions), axis=0)\n",
        "  plot_target_predict(test_labels,new_predictions)\n",
        "  amount_of_profit = calculate_profit(new_predictions ,test_inputs)\n",
        "  print(\"amount of profit....dynamic LSTM...\"+str(amount_of_profit))"
      ]
    },
    {
      "cell_type": "code",
      "source": [
        "def compile_model(model,epoch):\n",
        "  history = compile_and_fit(model, multi_window,epoch)\n",
        "  predictions = model.predict(multi_window.test)\n",
        "  mse,mae = model.evaluate(multi_window.test)\n",
        "  test_inputs,test_labels = get_input_Labels(multi_window.test)\n",
        "  plot_target_predict(test_labels,predictions)\n",
        "  profit = calculate_profit(predictions,test_inputs)\n",
        "  print(\"profit....\"+str(profit))\n",
        "  print(\"mse,mae....\"+str(mse)+\", \"+str(mae))\n",
        "  return history,predictions"
      ],
      "metadata": {
        "id": "pEIjo1EMY_Q6"
      },
      "execution_count": 406,
      "outputs": []
    },
    {
      "cell_type": "code",
      "source": [
        "  def run_stacked_RNN():\n",
        "    model = stacked_RNN()\n",
        "    return model"
      ],
      "metadata": {
        "id": "py-alcooWlM1"
      },
      "execution_count": 407,
      "outputs": []
    },
    {
      "cell_type": "code",
      "source": [
        "def run_simple_RNN():\n",
        "  model = simple_RNN()\n",
        "  return model"
      ],
      "metadata": {
        "id": "40SCq7R3XBo9"
      },
      "execution_count": 408,
      "outputs": []
    },
    {
      "cell_type": "code",
      "source": [
        "def get_input_CNN(df_stock):\n",
        "  df_stock = normalize_data(df_stock)\n",
        "  df_stock = drop_zeros(df_stock)\n",
        "  train_df,val_df,test_df = spilitData(df_stock)\n",
        "  multi_window = WindowGenerator(train_df,input_width=n_steps,\n",
        "                                label_width=n_steps,\n",
        "                                shift=1)\n",
        "  multi_window.train = multi_window.make_dataset(train_df)\n",
        "  multi_window.val = multi_window.make_dataset(val_df)\n",
        "  multi_window.test = multi_window.make_dataset(test_df)\n",
        "  train_inputs,train_labels = get_input_Labels(multi_window.train)\n",
        "  val_inputs,val_labels = get_input_Labels(multi_window.val)\n",
        "  test_inputs,test_labels = get_input_Labels(multi_window.test)\n",
        "  subsequences = 4\n",
        "  timesteps = train_inputs.shape[1]//subsequences\n",
        "\n",
        "  X_train_series_sub = train_inputs.reshape((train_inputs.shape[0], subsequences, timesteps, num_features))\n",
        "  X_valid_series_sub = val_inputs.reshape((val_inputs.shape[0], subsequences, timesteps, num_features))\n",
        "  y_train_series_sub = train_inputs.reshape((train_labels.shape[0], subsequences, timesteps, num_features))\n",
        "  y_valid_series_sub = val_inputs.reshape((val_labels.shape[0], subsequences, timesteps, num_features))\n",
        "  X_test_series_sub = test_inputs.reshape((test_inputs.shape[0], subsequences, timesteps, num_features))\n",
        "  return X_train_series_sub,train_inputs,train_labels,X_valid_series_sub,val_inputs,val_labels,X_test_series_sub,test_inputs,test_labels\n"
      ],
      "metadata": {
        "id": "JqLs-8RwiDnb"
      },
      "execution_count": 409,
      "outputs": []
    },
    {
      "cell_type": "code",
      "source": [
        "def time_distributed_CNN_RNN(df_stock,epochs):\n",
        "  X_train_series_sub,train_inputs,train_labels,X_valid_series_sub,val_inputs,val_labels,X_test_series_sub,test_inputs,test_labels = get_input_CNN(df_stock)\n",
        "  layers = [tf.keras.layers.LSTMCell(units=n_neurons, activation='elu')\n",
        "          for layer in range(n_layers)]\n",
        "\n",
        "  # Create a multi-layer RNN cell\n",
        "  multi_layer_cell = tf.keras.layers.StackedRNNCells(layers)\n",
        "\n",
        "  input_layer = tf.keras.layers.Input(shape=(None, X_train_series_sub.shape[2], X_train_series_sub.shape[3]))\n",
        "  conv1d_layer = tf.keras.layers.TimeDistributed(tf.keras.layers.Conv1D(filters=64, kernel_size=4, activation='relu'))(input_layer)\n",
        "  maxpooling_layer = tf.keras.layers.TimeDistributed(tf.keras.layers.MaxPooling1D(pool_size=2))(conv1d_layer)\n",
        "  flatten_layer = tf.keras.layers.TimeDistributed(tf.keras.layers.Flatten())(maxpooling_layer)\n",
        "  lstm_layer = tf.keras.layers.LSTM(800,activation='relu')(flatten_layer)\n",
        "  output_layer = tf.keras.layers.Dense(n_steps*num_features)(lstm_layer)\n",
        "  final_layer = tf.keras.layers.Reshape([n_steps, num_features])(output_layer)\n",
        "  print(\"dense shape...\"+str(final_layer .shape))\n",
        "\n",
        "  model_cnn_lstm = tf.keras.Model(inputs=input_layer, outputs=final_layer)\n",
        "  model_cnn_lstm.compile(loss=tf.keras.losses.MeanSquaredError(),\n",
        "                  optimizer=tf.keras.optimizers.Adam(learning_rate = learning_rate),\n",
        "                  metrics=[tf.keras.metrics.MeanAbsoluteError()])\n",
        "  cnn_history = model_cnn_lstm.fit(X_train_series_sub, train_labels, validation_data=(X_valid_series_sub, val_labels), epochs=epochs,batch_size=32, verbose=2)\n",
        "  pred = model_cnn_lstm.predict(X_test_series_sub)\n",
        "  mse, mae = model_cnn_lstm.evaluate(X_test_series_sub)\n",
        "  plot_target_predict(test_labels,pred)\n",
        "  profit = calculate_profit(pred,test_inputs)\n",
        "  print(\"profit....\"+str(profit))\n",
        "  print(\"mse, mae....\"+str(mse)+\", \"+str(mae))\n",
        "  return model_cnn_lstm,cnn_history,pred"
      ],
      "metadata": {
        "id": "ZvQlN43Ygjkq"
      },
      "execution_count": 410,
      "outputs": []
    },
    {
      "cell_type": "code",
      "source": [
        "def cocatenated_CNN_RNN(df_stock,epochs):\n",
        "  X_train_series_sub,train_inputs,train_labels,X_valid_series_sub,val_inputs,val_labels,X_test_series_sub,test_inputs,test_labels = get_input_CNN(df_stock)\n",
        "  layers = [tf.keras.layers.LSTMCell(units=n_neurons, activation='elu')\n",
        "          for layer in range(n_layers)]\n",
        "\n",
        "  # Create a multi-layer RNN cell\n",
        "  multi_layer_cell = tf.keras.layers.StackedRNNCells(layers)\n",
        "\n",
        "  input_layer = tf.keras.layers.Input(shape=(train_inputs.shape[1], train_inputs.shape[2]))\n",
        "  print(\"input layer...\"+str(input_layer.shape))\n",
        "  conv1d_layer = tf.keras.layers.Conv1D(128,4,strides=1, padding='same',activation='relu')(input_layer)\n",
        "  print(\"conv1d_layer...\"+str(conv1d_layer.shape))\n",
        "  lstm_layer = tf.keras.layers.LSTM(128,activation='relu',return_sequences=True,dtype=tf.float32)(input_layer)\n",
        "  print(\"lstm_layer...\"+str(lstm_layer.shape))\n",
        "  concat = tf.keras.layers.Concatenate(axis=-1)([conv1d_layer, lstm_layer])\n",
        "  flatten_concat = tf.keras.layers.Flatten()(concat)\n",
        "  output_layer = tf.keras.layers.Dense(n_steps*num_features)(flatten_concat)\n",
        "  final_layer = tf.keras.layers.Reshape([n_steps, num_features])(output_layer)\n",
        "  print(\"dense shape...\"+str(final_layer .shape))\n",
        "\n",
        "  model_cnn_lstm = tf.keras.Model(inputs=input_layer, outputs=final_layer)\n",
        "  model_cnn_lstm.compile(loss=tf.keras.losses.MeanSquaredError(),\n",
        "                  optimizer=tf.keras.optimizers.Adam(learning_rate = learning_rate),\n",
        "                  metrics=[tf.keras.metrics.MeanAbsoluteError()])\n",
        "  cnn_history = model_cnn_lstm.fit(train_inputs, train_labels, validation_data=(val_inputs, val_labels), epochs=epochs,batch_size=50, verbose=2)\n",
        "  pred = model_cnn_lstm.predict(test_inputs)\n",
        "  mse, mae = model_cnn_lstm.evaluate(test_inputs)\n",
        "  plot_target_predict(test_labels,pred)\n",
        "  profit = calculate_profit(pred,test_inputs)\n",
        "  print(\"profit....\"+str(profit))\n",
        "  print(\"mse, mae....\"+str(mse)+\", \"+str(mae))\n",
        "  return cnn_history,pred"
      ],
      "metadata": {
        "id": "pamsVXuGglRf"
      },
      "execution_count": 411,
      "outputs": []
    },
    {
      "cell_type": "code",
      "source": [
        "def LSTM_Conv3d(df_stock,epochs):\n",
        "  X_train_series_sub,train_inputs,train_labels,X_valid_series_sub,val_inputs,val_labels,X_test_series_sub,test_inputs,test_labels = get_input_CNN(df_stock)\n",
        "  layers = [tf.keras.layers.LSTMCell(units=n_neurons, activation='elu')\n",
        "          for layer in range(n_layers)]\n",
        "\n",
        "  # Create a multi-layer RNN cell\n",
        "  multi_layer_cell = tf.keras.layers.StackedRNNCells(layers)\n",
        "\n",
        "\n",
        "  input_layer = tf.keras.layers.Input(shape=(train_inputs.shape[1], train_inputs.shape[2]))\n",
        "\n",
        "  rnn1 = tf.keras.layers.SimpleRNN(units=50, activation='tanh',return_sequences=True)(input_layer)\n",
        "  rnn1 = tf.keras.layers.Dropout(0.2)(rnn1)\n",
        "  rnn2 = tf.keras.layers.SimpleRNN(units=50, activation='tanh',return_sequences=True)(rnn1)\n",
        "  rnn2 = tf.keras.layers.Dropout(0.2)(rnn2)\n",
        "  rnn3 = tf.keras.layers.SimpleRNN(units=50, activation='tanh',return_sequences=True)(rnn2)\n",
        "  rnn3 = tf.keras.layers.Dropout(0.2)(rnn3)\n",
        "  rnn4 = tf.keras.layers.SimpleRNN(units=50, activation='tanh',return_sequences=True)(rnn3)\n",
        "  rnn4 = tf.keras.layers.Dropout(0.2)(rnn4)\n",
        "  print(\"input layer...\"+str(input_layer.shape))\n",
        "  conv1d_layer = tf.keras.layers.Conv1D(128,4,strides=1, padding='same',activation='relu')(rnn4)\n",
        "  conv1d_layer = tf.keras.layers.Flatten()(conv1d_layer)\n",
        "  conv1d_layer = tf.keras.layers.Reshape([32,10,8])(conv1d_layer)\n",
        "  conv2d_layer = tf.keras.layers.Conv2D(128,4,strides=1, padding='same',activation='relu')(conv1d_layer)\n",
        "  conv2d_layer = tf.keras.layers.Flatten()(conv2d_layer)\n",
        "  conv2d_layer = tf.keras.layers.Reshape([32,16,10,8])(conv2d_layer)\n",
        "  conv3d_layer = tf.keras.layers.Conv3D(128,4,strides=1, padding='same',activation='relu')(conv2d_layer)\n",
        "\n",
        "  flatten_concat = tf.keras.layers.Flatten()(conv3d_layer)\n",
        "  output_layer = tf.keras.layers.Dense(n_steps*num_features)(flatten_concat)\n",
        "  final_layer = tf.keras.layers.Reshape([n_steps, num_features])(output_layer)\n",
        "  print(\"dense shape...\"+str(final_layer .shape))\n",
        "\n",
        "  model_cnn_lstm = tf.keras.Model(inputs=input_layer, outputs=final_layer)\n",
        "  model_cnn_lstm.compile(loss=tf.keras.losses.MeanSquaredError(),\n",
        "                  optimizer=tf.keras.optimizers.Adam(learning_rate = learning_rate),\n",
        "                  metrics=[tf.keras.metrics.MeanAbsoluteError()])\n",
        "  cnn_history = model_cnn_lstm.fit(train_inputs, train_labels, validation_data=(val_inputs, val_labels), epochs=epochs,batch_size=50, verbose=2)\n",
        "  pred = model_cnn_lstm.predict(test_inputs)\n",
        "  mse, mae = model_cnn_lstm.evaluate(test_inputs)\n",
        "  plot_target_predict(test_labels,pred)\n",
        "  profit = calculate_profit(pred,test_inputs)\n",
        "  print(\"profit....\"+str(profit))\n",
        "  print(\"mse, mae....\"+str(mse)+\", \"+str(mae))\n",
        "  return cnn_history,pred\n"
      ],
      "metadata": {
        "id": "gcHM1YR6UJrJ"
      },
      "execution_count": 412,
      "outputs": []
    },
    {
      "cell_type": "code",
      "source": [
        "def time_distributed_Concatenated(df_stock,epochs):\n",
        "  X_train_series_sub,train_inputs,train_labels,X_valid_series_sub,val_inputs,val_labels,X_test_series_sub,test_inputs,test_labels = get_input_CNN(df_stock)\n",
        "  layers = [tf.keras.layers.LSTMCell(units=n_neurons, activation='elu')\n",
        "          for layer in range(n_layers)]\n",
        "\n",
        "  # Create a multi-layer RNN cell\n",
        "  multi_layer_cell = tf.keras.layers.StackedRNNCells(layers)\n",
        "\n",
        "  input_layer = tf.keras.layers.Input(shape=(None, X_train_series_sub.shape[2], X_train_series_sub.shape[3]))\n",
        "  conv1d_layer = tf.keras.layers.TimeDistributed(tf.keras.layers.Conv1D(filters=64, kernel_size=3, activation='relu'))(input_layer)\n",
        "  maxpooling_layer = tf.keras.layers.TimeDistributed(tf.keras.layers.MaxPooling1D(pool_size=2))(conv1d_layer)\n",
        "  flatten_layer = tf.keras.layers.TimeDistributed(tf.keras.layers.Flatten())(maxpooling_layer)\n",
        "  lstm_layer = tf.keras.layers.LSTM(800,activation='relu')(flatten_layer)\n",
        "  final_layer1 = tf.keras.layers.Flatten()(lstm_layer)\n",
        "\n",
        "  input_layer2 = tf.keras.layers.Reshape([n_steps, num_features])(input_layer)\n",
        "  conv1d_layer = tf.keras.layers.Conv1D(128,4,strides=1, padding='same',activation='relu')(input_layer2)\n",
        "  print(\"conv1d_layer...\"+str(conv1d_layer.shape))\n",
        "\n",
        "  lstm_layer = tf.keras.layers.LSTM(128,return_sequences=True,activation='relu')(input_layer2)\n",
        "  attention = Attention()([lstm_layer, conv1d_layer])\n",
        "  concat = tf.keras.layers.Concatenate(axis=-1)([attention, lstm_layer])\n",
        "  flatten_concat = tf.keras.layers.Flatten()(concat)\n",
        "\n",
        "  concat = tf.keras.layers.Concatenate(axis=-1)([flatten_concat, final_layer1])\n",
        "  flatten_concat = tf.keras.layers.Flatten()(concat)\n",
        "  output_layer = tf.keras.layers.Dense(n_steps*num_features)(flatten_concat)\n",
        "  final_layer2 = tf.keras.layers.Reshape([n_steps, num_features])(output_layer)\n",
        "  print(\"dense shape...\"+str(final_layer2 .shape))\n",
        "\n",
        "  model_cnn_lstm = tf.keras.Model(inputs=input_layer, outputs=final_layer2)\n",
        "  model_cnn_lstm.compile(loss=tf.keras.losses.MeanSquaredError(),\n",
        "                  optimizer=tf.keras.optimizers.Adam(learning_rate = learning_rate),\n",
        "                  metrics=[tf.keras.metrics.MeanAbsoluteError()])\n",
        "  cnn_history = model_cnn_lstm.fit(X_train_series_sub, train_labels, validation_data=(X_valid_series_sub, val_labels), epochs=epochs,batch_size=50, verbose=2)\n",
        "  pred = model_cnn_lstm.predict(X_test_series_sub)\n",
        "  mse, mae = model_cnn_lstm.evaluate(X_test_series_sub)\n",
        "  plot_target_predict(test_labels,pred)\n",
        "  profit = calculate_profit(pred,test_inputs)\n",
        "  print(\"profit....\"+str(profit))\n",
        "  print(\"mse, mae....\"+str(mse)+\", \"+str(mae))\n",
        "  return  cnn_history,pred"
      ],
      "metadata": {
        "id": "-InAFRCwUTf5"
      },
      "execution_count": 413,
      "outputs": []
    },
    {
      "cell_type": "markdown",
      "source": [
        "**Results of Stacked RNN in different currency pairs:**"
      ],
      "metadata": {
        "id": "ZqgU6q4HaNDM"
      }
    },
    {
      "cell_type": "code",
      "source": [
        "df_stock = yf.download('EURUSD=X','2003-12-01','2023-11-01')\n"
      ],
      "metadata": {
        "colab": {
          "base_uri": "https://localhost:8080/"
        },
        "id": "UgJeIM7fXj9C",
        "outputId": "322d661d-69fb-48f4-ce63-a0554b474beb"
      },
      "execution_count": 414,
      "outputs": [
        {
          "output_type": "stream",
          "name": "stdout",
          "text": [
            "\r[*********************100%%**********************]  1 of 1 completed\n"
          ]
        }
      ]
    },
    {
      "cell_type": "code",
      "source": [
        "df_stock = normalize_data(df_stock)\n",
        "train_df,val_df,test_df = spilitData(df_stock)\n",
        "train_df = train_df.values\n",
        "val_df = val_df.values\n",
        "test_df = test_df.values\n",
        "x_train = []\n",
        "y_train = []\n",
        "x_val = []\n",
        "y_val = []\n",
        "x_test = []\n",
        "y_test = []\n",
        "for i in range(n_steps,len(train_df)):\n",
        "  x_train.append(train_df[i-n_steps:i])\n",
        "  y_train.append(train_df[i])\n",
        "x_train = np.array(x_train)\n",
        "y_train = np.array(y_train)\n",
        "for i in range(n_steps,len(val_df)):\n",
        "  x_val.append(val_df[i-n_steps:i])\n",
        "  y_val.append(val_df[i])\n",
        "x_val = np.array(x_val)\n",
        "y_val = np.array(y_val)\n",
        "for i in range(n_steps,len(test_df)):\n",
        "  x_test.append(test_df[i-n_steps:i])\n",
        "  y_test.append(test_df[i])\n",
        "x_test = np.array(x_test)\n",
        "y_test = np.array(y_test)\n"
      ],
      "metadata": {
        "id": "7iOu25Rk65aW"
      },
      "execution_count": 66,
      "outputs": []
    },
    {
      "cell_type": "code",
      "source": [
        "model = run_simple_RNN()\n",
        "model.compile(loss=tf.keras.losses.MeanSquaredError(),\n",
        "                  optimizer=tf.keras.optimizers.Adam(learning_rate = 0.0001),\n",
        "                  metrics=[tf.keras.metrics.MeanAbsoluteError()])\n",
        "\n",
        "history = model.fit(x_train, y_train, validation_data=(x_val, y_val), epochs=100,batch_size=50, verbose=2)"
      ],
      "metadata": {
        "colab": {
          "base_uri": "https://localhost:8080/"
        },
        "id": "vK7WTf7qYqlN",
        "outputId": "a2bffc9b-7283-4735-98a3-85daade74293"
      },
      "execution_count": null,
      "outputs": [
        {
          "output_type": "stream",
          "name": "stdout",
          "text": [
            "Epoch 1/100\n",
            "129/129 - 29s - loss: 1.1261 - mean_absolute_error: 0.8678 - val_loss: 0.3788 - val_mean_absolute_error: 0.5414 - 29s/epoch - 228ms/step\n",
            "Epoch 2/100\n",
            "129/129 - 9s - loss: 0.7587 - mean_absolute_error: 0.7010 - val_loss: 0.1728 - val_mean_absolute_error: 0.3798 - 9s/epoch - 66ms/step\n",
            "Epoch 3/100\n",
            "129/129 - 10s - loss: 0.6120 - mean_absolute_error: 0.6266 - val_loss: 0.1062 - val_mean_absolute_error: 0.2778 - 10s/epoch - 75ms/step\n",
            "Epoch 4/100\n",
            "129/129 - 7s - loss: 0.5301 - mean_absolute_error: 0.5816 - val_loss: 0.0948 - val_mean_absolute_error: 0.2280 - 7s/epoch - 57ms/step\n",
            "Epoch 5/100\n",
            "129/129 - 9s - loss: 0.4858 - mean_absolute_error: 0.5565 - val_loss: 0.0958 - val_mean_absolute_error: 0.2548 - 9s/epoch - 73ms/step\n",
            "Epoch 6/100\n",
            "129/129 - 9s - loss: 0.4592 - mean_absolute_error: 0.5409 - val_loss: 0.1013 - val_mean_absolute_error: 0.2815 - 9s/epoch - 73ms/step\n",
            "Epoch 7/100\n",
            "129/129 - 7s - loss: 0.4530 - mean_absolute_error: 0.5362 - val_loss: 0.0952 - val_mean_absolute_error: 0.2833 - 7s/epoch - 56ms/step\n",
            "Epoch 8/100\n"
          ]
        }
      ]
    },
    {
      "cell_type": "code",
      "source": [
        "model.summary()"
      ],
      "metadata": {
        "colab": {
          "base_uri": "https://localhost:8080/"
        },
        "id": "kfgBi_-ZPd4x",
        "outputId": "45481d7d-4494-4000-f9c0-845a5da53890"
      },
      "execution_count": null,
      "outputs": [
        {
          "output_type": "stream",
          "name": "stdout",
          "text": [
            "Model: \"sequential\"\n",
            "_________________________________________________________________\n",
            " Layer (type)                Output Shape              Param #   \n",
            "=================================================================\n",
            " simple_rnn (SimpleRNN)      (None, 20, 50)            2850      \n",
            "                                                                 \n",
            " dropout_1 (Dropout)         (None, 20, 50)            0         \n",
            "                                                                 \n",
            " simple_rnn_1 (SimpleRNN)    (None, 20, 50)            5050      \n",
            "                                                                 \n",
            " dropout_2 (Dropout)         (None, 20, 50)            0         \n",
            "                                                                 \n",
            " simple_rnn_2 (SimpleRNN)    (None, 20, 50)            5050      \n",
            "                                                                 \n",
            " dropout_3 (Dropout)         (None, 20, 50)            0         \n",
            "                                                                 \n",
            " simple_rnn_3 (SimpleRNN)    (None, 50)                5050      \n",
            "                                                                 \n",
            " dropout_4 (Dropout)         (None, 50)                0         \n",
            "                                                                 \n",
            " dense_1 (Dense)             (None, 6)                 306       \n",
            "                                                                 \n",
            "=================================================================\n",
            "Total params: 18306 (71.51 KB)\n",
            "Trainable params: 18306 (71.51 KB)\n",
            "Non-trainable params: 0 (0.00 Byte)\n",
            "_________________________________________________________________\n"
          ]
        }
      ]
    },
    {
      "cell_type": "code",
      "source": [
        "\n",
        "  pred = model.predict(x_test)\n",
        "  mse, mae = model.evaluate(x_test)\n",
        "  comp = pd.DataFrame({'Column1':y_test[:,:][:,3],'Column2':pred[:,:][:,3]})\n",
        "  plt.figure(figsize=(20,5))\n",
        "  plt.plot(comp['Column1'], color='orange', label='Target')\n",
        "  plt.plot(comp['Column2'], color='red', label='Prediction')\n",
        "  plt.legend()\n",
        "  plt.show()\n"
      ],
      "metadata": {
        "id": "sUH3i_hFC1_Y",
        "colab": {
          "base_uri": "https://localhost:8080/",
          "height": 480
        },
        "outputId": "ca34c07e-b350-44d5-b7e7-b768c3f1e5e4"
      },
      "execution_count": null,
      "outputs": [
        {
          "output_type": "stream",
          "name": "stdout",
          "text": [
            "16/16 [==============================] - 0s 26ms/step\n",
            "16/16 [==============================] - 0s 19ms/step - loss: 0.0000e+00 - mean_absolute_error: 0.0000e+00\n"
          ]
        },
        {
          "output_type": "display_data",
          "data": {
            "text/plain": [
              "<Figure size 2000x500 with 1 Axes>"
            ],
            "image/png": "[encoded data removed]"
          },
          "metadata": {}
        }
      ]
    },
    {
      "cell_type": "code",
      "source": [
        "model = run_stacked_RNN()\n",
        "history,predictions = compile_model(model,100)"
      ],
      "metadata": {
        "id": "cOj3ItqhXPXv"
      },
      "execution_count": null,
      "outputs": []
    },
    {
      "cell_type": "code",
      "source": [
        "history,predictions = compile_model(feedback_model,100)"
      ],
      "metadata": {
        "id": "ryB0xSnmexbV"
      },
      "execution_count": null,
      "outputs": []
    },
    {
      "cell_type": "code",
      "source": [
        "model,history,predictions = time_distributed_CNN_RNN(df_stock,300)"
      ],
      "metadata": {
        "colab": {
          "base_uri": "https://localhost:8080/",
          "height": 175
        },
        "id": "iyVcRF8aguZh",
        "outputId": "5eb53507-c03e-4fbc-c983-a07afa47ab7d"
      },
      "execution_count": 1,
      "outputs": [
        {
          "output_type": "error",
          "ename": "NameError",
          "evalue": "ignored",
          "traceback": [
            "\u001b[0;31m---------------------------------------------------------------------------\u001b[0m",
            "\u001b[0;31mNameError\u001b[0m                                 Traceback (most recent call last)",
            "\u001b[0;32m<ipython-input-1-cebc45046c4c>\u001b[0m in \u001b[0;36m<cell line: 1>\u001b[0;34m()\u001b[0m\n\u001b[0;32m----> 1\u001b[0;31m \u001b[0mmodel\u001b[0m\u001b[0;34m,\u001b[0m\u001b[0mhistory\u001b[0m\u001b[0;34m,\u001b[0m\u001b[0mpredictions\u001b[0m \u001b[0;34m=\u001b[0m \u001b[0mtime_distributed_CNN_RNN\u001b[0m\u001b[0;34m(\u001b[0m\u001b[0mdf_stock\u001b[0m\u001b[0;34m,\u001b[0m\u001b[0;36m300\u001b[0m\u001b[0;34m)\u001b[0m\u001b[0;34m\u001b[0m\u001b[0;34m\u001b[0m\u001b[0m\n\u001b[0m",
            "\u001b[0;31mNameError\u001b[0m: name 'time_distributed_CNN_RNN' is not defined"
          ]
        }
      ]
    },
    {
      "cell_type": "code",
      "source": [
        "history,predictions = cocatenated_CNN_RNN(df_stock,300)"
      ],
      "metadata": {
        "colab": {
          "base_uri": "https://localhost:8080/",
          "height": 876
        },
        "id": "_a32asxwi7YL",
        "outputId": "e5c4ae9d-e846-4c4e-d931-d8ba47e4a6b2"
      },
      "execution_count": 36,
      "outputs": [
        {
          "output_type": "stream",
          "name": "stdout",
          "text": [
            "Removed Rows:\n",
            "                Open      High       Low     Close  Adj Close  Volume\n",
            "Date                                                                 \n",
            "2008-03-17  0.963385  0.980316  0.000000  0.962460   1.574803       0\n",
            "2022-09-27  0.004310  0.000000  0.585375  0.004306   0.962371       0\n",
            "2022-09-28  0.000000  0.002549  0.581785  0.000000   0.959619       0\n"
          ]
        },
        {
          "output_type": "stream",
          "name": "stderr",
          "text": [
            "WARNING:tensorflow:Layer lstm_5 will not use cuDNN kernels since it doesn't meet the criteria. It will use a generic GPU kernel as fallback when running on GPU.\n"
          ]
        },
        {
          "output_type": "stream",
          "name": "stdout",
          "text": [
            "input layer...(None, 20, 6)\n",
            "conv1d_layer...(None, 20, 128)\n",
            "lstm_layer...(None, 20, 128)\n",
            "dense shape...(None, 20, 6)\n",
            "Epoch 1/300\n",
            "83/83 - 5s - loss: 0.0692 - mean_absolute_error: 0.1423 - val_loss: 0.0028 - val_mean_absolute_error: 0.0399 - 5s/epoch - 64ms/step\n",
            "Epoch 2/300\n",
            "83/83 - 3s - loss: 8.0574e-04 - mean_absolute_error: 0.0177 - val_loss: 1.3193e-04 - val_mean_absolute_error: 0.0079 - 3s/epoch - 32ms/step\n",
            "Epoch 3/300\n",
            "83/83 - 3s - loss: 3.2339e-04 - mean_absolute_error: 0.0114 - val_loss: 1.1777e-04 - val_mean_absolute_error: 0.0073 - 3s/epoch - 32ms/step\n",
            "Epoch 4/300\n",
            "83/83 - 3s - loss: 2.9588e-04 - mean_absolute_error: 0.0109 - val_loss: 1.0753e-04 - val_mean_absolute_error: 0.0070 - 3s/epoch - 39ms/step\n",
            "Epoch 5/300\n",
            "83/83 - 4s - loss: 2.7481e-04 - mean_absolute_error: 0.0104 - val_loss: 9.7956e-05 - val_mean_absolute_error: 0.0066 - 4s/epoch - 43ms/step\n",
            "Epoch 6/300\n",
            "83/83 - 3s - loss: 2.5105e-04 - mean_absolute_error: 0.0099 - val_loss: 9.5454e-05 - val_mean_absolute_error: 0.0066 - 3s/epoch - 33ms/step\n",
            "Epoch 7/300\n",
            "83/83 - 3s - loss: 2.2766e-04 - mean_absolute_error: 0.0094 - val_loss: 7.9407e-05 - val_mean_absolute_error: 0.0060 - 3s/epoch - 33ms/step\n",
            "Epoch 8/300\n",
            "83/83 - 3s - loss: 2.0526e-04 - mean_absolute_error: 0.0089 - val_loss: 7.1613e-05 - val_mean_absolute_error: 0.0057 - 3s/epoch - 32ms/step\n",
            "Epoch 9/300\n",
            "83/83 - 4s - loss: 1.8562e-04 - mean_absolute_error: 0.0084 - val_loss: 6.4622e-05 - val_mean_absolute_error: 0.0054 - 4s/epoch - 54ms/step\n",
            "Epoch 10/300\n",
            "83/83 - 3s - loss: 1.6933e-04 - mean_absolute_error: 0.0080 - val_loss: 5.8733e-05 - val_mean_absolute_error: 0.0051 - 3s/epoch - 33ms/step\n",
            "Epoch 11/300\n"
          ]
        },
        {
          "output_type": "error",
          "ename": "KeyboardInterrupt",
          "evalue": "ignored",
          "traceback": [
            "\u001b[0;31m---------------------------------------------------------------------------\u001b[0m",
            "\u001b[0;31mKeyboardInterrupt\u001b[0m                         Traceback (most recent call last)",
            "\u001b[0;32m<ipython-input-36-f519eca1ee23>\u001b[0m in \u001b[0;36m<cell line: 1>\u001b[0;34m()\u001b[0m\n\u001b[0;32m----> 1\u001b[0;31m \u001b[0mhistory\u001b[0m\u001b[0;34m,\u001b[0m\u001b[0mpredictions\u001b[0m \u001b[0;34m=\u001b[0m \u001b[0mcocatenated_CNN_RNN\u001b[0m\u001b[0;34m(\u001b[0m\u001b[0mdf_stock\u001b[0m\u001b[0;34m,\u001b[0m\u001b[0;36m300\u001b[0m\u001b[0;34m)\u001b[0m\u001b[0;34m\u001b[0m\u001b[0;34m\u001b[0m\u001b[0m\n\u001b[0m",
            "\u001b[0;32m<ipython-input-27-0adc741f1c59>\u001b[0m in \u001b[0;36mcocatenated_CNN_RNN\u001b[0;34m(df_stock, epochs)\u001b[0m\n\u001b[1;32m     23\u001b[0m                   \u001b[0moptimizer\u001b[0m\u001b[0;34m=\u001b[0m\u001b[0mtf\u001b[0m\u001b[0;34m.\u001b[0m\u001b[0mkeras\u001b[0m\u001b[0;34m.\u001b[0m\u001b[0moptimizers\u001b[0m\u001b[0;34m.\u001b[0m\u001b[0mAdam\u001b[0m\u001b[0;34m(\u001b[0m\u001b[0mlearning_rate\u001b[0m \u001b[0;34m=\u001b[0m \u001b[0mlearning_rate\u001b[0m\u001b[0;34m)\u001b[0m\u001b[0;34m,\u001b[0m\u001b[0;34m\u001b[0m\u001b[0;34m\u001b[0m\u001b[0m\n\u001b[1;32m     24\u001b[0m                   metrics=[tf.keras.metrics.MeanAbsoluteError()])\n\u001b[0;32m---> 25\u001b[0;31m   \u001b[0mcnn_history\u001b[0m \u001b[0;34m=\u001b[0m \u001b[0mmodel_cnn_lstm\u001b[0m\u001b[0;34m.\u001b[0m\u001b[0mfit\u001b[0m\u001b[0;34m(\u001b[0m\u001b[0mtrain_inputs\u001b[0m\u001b[0;34m,\u001b[0m \u001b[0mtrain_labels\u001b[0m\u001b[0;34m,\u001b[0m \u001b[0mvalidation_data\u001b[0m\u001b[0;34m=\u001b[0m\u001b[0;34m(\u001b[0m\u001b[0mval_inputs\u001b[0m\u001b[0;34m,\u001b[0m \u001b[0mval_labels\u001b[0m\u001b[0;34m)\u001b[0m\u001b[0;34m,\u001b[0m \u001b[0mepochs\u001b[0m\u001b[0;34m=\u001b[0m\u001b[0mepochs\u001b[0m\u001b[0;34m,\u001b[0m\u001b[0mbatch_size\u001b[0m\u001b[0;34m=\u001b[0m\u001b[0;36m50\u001b[0m\u001b[0;34m,\u001b[0m \u001b[0mverbose\u001b[0m\u001b[0;34m=\u001b[0m\u001b[0;36m2\u001b[0m\u001b[0;34m)\u001b[0m\u001b[0;34m\u001b[0m\u001b[0;34m\u001b[0m\u001b[0m\n\u001b[0m\u001b[1;32m     26\u001b[0m   \u001b[0mpred\u001b[0m \u001b[0;34m=\u001b[0m \u001b[0mmodel_cnn_lstm\u001b[0m\u001b[0;34m.\u001b[0m\u001b[0mpredict\u001b[0m\u001b[0;34m(\u001b[0m\u001b[0mtest_inputs\u001b[0m\u001b[0;34m)\u001b[0m\u001b[0;34m\u001b[0m\u001b[0;34m\u001b[0m\u001b[0m\n\u001b[1;32m     27\u001b[0m   \u001b[0mmse\u001b[0m\u001b[0;34m,\u001b[0m \u001b[0mmae\u001b[0m \u001b[0;34m=\u001b[0m \u001b[0mmodel_cnn_lstm\u001b[0m\u001b[0;34m.\u001b[0m\u001b[0mevaluate\u001b[0m\u001b[0;34m(\u001b[0m\u001b[0mtest_inputs\u001b[0m\u001b[0;34m)\u001b[0m\u001b[0;34m\u001b[0m\u001b[0;34m\u001b[0m\u001b[0m\n",
            "\u001b[0;32m/usr/local/lib/python3.10/dist-packages/keras/src/utils/traceback_utils.py\u001b[0m in \u001b[0;36merror_handler\u001b[0;34m(*args, **kwargs)\u001b[0m\n\u001b[1;32m     63\u001b[0m         \u001b[0mfiltered_tb\u001b[0m \u001b[0;34m=\u001b[0m \u001b[0;32mNone\u001b[0m\u001b[0;34m\u001b[0m\u001b[0;34m\u001b[0m\u001b[0m\n\u001b[1;32m     64\u001b[0m         \u001b[0;32mtry\u001b[0m\u001b[0;34m:\u001b[0m\u001b[0;34m\u001b[0m\u001b[0;34m\u001b[0m\u001b[0m\n\u001b[0;32m---> 65\u001b[0;31m             \u001b[0;32mreturn\u001b[0m \u001b[0mfn\u001b[0m\u001b[0;34m(\u001b[0m\u001b[0;34m*\u001b[0m\u001b[0margs\u001b[0m\u001b[0;34m,\u001b[0m \u001b[0;34m**\u001b[0m\u001b[0mkwargs\u001b[0m\u001b[0;34m)\u001b[0m\u001b[0;34m\u001b[0m\u001b[0;34m\u001b[0m\u001b[0m\n\u001b[0m\u001b[1;32m     66\u001b[0m         \u001b[0;32mexcept\u001b[0m \u001b[0mException\u001b[0m \u001b[0;32mas\u001b[0m \u001b[0me\u001b[0m\u001b[0;34m:\u001b[0m\u001b[0;34m\u001b[0m\u001b[0;34m\u001b[0m\u001b[0m\n\u001b[1;32m     67\u001b[0m             \u001b[0mfiltered_tb\u001b[0m \u001b[0;34m=\u001b[0m \u001b[0m_process_traceback_frames\u001b[0m\u001b[0;34m(\u001b[0m\u001b[0me\u001b[0m\u001b[0;34m.\u001b[0m\u001b[0m__traceback__\u001b[0m\u001b[0;34m)\u001b[0m\u001b[0;34m\u001b[0m\u001b[0;34m\u001b[0m\u001b[0m\n",
            "\u001b[0;32m/usr/local/lib/python3.10/dist-packages/keras/src/engine/training.py\u001b[0m in \u001b[0;36mfit\u001b[0;34m(self, x, y, batch_size, epochs, verbose, callbacks, validation_split, validation_data, shuffle, class_weight, sample_weight, initial_epoch, steps_per_epoch, validation_steps, validation_batch_size, validation_freq, max_queue_size, workers, use_multiprocessing)\u001b[0m\n\u001b[1;32m   1781\u001b[0m                         ):\n\u001b[1;32m   1782\u001b[0m                             \u001b[0mcallbacks\u001b[0m\u001b[0;34m.\u001b[0m\u001b[0mon_train_batch_begin\u001b[0m\u001b[0;34m(\u001b[0m\u001b[0mstep\u001b[0m\u001b[0;34m)\u001b[0m\u001b[0;34m\u001b[0m\u001b[0;34m\u001b[0m\u001b[0m\n\u001b[0;32m-> 1783\u001b[0;31m                             \u001b[0mtmp_logs\u001b[0m \u001b[0;34m=\u001b[0m \u001b[0mself\u001b[0m\u001b[0;34m.\u001b[0m\u001b[0mtrain_function\u001b[0m\u001b[0;34m(\u001b[0m\u001b[0miterator\u001b[0m\u001b[0;34m)\u001b[0m\u001b[0;34m\u001b[0m\u001b[0;34m\u001b[0m\u001b[0m\n\u001b[0m\u001b[1;32m   1784\u001b[0m                             \u001b[0;32mif\u001b[0m \u001b[0mdata_handler\u001b[0m\u001b[0;34m.\u001b[0m\u001b[0mshould_sync\u001b[0m\u001b[0;34m:\u001b[0m\u001b[0;34m\u001b[0m\u001b[0;34m\u001b[0m\u001b[0m\n\u001b[1;32m   1785\u001b[0m                                 \u001b[0mcontext\u001b[0m\u001b[0;34m.\u001b[0m\u001b[0masync_wait\u001b[0m\u001b[0;34m(\u001b[0m\u001b[0;34m)\u001b[0m\u001b[0;34m\u001b[0m\u001b[0;34m\u001b[0m\u001b[0m\n",
            "\u001b[0;32m/usr/local/lib/python3.10/dist-packages/tensorflow/python/util/traceback_utils.py\u001b[0m in \u001b[0;36merror_handler\u001b[0;34m(*args, **kwargs)\u001b[0m\n\u001b[1;32m    148\u001b[0m     \u001b[0mfiltered_tb\u001b[0m \u001b[0;34m=\u001b[0m \u001b[0;32mNone\u001b[0m\u001b[0;34m\u001b[0m\u001b[0;34m\u001b[0m\u001b[0m\n\u001b[1;32m    149\u001b[0m     \u001b[0;32mtry\u001b[0m\u001b[0;34m:\u001b[0m\u001b[0;34m\u001b[0m\u001b[0;34m\u001b[0m\u001b[0m\n\u001b[0;32m--> 150\u001b[0;31m       \u001b[0;32mreturn\u001b[0m \u001b[0mfn\u001b[0m\u001b[0;34m(\u001b[0m\u001b[0;34m*\u001b[0m\u001b[0margs\u001b[0m\u001b[0;34m,\u001b[0m \u001b[0;34m**\u001b[0m\u001b[0mkwargs\u001b[0m\u001b[0;34m)\u001b[0m\u001b[0;34m\u001b[0m\u001b[0;34m\u001b[0m\u001b[0m\n\u001b[0m\u001b[1;32m    151\u001b[0m     \u001b[0;32mexcept\u001b[0m \u001b[0mException\u001b[0m \u001b[0;32mas\u001b[0m \u001b[0me\u001b[0m\u001b[0;34m:\u001b[0m\u001b[0;34m\u001b[0m\u001b[0;34m\u001b[0m\u001b[0m\n\u001b[1;32m    152\u001b[0m       \u001b[0mfiltered_tb\u001b[0m \u001b[0;34m=\u001b[0m \u001b[0m_process_traceback_frames\u001b[0m\u001b[0;34m(\u001b[0m\u001b[0me\u001b[0m\u001b[0;34m.\u001b[0m\u001b[0m__traceback__\u001b[0m\u001b[0;34m)\u001b[0m\u001b[0;34m\u001b[0m\u001b[0;34m\u001b[0m\u001b[0m\n",
            "\u001b[0;32m/usr/local/lib/python3.10/dist-packages/tensorflow/python/eager/polymorphic_function/polymorphic_function.py\u001b[0m in \u001b[0;36m__call__\u001b[0;34m(self, *args, **kwds)\u001b[0m\n\u001b[1;32m    829\u001b[0m \u001b[0;34m\u001b[0m\u001b[0m\n\u001b[1;32m    830\u001b[0m       \u001b[0;32mwith\u001b[0m \u001b[0mOptionalXlaContext\u001b[0m\u001b[0;34m(\u001b[0m\u001b[0mself\u001b[0m\u001b[0;34m.\u001b[0m\u001b[0m_jit_compile\u001b[0m\u001b[0;34m)\u001b[0m\u001b[0;34m:\u001b[0m\u001b[0;34m\u001b[0m\u001b[0;34m\u001b[0m\u001b[0m\n\u001b[0;32m--> 831\u001b[0;31m         \u001b[0mresult\u001b[0m \u001b[0;34m=\u001b[0m \u001b[0mself\u001b[0m\u001b[0;34m.\u001b[0m\u001b[0m_call\u001b[0m\u001b[0;34m(\u001b[0m\u001b[0;34m*\u001b[0m\u001b[0margs\u001b[0m\u001b[0;34m,\u001b[0m \u001b[0;34m**\u001b[0m\u001b[0mkwds\u001b[0m\u001b[0;34m)\u001b[0m\u001b[0;34m\u001b[0m\u001b[0;34m\u001b[0m\u001b[0m\n\u001b[0m\u001b[1;32m    832\u001b[0m \u001b[0;34m\u001b[0m\u001b[0m\n\u001b[1;32m    833\u001b[0m       \u001b[0mnew_tracing_count\u001b[0m \u001b[0;34m=\u001b[0m \u001b[0mself\u001b[0m\u001b[0;34m.\u001b[0m\u001b[0mexperimental_get_tracing_count\u001b[0m\u001b[0;34m(\u001b[0m\u001b[0;34m)\u001b[0m\u001b[0;34m\u001b[0m\u001b[0;34m\u001b[0m\u001b[0m\n",
            "\u001b[0;32m/usr/local/lib/python3.10/dist-packages/tensorflow/python/eager/polymorphic_function/polymorphic_function.py\u001b[0m in \u001b[0;36m_call\u001b[0;34m(self, *args, **kwds)\u001b[0m\n\u001b[1;32m    865\u001b[0m       \u001b[0;31m# In this case we have created variables on the first call, so we run the\u001b[0m\u001b[0;34m\u001b[0m\u001b[0;34m\u001b[0m\u001b[0m\n\u001b[1;32m    866\u001b[0m       \u001b[0;31m# defunned version which is guaranteed to never create variables.\u001b[0m\u001b[0;34m\u001b[0m\u001b[0;34m\u001b[0m\u001b[0m\n\u001b[0;32m--> 867\u001b[0;31m       return tracing_compilation.call_function(\n\u001b[0m\u001b[1;32m    868\u001b[0m           \u001b[0margs\u001b[0m\u001b[0;34m,\u001b[0m \u001b[0mkwds\u001b[0m\u001b[0;34m,\u001b[0m \u001b[0mself\u001b[0m\u001b[0;34m.\u001b[0m\u001b[0m_no_variable_creation_config\u001b[0m\u001b[0;34m\u001b[0m\u001b[0;34m\u001b[0m\u001b[0m\n\u001b[1;32m    869\u001b[0m       )\n",
            "\u001b[0;32m/usr/local/lib/python3.10/dist-packages/tensorflow/python/eager/polymorphic_function/tracing_compilation.py\u001b[0m in \u001b[0;36mcall_function\u001b[0;34m(args, kwargs, tracing_options)\u001b[0m\n\u001b[1;32m    137\u001b[0m   \u001b[0mbound_args\u001b[0m \u001b[0;34m=\u001b[0m \u001b[0mfunction\u001b[0m\u001b[0;34m.\u001b[0m\u001b[0mfunction_type\u001b[0m\u001b[0;34m.\u001b[0m\u001b[0mbind\u001b[0m\u001b[0;34m(\u001b[0m\u001b[0;34m*\u001b[0m\u001b[0margs\u001b[0m\u001b[0;34m,\u001b[0m \u001b[0;34m**\u001b[0m\u001b[0mkwargs\u001b[0m\u001b[0;34m)\u001b[0m\u001b[0;34m\u001b[0m\u001b[0;34m\u001b[0m\u001b[0m\n\u001b[1;32m    138\u001b[0m   \u001b[0mflat_inputs\u001b[0m \u001b[0;34m=\u001b[0m \u001b[0mfunction\u001b[0m\u001b[0;34m.\u001b[0m\u001b[0mfunction_type\u001b[0m\u001b[0;34m.\u001b[0m\u001b[0munpack_inputs\u001b[0m\u001b[0;34m(\u001b[0m\u001b[0mbound_args\u001b[0m\u001b[0;34m)\u001b[0m\u001b[0;34m\u001b[0m\u001b[0;34m\u001b[0m\u001b[0m\n\u001b[0;32m--> 139\u001b[0;31m   return function._call_flat(  # pylint: disable=protected-access\n\u001b[0m\u001b[1;32m    140\u001b[0m       \u001b[0mflat_inputs\u001b[0m\u001b[0;34m,\u001b[0m \u001b[0mcaptured_inputs\u001b[0m\u001b[0;34m=\u001b[0m\u001b[0mfunction\u001b[0m\u001b[0;34m.\u001b[0m\u001b[0mcaptured_inputs\u001b[0m\u001b[0;34m\u001b[0m\u001b[0;34m\u001b[0m\u001b[0m\n\u001b[1;32m    141\u001b[0m   )\n",
            "\u001b[0;32m/usr/local/lib/python3.10/dist-packages/tensorflow/python/eager/polymorphic_function/concrete_function.py\u001b[0m in \u001b[0;36m_call_flat\u001b[0;34m(self, tensor_inputs, captured_inputs)\u001b[0m\n\u001b[1;32m   1262\u001b[0m         and executing_eagerly):\n\u001b[1;32m   1263\u001b[0m       \u001b[0;31m# No tape is watching; skip to running the function.\u001b[0m\u001b[0;34m\u001b[0m\u001b[0;34m\u001b[0m\u001b[0m\n\u001b[0;32m-> 1264\u001b[0;31m       \u001b[0;32mreturn\u001b[0m \u001b[0mself\u001b[0m\u001b[0;34m.\u001b[0m\u001b[0m_inference_function\u001b[0m\u001b[0;34m.\u001b[0m\u001b[0mflat_call\u001b[0m\u001b[0;34m(\u001b[0m\u001b[0margs\u001b[0m\u001b[0;34m)\u001b[0m\u001b[0;34m\u001b[0m\u001b[0;34m\u001b[0m\u001b[0m\n\u001b[0m\u001b[1;32m   1265\u001b[0m     forward_backward = self._select_forward_and_backward_functions(\n\u001b[1;32m   1266\u001b[0m         \u001b[0margs\u001b[0m\u001b[0;34m,\u001b[0m\u001b[0;34m\u001b[0m\u001b[0;34m\u001b[0m\u001b[0m\n",
            "\u001b[0;32m/usr/local/lib/python3.10/dist-packages/tensorflow/python/eager/polymorphic_function/atomic_function.py\u001b[0m in \u001b[0;36mflat_call\u001b[0;34m(self, args)\u001b[0m\n\u001b[1;32m    215\u001b[0m   \u001b[0;32mdef\u001b[0m \u001b[0mflat_call\u001b[0m\u001b[0;34m(\u001b[0m\u001b[0mself\u001b[0m\u001b[0;34m,\u001b[0m \u001b[0margs\u001b[0m\u001b[0;34m:\u001b[0m \u001b[0mSequence\u001b[0m\u001b[0;34m[\u001b[0m\u001b[0mcore\u001b[0m\u001b[0;34m.\u001b[0m\u001b[0mTensor\u001b[0m\u001b[0;34m]\u001b[0m\u001b[0;34m)\u001b[0m \u001b[0;34m->\u001b[0m \u001b[0mAny\u001b[0m\u001b[0;34m:\u001b[0m\u001b[0;34m\u001b[0m\u001b[0;34m\u001b[0m\u001b[0m\n\u001b[1;32m    216\u001b[0m     \u001b[0;34m\"\"\"Calls with tensor inputs and returns the structured output.\"\"\"\u001b[0m\u001b[0;34m\u001b[0m\u001b[0;34m\u001b[0m\u001b[0m\n\u001b[0;32m--> 217\u001b[0;31m     \u001b[0mflat_outputs\u001b[0m \u001b[0;34m=\u001b[0m \u001b[0mself\u001b[0m\u001b[0;34m(\u001b[0m\u001b[0;34m*\u001b[0m\u001b[0margs\u001b[0m\u001b[0;34m)\u001b[0m\u001b[0;34m\u001b[0m\u001b[0;34m\u001b[0m\u001b[0m\n\u001b[0m\u001b[1;32m    218\u001b[0m     \u001b[0;32mreturn\u001b[0m \u001b[0mself\u001b[0m\u001b[0;34m.\u001b[0m\u001b[0mfunction_type\u001b[0m\u001b[0;34m.\u001b[0m\u001b[0mpack_output\u001b[0m\u001b[0;34m(\u001b[0m\u001b[0mflat_outputs\u001b[0m\u001b[0;34m)\u001b[0m\u001b[0;34m\u001b[0m\u001b[0;34m\u001b[0m\u001b[0m\n\u001b[1;32m    219\u001b[0m \u001b[0;34m\u001b[0m\u001b[0m\n",
            "\u001b[0;32m/usr/local/lib/python3.10/dist-packages/tensorflow/python/eager/polymorphic_function/atomic_function.py\u001b[0m in \u001b[0;36m__call__\u001b[0;34m(self, *args)\u001b[0m\n\u001b[1;32m    250\u001b[0m         \u001b[0;32mwith\u001b[0m \u001b[0mrecord\u001b[0m\u001b[0;34m.\u001b[0m\u001b[0mstop_recording\u001b[0m\u001b[0;34m(\u001b[0m\u001b[0;34m)\u001b[0m\u001b[0;34m:\u001b[0m\u001b[0;34m\u001b[0m\u001b[0;34m\u001b[0m\u001b[0m\n\u001b[1;32m    251\u001b[0m           \u001b[0;32mif\u001b[0m \u001b[0mself\u001b[0m\u001b[0;34m.\u001b[0m\u001b[0m_bound_context\u001b[0m\u001b[0;34m.\u001b[0m\u001b[0mexecuting_eagerly\u001b[0m\u001b[0;34m(\u001b[0m\u001b[0;34m)\u001b[0m\u001b[0;34m:\u001b[0m\u001b[0;34m\u001b[0m\u001b[0;34m\u001b[0m\u001b[0m\n\u001b[0;32m--> 252\u001b[0;31m             outputs = self._bound_context.call_function(\n\u001b[0m\u001b[1;32m    253\u001b[0m                 \u001b[0mself\u001b[0m\u001b[0;34m.\u001b[0m\u001b[0mname\u001b[0m\u001b[0;34m,\u001b[0m\u001b[0;34m\u001b[0m\u001b[0;34m\u001b[0m\u001b[0m\n\u001b[1;32m    254\u001b[0m                 \u001b[0mlist\u001b[0m\u001b[0;34m(\u001b[0m\u001b[0margs\u001b[0m\u001b[0;34m)\u001b[0m\u001b[0;34m,\u001b[0m\u001b[0;34m\u001b[0m\u001b[0;34m\u001b[0m\u001b[0m\n",
            "\u001b[0;32m/usr/local/lib/python3.10/dist-packages/tensorflow/python/eager/context.py\u001b[0m in \u001b[0;36mcall_function\u001b[0;34m(self, name, tensor_inputs, num_outputs)\u001b[0m\n\u001b[1;32m   1477\u001b[0m     \u001b[0mcancellation_context\u001b[0m \u001b[0;34m=\u001b[0m \u001b[0mcancellation\u001b[0m\u001b[0;34m.\u001b[0m\u001b[0mcontext\u001b[0m\u001b[0;34m(\u001b[0m\u001b[0;34m)\u001b[0m\u001b[0;34m\u001b[0m\u001b[0;34m\u001b[0m\u001b[0m\n\u001b[1;32m   1478\u001b[0m     \u001b[0;32mif\u001b[0m \u001b[0mcancellation_context\u001b[0m \u001b[0;32mis\u001b[0m \u001b[0;32mNone\u001b[0m\u001b[0;34m:\u001b[0m\u001b[0;34m\u001b[0m\u001b[0;34m\u001b[0m\u001b[0m\n\u001b[0;32m-> 1479\u001b[0;31m       outputs = execute.execute(\n\u001b[0m\u001b[1;32m   1480\u001b[0m           \u001b[0mname\u001b[0m\u001b[0;34m.\u001b[0m\u001b[0mdecode\u001b[0m\u001b[0;34m(\u001b[0m\u001b[0;34m\"utf-8\"\u001b[0m\u001b[0;34m)\u001b[0m\u001b[0;34m,\u001b[0m\u001b[0;34m\u001b[0m\u001b[0;34m\u001b[0m\u001b[0m\n\u001b[1;32m   1481\u001b[0m           \u001b[0mnum_outputs\u001b[0m\u001b[0;34m=\u001b[0m\u001b[0mnum_outputs\u001b[0m\u001b[0;34m,\u001b[0m\u001b[0;34m\u001b[0m\u001b[0;34m\u001b[0m\u001b[0m\n",
            "\u001b[0;32m/usr/local/lib/python3.10/dist-packages/tensorflow/python/eager/execute.py\u001b[0m in \u001b[0;36mquick_execute\u001b[0;34m(op_name, num_outputs, inputs, attrs, ctx, name)\u001b[0m\n\u001b[1;32m     58\u001b[0m         \u001b[0;32mfor\u001b[0m \u001b[0mt\u001b[0m \u001b[0;32min\u001b[0m \u001b[0minputs\u001b[0m\u001b[0;34m\u001b[0m\u001b[0;34m\u001b[0m\u001b[0m\n\u001b[1;32m     59\u001b[0m     ]\n\u001b[0;32m---> 60\u001b[0;31m     tensors = pywrap_tfe.TFE_Py_Execute(ctx._handle, device_name, op_name,\n\u001b[0m\u001b[1;32m     61\u001b[0m                                         inputs, attrs, num_outputs)\n\u001b[1;32m     62\u001b[0m   \u001b[0;32mexcept\u001b[0m \u001b[0mcore\u001b[0m\u001b[0;34m.\u001b[0m\u001b[0m_NotOkStatusException\u001b[0m \u001b[0;32mas\u001b[0m \u001b[0me\u001b[0m\u001b[0;34m:\u001b[0m\u001b[0;34m\u001b[0m\u001b[0;34m\u001b[0m\u001b[0m\n",
            "\u001b[0;31mKeyboardInterrupt\u001b[0m: "
          ]
        }
      ]
    },
    {
      "cell_type": "code",
      "source": [
        "LSTM_Conv3d(df_stock,300)"
      ],
      "metadata": {
        "id": "Dov5SSihVwr0"
      },
      "execution_count": null,
      "outputs": []
    },
    {
      "cell_type": "code",
      "source": [
        "time_distributed_Concatenated(df_stock,300)"
      ],
      "metadata": {
        "id": "T4sd86-Sd4ci"
      },
      "execution_count": null,
      "outputs": []
    },
    {
      "cell_type": "code",
      "source": [
        "df_stock = yf.download('EURJPY=X','2000-01-01','2023-10-14')"
      ],
      "metadata": {
        "id": "Ht4nX23MjP1Z"
      },
      "execution_count": null,
      "outputs": []
    },
    {
      "cell_type": "code",
      "source": [
        "model = run_simple_RNN()\n",
        "history,predictions = compile_model(model,100)"
      ],
      "metadata": {
        "id": "u6G0c_6qjSex"
      },
      "execution_count": null,
      "outputs": []
    },
    {
      "cell_type": "code",
      "source": [
        "model = run_stacked_RNN()\n",
        "history,predictions = compile_model(model,100)"
      ],
      "metadata": {
        "id": "buC0ZocbjSqP"
      },
      "execution_count": null,
      "outputs": []
    },
    {
      "cell_type": "code",
      "source": [
        "history,predictions = compile_model(feedback_model,100)"
      ],
      "metadata": {
        "id": "oVcbcHPBjS0P"
      },
      "execution_count": null,
      "outputs": []
    },
    {
      "cell_type": "code",
      "source": [
        "history,predictions = time_distributed_CNN_RNN(df_stock,300)"
      ],
      "metadata": {
        "id": "f1Ffx0VHjS_Z"
      },
      "execution_count": null,
      "outputs": []
    },
    {
      "cell_type": "code",
      "source": [
        "history,predictions = cocatenated_CNN_RNN(df_stock,200)"
      ],
      "metadata": {
        "id": "4TknZK8jjTJl"
      },
      "execution_count": null,
      "outputs": []
    },
    {
      "cell_type": "code",
      "source": [
        "df_stock = yf.download('EURGBP=X','2000-01-01','2023-10-14')"
      ],
      "metadata": {
        "id": "lK3iHTN8jWuW"
      },
      "execution_count": null,
      "outputs": []
    },
    {
      "cell_type": "code",
      "source": [
        "model = run_simple_RNN()\n",
        "history,predictions = compile_model(model,100)"
      ],
      "metadata": {
        "id": "Ms0Lyy4qjj9y"
      },
      "execution_count": null,
      "outputs": []
    },
    {
      "cell_type": "code",
      "source": [
        "model = run_stacked_RNN()\n",
        "history,predictions = compile_model(model,100)"
      ],
      "metadata": {
        "id": "FMaSWDltjkXK"
      },
      "execution_count": null,
      "outputs": []
    },
    {
      "cell_type": "code",
      "source": [
        "history,predictions = compile_model(feedback_model,100)"
      ],
      "metadata": {
        "id": "dvKD97SujkmU"
      },
      "execution_count": null,
      "outputs": []
    },
    {
      "cell_type": "code",
      "source": [
        "history,predictions = time_distributed_CNN_RNN(df_stock,300)"
      ],
      "metadata": {
        "id": "kdFu2MYrjkx6"
      },
      "execution_count": null,
      "outputs": []
    },
    {
      "cell_type": "code",
      "source": [
        "history,predictions = cocatenated_CNN_RNN(df_stock,200)"
      ],
      "metadata": {
        "id": "tdb8SB0ajk71"
      },
      "execution_count": null,
      "outputs": []
    }
  ],
  "metadata": {
    "accelerator": "GPU",
    "colab": {
      "provenance": [],
      "include_colab_link": true
    },
    "kernelspec": {
      "display_name": "Python 3",
      "name": "python3"
    },
    "language_info": {
      "name": "python"
    }
  },
  "nbformat": 4,
  "nbformat_minor": 0
}
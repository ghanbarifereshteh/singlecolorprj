{
  "nbformat": 4,
  "nbformat_minor": 0,
  "metadata": {
    "colab": {
      "provenance": [],
      "gpuType": "T4",
      "authorship_tag": "ABX9TyM+sFvhJFZtcmyG82SJkVWj",
      "include_colab_link": true
    },
    "kernelspec": {
      "name": "python3",
      "display_name": "Python 3"
    },
    "language_info": {
      "name": "python"
    },
    "accelerator": "GPU"
  },
  "cells": [
    {
      "cell_type": "markdown",
      "metadata": {
        "id": "view-in-github",
        "colab_type": "text"
      },
      "source": [
        "<a href=\"https://colab.research.google.com/github/ghanbarifereshteh/singlecolorprj/blob/main/noisysinglecolornew.ipynb\" target=\"_parent\"><img src=\"https://colab.research.google.com/assets/colab-badge.svg\" alt=\"Open In Colab\"/></a>"
      ]
    },
    {
      "cell_type": "code",
      "execution_count": 4,
      "metadata": {
        "id": "Vd5OhAASfLfs"
      },
      "outputs": [],
      "source": [
        "import numpy as np\n",
        "import tensorflow as tf\n",
        "\n",
        "from tensorflow import keras\n",
        "from tensorflow.keras import layers\n",
        "from tensorflow.keras.models import Sequential\n",
        "from sklearn.model_selection import train_test_split\n",
        "from PIL import Image\n",
        "from numpy import asarray\n",
        "import shutil\n",
        "import os"
      ]
    },
    {
      "cell_type": "code",
      "source": [
        "#generate original data\n",
        "#generate 3 random number and then create a 180*180 image(with single color)\n",
        "from PIL import Image\n",
        "def createimage(numberOfimg,sizeOfImage):\n",
        "  for i in range(numberOfimg):\n",
        "    red = np.random.choice(range(256), size=1)\n",
        "    green = np.random.choice(range(256), size=1)\n",
        "    blue = np.random.choice(range(256), size=1)\n",
        "    img = Image.new('RGB', (sizeOfImage, sizeOfImage), (red[0], green[0], blue[0]))\n",
        "    img.save(str(i)+\".jpg\")"
      ],
      "metadata": {
        "id": "Prd0SO5BgsC3"
      },
      "execution_count": 5,
      "outputs": []
    },
    {
      "cell_type": "code",
      "source": [
        "img = Image.new('RGB', (100, 100), (100, 100, 255))\n",
        "plt.imshow(img)"
      ],
      "metadata": {
        "colab": {
          "base_uri": "https://localhost:8080/",
          "height": 450
        },
        "id": "EUKJkEdgD864",
        "outputId": "e7a7eece-c072-48c2-897e-b45bdcf8c1d6"
      },
      "execution_count": null,
      "outputs": [
        {
          "output_type": "execute_result",
          "data": {
            "text/plain": [
              "<matplotlib.image.AxesImage at 0x78f0058b68f0>"
            ]
          },
          "metadata": {},
          "execution_count": 60
        },
        {
          "output_type": "display_data",
          "data": {
            "text/plain": [
              "<Figure size 640x480 with 1 Axes>"
            ],
            "image/png": "[encoded data removed]"
          },
          "metadata": {}
        }
      ]
    },
    {
      "cell_type": "markdown",
      "source": [
        "In this notebook, we have a function that generates images with noises. we send the percent of the noise we want, so the images are created.and also this function creates 7 folders and classifies data."
      ],
      "metadata": {
        "id": "WE1hLJ5eRuTL"
      }
    },
    {
      "cell_type": "code",
      "source": [
        "#create image whith percent% noise\n",
        "def createNoisyImage(numberOfImages,sizeOfImage,percent):\n",
        "  folder = \"\"\n",
        "  label = 0\n",
        "  sum = 0\n",
        "  os.mkdir(\"/content/noisyred\"+str(percent))\n",
        "  os.mkdir(\"/content/noisygreen\"+str(percent))\n",
        "  os.mkdir(\"/content/noisyblue\"+str(percent))\n",
        "  os.mkdir(\"/content/noisyblack\"+str(percent))\n",
        "  os.mkdir(\"/content/noisywhite\"+str(percent))\n",
        "  os.mkdir(\"/content/noisyyellow\"+str(percent))\n",
        "  os.mkdir(\"/content/noisypurple\"+str(percent))\n",
        "  numpydata_noisy = np.empty([numberOfImages, sizeOfImage, sizeOfImage, 3], dtype=np.int)\n",
        "  labels_noisy = np.arange(0,numberOfImages)\n",
        "  for i in range(0,numberOfImages):\n",
        "    #before applying noises, we must distinguish the color\n",
        "    name = str(i)+\".jpg\"\n",
        "    img = Image.open(name)\n",
        "    numpydata_noisy[i] = asarray(img)\n",
        "    red = numpydata_noisy[i][0][0][0]\n",
        "    green = numpydata_noisy[i][0][0][1]\n",
        "    blue = numpydata_noisy[i][0][0][2]\n",
        "    if(red > green):\n",
        "      if(red>blue):\n",
        "        label = 0  #red\n",
        "        folder = \"noisyred\"\n",
        "      elif (red == blue) and (blue==green) and (red == 255):\n",
        "        label = 1 #white\n",
        "        folder = \"noisywhite\"\n",
        "      elif(red == blue) and (blue==green) and (red != 255):\n",
        "        label = 2  #black\n",
        "        folder = \"noisyblack\"\n",
        "      elif(red == blue):\n",
        "        label = 3  #purple\n",
        "        folder = \"noisypurple\"\n",
        "    elif(green>=blue) and (blue > red) :\n",
        "      label = 5 #green\n",
        "      folder = \"noisygreen\"\n",
        "    elif (red == green) and (blue < red):\n",
        "      label = 4 #yellow\n",
        "      folder = \"noisyyellow\"\n",
        "    else:\n",
        "      label = 6 #blue\n",
        "      folder = \"noisyblue\"\n",
        "    labels_noisy[i] = label\n",
        "\n",
        "    noiseColor=list(np.random.choice(range(256), size=3));\n",
        "    for j in range(0,sizeOfImage*percent) :\n",
        "        x=np.random.choice(range(100))\n",
        "        y=np.random.choice(range(100))\n",
        "        img.putpixel((x,y), (noiseColor[0], noiseColor[1], noiseColor[2]))\n",
        "        #plt.imshow(img)\n",
        "    newName = \"noise\"+str(percent)+str(i)+\".jpg\"\n",
        "    img.save(newName)\n",
        "    shutil.move(\"noise\"+str(percent)+str(i)+\".jpg\", str(folder)+str(percent)+\"/\"+\"noise\"+str(percent)+str(i)+\".jpg\")\n",
        "    numpydata_noisy[i] = asarray(img)\n",
        "  return labels_noisy,numpydata_noisy"
      ],
      "metadata": {
        "id": "oroBVP5Rfggt"
      },
      "execution_count": 6,
      "outputs": []
    },
    {
      "cell_type": "markdown",
      "source": [
        "for start creating data and training run codes below.\n",
        "we first remove any folder in the root.because the training model use the folders in the directory path as classes.\n"
      ],
      "metadata": {
        "id": "YMWZzdNXSvbj"
      }
    },
    {
      "cell_type": "code",
      "source": [
        "rm -rf noisy*"
      ],
      "metadata": {
        "id": "CYcWHgEf4tZ9"
      },
      "execution_count": 11,
      "outputs": []
    },
    {
      "cell_type": "markdown",
      "source": [
        "we create 1000 images as a single color dataset."
      ],
      "metadata": {
        "id": "tD1QdD0EaOcn"
      }
    },
    {
      "cell_type": "code",
      "source": [
        "createimage(1000,100)"
      ],
      "metadata": {
        "id": "H8VF6dVCmhBC"
      },
      "execution_count": 12,
      "outputs": []
    },
    {
      "cell_type": "markdown",
      "source": [
        "and then make them noisy."
      ],
      "metadata": {
        "id": "e1t58zuJTg2v"
      }
    },
    {
      "cell_type": "code",
      "source": [
        "(labels_test,numpydata_test) = createNoisyImage(1000,100,15)"
      ],
      "metadata": {
        "id": "JbShG509m7O2",
        "colab": {
          "base_uri": "https://localhost:8080/"
        },
        "outputId": "b3d06031-19f1-497b-aec0-5ee20f641358"
      },
      "execution_count": 13,
      "outputs": [
        {
          "output_type": "stream",
          "name": "stderr",
          "text": [
            "<ipython-input-6-24059ec8fe24>:13: DeprecationWarning: `np.int` is a deprecated alias for the builtin `int`. To silence this warning, use `int` by itself. Doing this will not modify any behavior and is safe. When replacing `np.int`, you may wish to use e.g. `np.int64` or `np.int32` to specify the precision. If you wish to review your current use, check the release note link for additional information.\n",
            "Deprecated in NumPy 1.20; for more details and guidance: https://numpy.org/devdocs/release/1.20.0-notes.html#deprecations\n",
            "  numpydata_noisy = np.empty([numberOfImages, sizeOfImage, sizeOfImage, 3], dtype=np.int)\n"
          ]
        }
      ]
    },
    {
      "cell_type": "code",
      "source": [
        "after creating noisy images, please go further to start training.\n",
        "And for creating noisy images with other percent of noise, run the corresponding command bellow. be carefull to remove remaining folders."
      ],
      "metadata": {
        "id": "w1vV8a1qUMDw"
      },
      "execution_count": null,
      "outputs": []
    },
    {
      "cell_type": "code",
      "source": [
        "import matplotlib.pyplot as plt\n",
        "plt.imshow(numpydata_test[794])"
      ],
      "metadata": {
        "colab": {
          "base_uri": "https://localhost:8080/",
          "height": 450
        },
        "id": "LP4s5AeLLelO",
        "outputId": "c412f30b-0ce9-4330-d76f-7a0b892ccf04"
      },
      "execution_count": null,
      "outputs": [
        {
          "output_type": "execute_result",
          "data": {
            "text/plain": [
              "<matplotlib.image.AxesImage at 0x78ef4be050c0>"
            ]
          },
          "metadata": {},
          "execution_count": 215
        },
        {
          "output_type": "display_data",
          "data": {
            "text/plain": [
              "<Figure size 640x480 with 1 Axes>"
            ],
            "image/png": "[encoded data removed]"
          },
          "metadata": {}
        }
      ]
    },
    {
      "cell_type": "markdown",
      "source": [
        "when you want to create iamges with 25% noises"
      ],
      "metadata": {
        "id": "4uAh94WfaEw9"
      }
    },
    {
      "cell_type": "code",
      "source": [
        "rm -rf noisy*"
      ],
      "metadata": {
        "id": "PDPt6-I6bfg8"
      },
      "execution_count": 9,
      "outputs": []
    },
    {
      "cell_type": "code",
      "source": [
        "(labels_test,numpydata_test) = createNoisyImage(1000,100,25)"
      ],
      "metadata": {
        "id": "XOPOUgjn4KJ3",
        "colab": {
          "base_uri": "https://localhost:8080/",
          "height": 384
        },
        "outputId": "913c1446-8558-458f-ac60-68ba9cd9e456"
      },
      "execution_count": 8,
      "outputs": [
        {
          "output_type": "stream",
          "name": "stderr",
          "text": [
            "<ipython-input-4-24059ec8fe24>:13: DeprecationWarning: `np.int` is a deprecated alias for the builtin `int`. To silence this warning, use `int` by itself. Doing this will not modify any behavior and is safe. When replacing `np.int`, you may wish to use e.g. `np.int64` or `np.int32` to specify the precision. If you wish to review your current use, check the release note link for additional information.\n",
            "Deprecated in NumPy 1.20; for more details and guidance: https://numpy.org/devdocs/release/1.20.0-notes.html#deprecations\n",
            "  numpydata_noisy = np.empty([numberOfImages, sizeOfImage, sizeOfImage, 3], dtype=np.int)\n"
          ]
        },
        {
          "output_type": "error",
          "ename": "FileNotFoundError",
          "evalue": "ignored",
          "traceback": [
            "\u001b[0;31m---------------------------------------------------------------------------\u001b[0m",
            "\u001b[0;31mFileNotFoundError\u001b[0m                         Traceback (most recent call last)",
            "\u001b[0;32m<ipython-input-8-29849179d2eb>\u001b[0m in \u001b[0;36m<cell line: 1>\u001b[0;34m()\u001b[0m\n\u001b[0;32m----> 1\u001b[0;31m \u001b[0;34m(\u001b[0m\u001b[0mlabels_test\u001b[0m\u001b[0;34m,\u001b[0m\u001b[0mnumpydata_test\u001b[0m\u001b[0;34m)\u001b[0m \u001b[0;34m=\u001b[0m \u001b[0mcreateNoisyImage\u001b[0m\u001b[0;34m(\u001b[0m\u001b[0;36m1000\u001b[0m\u001b[0;34m,\u001b[0m\u001b[0;36m100\u001b[0m\u001b[0;34m,\u001b[0m\u001b[0;36m25\u001b[0m\u001b[0;34m)\u001b[0m\u001b[0;34m\u001b[0m\u001b[0;34m\u001b[0m\u001b[0m\n\u001b[0m",
            "\u001b[0;32m<ipython-input-4-24059ec8fe24>\u001b[0m in \u001b[0;36mcreateNoisyImage\u001b[0;34m(numberOfImages, sizeOfImage, percent)\u001b[0m\n\u001b[1;32m     16\u001b[0m     \u001b[0;31m#before applying noises, we must distinguish the color\u001b[0m\u001b[0;34m\u001b[0m\u001b[0;34m\u001b[0m\u001b[0m\n\u001b[1;32m     17\u001b[0m     \u001b[0mname\u001b[0m \u001b[0;34m=\u001b[0m \u001b[0mstr\u001b[0m\u001b[0;34m(\u001b[0m\u001b[0mi\u001b[0m\u001b[0;34m)\u001b[0m\u001b[0;34m+\u001b[0m\u001b[0;34m\".jpg\"\u001b[0m\u001b[0;34m\u001b[0m\u001b[0;34m\u001b[0m\u001b[0m\n\u001b[0;32m---> 18\u001b[0;31m     \u001b[0mimg\u001b[0m \u001b[0;34m=\u001b[0m \u001b[0mImage\u001b[0m\u001b[0;34m.\u001b[0m\u001b[0mopen\u001b[0m\u001b[0;34m(\u001b[0m\u001b[0mname\u001b[0m\u001b[0;34m)\u001b[0m\u001b[0;34m\u001b[0m\u001b[0;34m\u001b[0m\u001b[0m\n\u001b[0m\u001b[1;32m     19\u001b[0m     \u001b[0mnumpydata_noisy\u001b[0m\u001b[0;34m[\u001b[0m\u001b[0mi\u001b[0m\u001b[0;34m]\u001b[0m \u001b[0;34m=\u001b[0m \u001b[0masarray\u001b[0m\u001b[0;34m(\u001b[0m\u001b[0mimg\u001b[0m\u001b[0;34m)\u001b[0m\u001b[0;34m\u001b[0m\u001b[0;34m\u001b[0m\u001b[0m\n\u001b[1;32m     20\u001b[0m     \u001b[0mred\u001b[0m \u001b[0;34m=\u001b[0m \u001b[0mnumpydata_noisy\u001b[0m\u001b[0;34m[\u001b[0m\u001b[0mi\u001b[0m\u001b[0;34m]\u001b[0m\u001b[0;34m[\u001b[0m\u001b[0;36m0\u001b[0m\u001b[0;34m]\u001b[0m\u001b[0;34m[\u001b[0m\u001b[0;36m0\u001b[0m\u001b[0;34m]\u001b[0m\u001b[0;34m[\u001b[0m\u001b[0;36m0\u001b[0m\u001b[0;34m]\u001b[0m\u001b[0;34m\u001b[0m\u001b[0;34m\u001b[0m\u001b[0m\n",
            "\u001b[0;32m/usr/local/lib/python3.10/dist-packages/PIL/Image.py\u001b[0m in \u001b[0;36mopen\u001b[0;34m(fp, mode, formats)\u001b[0m\n\u001b[1;32m   3225\u001b[0m \u001b[0;34m\u001b[0m\u001b[0m\n\u001b[1;32m   3226\u001b[0m     \u001b[0;32mif\u001b[0m \u001b[0mfilename\u001b[0m\u001b[0;34m:\u001b[0m\u001b[0;34m\u001b[0m\u001b[0;34m\u001b[0m\u001b[0m\n\u001b[0;32m-> 3227\u001b[0;31m         \u001b[0mfp\u001b[0m \u001b[0;34m=\u001b[0m \u001b[0mbuiltins\u001b[0m\u001b[0;34m.\u001b[0m\u001b[0mopen\u001b[0m\u001b[0;34m(\u001b[0m\u001b[0mfilename\u001b[0m\u001b[0;34m,\u001b[0m \u001b[0;34m\"rb\"\u001b[0m\u001b[0;34m)\u001b[0m\u001b[0;34m\u001b[0m\u001b[0;34m\u001b[0m\u001b[0m\n\u001b[0m\u001b[1;32m   3228\u001b[0m         \u001b[0mexclusive_fp\u001b[0m \u001b[0;34m=\u001b[0m \u001b[0;32mTrue\u001b[0m\u001b[0;34m\u001b[0m\u001b[0;34m\u001b[0m\u001b[0m\n\u001b[1;32m   3229\u001b[0m \u001b[0;34m\u001b[0m\u001b[0m\n",
            "\u001b[0;31mFileNotFoundError\u001b[0m: [Errno 2] No such file or directory: '0.jpg'"
          ]
        }
      ]
    },
    {
      "cell_type": "code",
      "source": [
        "ls"
      ],
      "metadata": {
        "colab": {
          "base_uri": "https://localhost:8080/"
        },
        "id": "tX1JpnA_ekSE",
        "outputId": "8ffee3eb-8c9f-42d0-f90f-dcd257836ed5"
      },
      "execution_count": null,
      "outputs": [
        {
          "output_type": "stream",
          "name": "stdout",
          "text": [
            "noise25938.jpg\n"
          ]
        }
      ]
    },
    {
      "cell_type": "code",
      "source": [
        "import matplotlib.pyplot as plt\n",
        "plt.imshow(numpydata_test[938])"
      ],
      "metadata": {
        "colab": {
          "base_uri": "https://localhost:8080/",
          "height": 450
        },
        "id": "4ycILQz7etwT",
        "outputId": "19f13c63-91a1-44ed-fb01-53f8ed4863d0"
      },
      "execution_count": null,
      "outputs": [
        {
          "output_type": "execute_result",
          "data": {
            "text/plain": [
              "<matplotlib.image.AxesImage at 0x7b0662aab4f0>"
            ]
          },
          "metadata": {},
          "execution_count": 70
        },
        {
          "output_type": "display_data",
          "data": {
            "text/plain": [
              "<Figure size 640x480 with 1 Axes>"
            ],
            "image/png": "[encoded data removed]"
          },
          "metadata": {}
        }
      ]
    },
    {
      "cell_type": "code",
      "source": [
        "rm -rf noisy*"
      ],
      "metadata": {
        "id": "afVIhkzzg4Ia"
      },
      "execution_count": null,
      "outputs": []
    },
    {
      "cell_type": "code",
      "source": [],
      "metadata": {
        "id": "g-7diRZJfDg8"
      },
      "execution_count": null,
      "outputs": []
    },
    {
      "cell_type": "code",
      "source": [
        "(labels_test,numpydata_test) = createNoisyImage(1000,100,45)"
      ],
      "metadata": {
        "id": "hJMrUDm_hVky",
        "colab": {
          "base_uri": "https://localhost:8080/"
        },
        "outputId": "be55e5db-af79-4e16-ded4-0c35f3a7287f"
      },
      "execution_count": null,
      "outputs": [
        {
          "output_type": "stream",
          "name": "stderr",
          "text": [
            "<ipython-input-31-7adefc49a481>:6: DeprecationWarning: `np.int` is a deprecated alias for the builtin `int`. To silence this warning, use `int` by itself. Doing this will not modify any behavior and is safe. When replacing `np.int`, you may wish to use e.g. `np.int64` or `np.int32` to specify the precision. If you wish to review your current use, check the release note link for additional information.\n",
            "Deprecated in NumPy 1.20; for more details and guidance: https://numpy.org/devdocs/release/1.20.0-notes.html#deprecations\n",
            "  numpydata_noisy = np.empty([numberOfImages, sizeOfImage, sizeOfImage, 3], dtype=np.int)\n"
          ]
        }
      ]
    },
    {
      "cell_type": "code",
      "source": [
        "cd noisygreen15/"
      ],
      "metadata": {
        "id": "9lCjF2wup53C",
        "colab": {
          "base_uri": "https://localhost:8080/"
        },
        "outputId": "7d86fded-f94b-43dc-ab39-71c28c5915e2"
      },
      "execution_count": 22,
      "outputs": [
        {
          "output_type": "stream",
          "name": "stdout",
          "text": [
            "/content/noisygreen15\n"
          ]
        }
      ]
    },
    {
      "cell_type": "code",
      "source": [
        "ls"
      ],
      "metadata": {
        "colab": {
          "base_uri": "https://localhost:8080/"
        },
        "id": "k2uk1vWPJRSS",
        "outputId": "02f7dac0-8b92-4e7c-a5e6-34d10d83bc6d"
      },
      "execution_count": 23,
      "outputs": [
        {
          "output_type": "stream",
          "name": "stdout",
          "text": [
            "noise1510.jpg   noise15241.jpg  noise15450.jpg  noise15637.jpg  noise15816.jpg\n",
            "noise15110.jpg  noise15248.jpg  noise15455.jpg  noise15638.jpg  noise15839.jpg\n",
            "noise15112.jpg  noise15249.jpg  noise15467.jpg  noise1563.jpg   noise15842.jpg\n",
            "noise15118.jpg  noise15259.jpg  noise15470.jpg  noise1564.jpg   noise15843.jpg\n",
            "noise15119.jpg  noise15266.jpg  noise15471.jpg  noise15655.jpg  noise15850.jpg\n",
            "noise15121.jpg  noise15271.jpg  noise15472.jpg  noise15659.jpg  noise15863.jpg\n",
            "noise15122.jpg  noise15272.jpg  noise15475.jpg  noise15660.jpg  noise15864.jpg\n",
            "noise15125.jpg  noise15289.jpg  noise15479.jpg  noise15664.jpg  noise15868.jpg\n",
            "noise15126.jpg  noise15290.jpg  noise15480.jpg  noise15671.jpg  noise15869.jpg\n",
            "noise15127.jpg  noise15295.jpg  noise15481.jpg  noise15680.jpg  noise15871.jpg\n",
            "noise15129.jpg  noise15299.jpg  noise15494.jpg  noise15682.jpg  noise15877.jpg\n",
            "noise15132.jpg  noise15302.jpg  noise15495.jpg  noise15684.jpg  noise15881.jpg\n",
            "noise15133.jpg  noise15319.jpg  noise15498.jpg  noise15693.jpg  noise15885.jpg\n",
            "noise15137.jpg  noise1531.jpg   noise15504.jpg  noise15707.jpg  noise1589.jpg\n",
            "noise1513.jpg   noise1532.jpg   noise15505.jpg  noise15710.jpg  noise158.jpg\n",
            "noise15140.jpg  noise15331.jpg  noise15507.jpg  noise15712.jpg  noise15900.jpg\n",
            "noise15152.jpg  noise15333.jpg  noise15519.jpg  noise15713.jpg  noise15901.jpg\n",
            "noise15154.jpg  noise15338.jpg  noise1551.jpg   noise15716.jpg  noise15905.jpg\n",
            "noise15164.jpg  noise1533.jpg   noise15525.jpg  noise15721.jpg  noise15914.jpg\n",
            "noise15167.jpg  noise15354.jpg  noise15531.jpg  noise15732.jpg  noise15916.jpg\n",
            "noise15169.jpg  noise1535.jpg   noise15535.jpg  noise15746.jpg  noise15918.jpg\n",
            "noise15170.jpg  noise15397.jpg  noise1553.jpg   noise15747.jpg  noise15923.jpg\n",
            "noise15179.jpg  noise15399.jpg  noise15544.jpg  noise15748.jpg  noise15936.jpg\n",
            "noise15191.jpg  noise15400.jpg  noise15546.jpg  noise15751.jpg  noise15959.jpg\n",
            "noise15205.jpg  noise15403.jpg  noise15565.jpg  noise15753.jpg  noise15960.jpg\n",
            "noise15206.jpg  noise15404.jpg  noise15566.jpg  noise15758.jpg  noise15961.jpg\n",
            "noise15207.jpg  noise15409.jpg  noise15571.jpg  noise15773.jpg  noise15974.jpg\n",
            "noise15213.jpg  noise15410.jpg  noise15572.jpg  noise15779.jpg  noise15978.jpg\n",
            "noise15224.jpg  noise15415.jpg  noise15575.jpg  noise15780.jpg  noise15984.jpg\n",
            "noise15225.jpg  noise15421.jpg  noise15576.jpg  noise15785.jpg  noise15985.jpg\n",
            "noise15229.jpg  noise15422.jpg  noise15593.jpg  noise15786.jpg  noise15993.jpg\n",
            "noise15235.jpg  noise15423.jpg  noise15612.jpg  noise1578.jpg   noise15994.jpg\n",
            "noise15237.jpg  noise15425.jpg  noise15613.jpg  noise15800.jpg\n",
            "noise15238.jpg  noise15429.jpg  noise15624.jpg  noise15801.jpg\n",
            "noise15239.jpg  noise15440.jpg  noise15625.jpg  noise15810.jpg\n",
            "noise15240.jpg  noise15449.jpg  noise1562.jpg   noise15813.jpg\n"
          ]
        }
      ]
    },
    {
      "cell_type": "code",
      "source": [
        "import matplotlib.pyplot as plt\n",
        "plt.imshow(numpydata_test[987])"
      ],
      "metadata": {
        "colab": {
          "base_uri": "https://localhost:8080/",
          "height": 450
        },
        "id": "2qsbCnG9qJjq",
        "outputId": "a927c6b1-3386-4884-f6b9-61f66dedb9a3"
      },
      "execution_count": 24,
      "outputs": [
        {
          "output_type": "execute_result",
          "data": {
            "text/plain": [
              "<matplotlib.image.AxesImage at 0x7face972cd00>"
            ]
          },
          "metadata": {},
          "execution_count": 24
        },
        {
          "output_type": "display_data",
          "data": {
            "text/plain": [
              "<Figure size 640x480 with 1 Axes>"
            ],
            "image/png": "[encoded data removed]"
          },
          "metadata": {}
        }
      ]
    },
    {
      "cell_type": "code",
      "source": [
        "ls"
      ],
      "metadata": {
        "colab": {
          "base_uri": "https://localhost:8080/"
        },
        "id": "GwlAwTOqJfAT",
        "outputId": "a0363e29-ab7c-4779-fa06-72f2eb272f87"
      },
      "execution_count": 27,
      "outputs": [
        {
          "output_type": "stream",
          "name": "stdout",
          "text": [
            "0.jpg    213.jpg  327.jpg  440.jpg  554.jpg  668.jpg  781.jpg  895.jpg\n",
            "100.jpg  214.jpg  328.jpg  441.jpg  555.jpg  669.jpg  782.jpg  896.jpg\n",
            "101.jpg  215.jpg  329.jpg  442.jpg  556.jpg  66.jpg   783.jpg  897.jpg\n",
            "102.jpg  216.jpg  32.jpg   443.jpg  557.jpg  670.jpg  784.jpg  898.jpg\n",
            "103.jpg  217.jpg  330.jpg  444.jpg  558.jpg  671.jpg  785.jpg  899.jpg\n",
            "104.jpg  218.jpg  331.jpg  445.jpg  559.jpg  672.jpg  786.jpg  89.jpg\n",
            "105.jpg  219.jpg  332.jpg  446.jpg  55.jpg   673.jpg  787.jpg  8.jpg\n",
            "106.jpg  21.jpg   333.jpg  447.jpg  560.jpg  674.jpg  788.jpg  900.jpg\n",
            "107.jpg  220.jpg  334.jpg  448.jpg  561.jpg  675.jpg  789.jpg  901.jpg\n",
            "108.jpg  221.jpg  335.jpg  449.jpg  562.jpg  676.jpg  78.jpg   902.jpg\n",
            "109.jpg  222.jpg  336.jpg  44.jpg   563.jpg  677.jpg  790.jpg  903.jpg\n",
            "10.jpg   223.jpg  337.jpg  450.jpg  564.jpg  678.jpg  791.jpg  904.jpg\n",
            "110.jpg  224.jpg  338.jpg  451.jpg  565.jpg  679.jpg  792.jpg  905.jpg\n",
            "111.jpg  225.jpg  339.jpg  452.jpg  566.jpg  67.jpg   793.jpg  906.jpg\n",
            "112.jpg  226.jpg  33.jpg   453.jpg  567.jpg  680.jpg  794.jpg  907.jpg\n",
            "113.jpg  227.jpg  340.jpg  454.jpg  568.jpg  681.jpg  795.jpg  908.jpg\n",
            "114.jpg  228.jpg  341.jpg  455.jpg  569.jpg  682.jpg  796.jpg  909.jpg\n",
            "115.jpg  229.jpg  342.jpg  456.jpg  56.jpg   683.jpg  797.jpg  90.jpg\n",
            "116.jpg  22.jpg   343.jpg  457.jpg  570.jpg  684.jpg  798.jpg  910.jpg\n",
            "117.jpg  230.jpg  344.jpg  458.jpg  571.jpg  685.jpg  799.jpg  911.jpg\n",
            "118.jpg  231.jpg  345.jpg  459.jpg  572.jpg  686.jpg  79.jpg   912.jpg\n",
            "119.jpg  232.jpg  346.jpg  45.jpg   573.jpg  687.jpg  7.jpg    913.jpg\n",
            "11.jpg   233.jpg  347.jpg  460.jpg  574.jpg  688.jpg  800.jpg  914.jpg\n",
            "120.jpg  234.jpg  348.jpg  461.jpg  575.jpg  689.jpg  801.jpg  915.jpg\n",
            "121.jpg  235.jpg  349.jpg  462.jpg  576.jpg  68.jpg   802.jpg  916.jpg\n",
            "122.jpg  236.jpg  34.jpg   463.jpg  577.jpg  690.jpg  803.jpg  917.jpg\n",
            "123.jpg  237.jpg  350.jpg  464.jpg  578.jpg  691.jpg  804.jpg  918.jpg\n",
            "124.jpg  238.jpg  351.jpg  465.jpg  579.jpg  692.jpg  805.jpg  919.jpg\n",
            "125.jpg  239.jpg  352.jpg  466.jpg  57.jpg   693.jpg  806.jpg  91.jpg\n",
            "126.jpg  23.jpg   353.jpg  467.jpg  580.jpg  694.jpg  807.jpg  920.jpg\n",
            "127.jpg  240.jpg  354.jpg  468.jpg  581.jpg  695.jpg  808.jpg  921.jpg\n",
            "128.jpg  241.jpg  355.jpg  469.jpg  582.jpg  696.jpg  809.jpg  922.jpg\n",
            "129.jpg  242.jpg  356.jpg  46.jpg   583.jpg  697.jpg  80.jpg   923.jpg\n",
            "12.jpg   243.jpg  357.jpg  470.jpg  584.jpg  698.jpg  810.jpg  924.jpg\n",
            "130.jpg  244.jpg  358.jpg  471.jpg  585.jpg  699.jpg  811.jpg  925.jpg\n",
            "131.jpg  245.jpg  359.jpg  472.jpg  586.jpg  69.jpg   812.jpg  926.jpg\n",
            "132.jpg  246.jpg  35.jpg   473.jpg  587.jpg  6.jpg    813.jpg  927.jpg\n",
            "133.jpg  247.jpg  360.jpg  474.jpg  588.jpg  700.jpg  814.jpg  928.jpg\n",
            "134.jpg  248.jpg  361.jpg  475.jpg  589.jpg  701.jpg  815.jpg  929.jpg\n",
            "135.jpg  249.jpg  362.jpg  476.jpg  58.jpg   702.jpg  816.jpg  92.jpg\n",
            "136.jpg  24.jpg   363.jpg  477.jpg  590.jpg  703.jpg  817.jpg  930.jpg\n",
            "137.jpg  250.jpg  364.jpg  478.jpg  591.jpg  704.jpg  818.jpg  931.jpg\n",
            "138.jpg  251.jpg  365.jpg  479.jpg  592.jpg  705.jpg  819.jpg  932.jpg\n",
            "139.jpg  252.jpg  366.jpg  47.jpg   593.jpg  706.jpg  81.jpg   933.jpg\n",
            "13.jpg   253.jpg  367.jpg  480.jpg  594.jpg  707.jpg  820.jpg  934.jpg\n",
            "140.jpg  254.jpg  368.jpg  481.jpg  595.jpg  708.jpg  821.jpg  935.jpg\n",
            "141.jpg  255.jpg  369.jpg  482.jpg  596.jpg  709.jpg  822.jpg  936.jpg\n",
            "142.jpg  256.jpg  36.jpg   483.jpg  597.jpg  70.jpg   823.jpg  937.jpg\n",
            "143.jpg  257.jpg  370.jpg  484.jpg  598.jpg  710.jpg  824.jpg  938.jpg\n",
            "144.jpg  258.jpg  371.jpg  485.jpg  599.jpg  711.jpg  825.jpg  939.jpg\n",
            "145.jpg  259.jpg  372.jpg  486.jpg  59.jpg   712.jpg  826.jpg  93.jpg\n",
            "146.jpg  25.jpg   373.jpg  487.jpg  5.jpg    713.jpg  827.jpg  940.jpg\n",
            "147.jpg  260.jpg  374.jpg  488.jpg  600.jpg  714.jpg  828.jpg  941.jpg\n",
            "148.jpg  261.jpg  375.jpg  489.jpg  601.jpg  715.jpg  829.jpg  942.jpg\n",
            "149.jpg  262.jpg  376.jpg  48.jpg   602.jpg  716.jpg  82.jpg   943.jpg\n",
            "14.jpg   263.jpg  377.jpg  490.jpg  603.jpg  717.jpg  830.jpg  944.jpg\n",
            "150.jpg  264.jpg  378.jpg  491.jpg  604.jpg  718.jpg  831.jpg  945.jpg\n",
            "151.jpg  265.jpg  379.jpg  492.jpg  605.jpg  719.jpg  832.jpg  946.jpg\n",
            "152.jpg  266.jpg  37.jpg   493.jpg  606.jpg  71.jpg   833.jpg  947.jpg\n",
            "153.jpg  267.jpg  380.jpg  494.jpg  607.jpg  720.jpg  834.jpg  948.jpg\n",
            "154.jpg  268.jpg  381.jpg  495.jpg  608.jpg  721.jpg  835.jpg  949.jpg\n",
            "155.jpg  269.jpg  382.jpg  496.jpg  609.jpg  722.jpg  836.jpg  94.jpg\n",
            "156.jpg  26.jpg   383.jpg  497.jpg  60.jpg   723.jpg  837.jpg  950.jpg\n",
            "157.jpg  270.jpg  384.jpg  498.jpg  610.jpg  724.jpg  838.jpg  951.jpg\n",
            "158.jpg  271.jpg  385.jpg  499.jpg  611.jpg  725.jpg  839.jpg  952.jpg\n",
            "159.jpg  272.jpg  386.jpg  49.jpg   612.jpg  726.jpg  83.jpg   953.jpg\n",
            "15.jpg   273.jpg  387.jpg  4.jpg    613.jpg  727.jpg  840.jpg  954.jpg\n",
            "160.jpg  274.jpg  388.jpg  500.jpg  614.jpg  728.jpg  841.jpg  955.jpg\n",
            "161.jpg  275.jpg  389.jpg  501.jpg  615.jpg  729.jpg  842.jpg  956.jpg\n",
            "162.jpg  276.jpg  38.jpg   502.jpg  616.jpg  72.jpg   843.jpg  957.jpg\n",
            "163.jpg  277.jpg  390.jpg  503.jpg  617.jpg  730.jpg  844.jpg  958.jpg\n",
            "164.jpg  278.jpg  391.jpg  504.jpg  618.jpg  731.jpg  845.jpg  959.jpg\n",
            "165.jpg  279.jpg  392.jpg  505.jpg  619.jpg  732.jpg  846.jpg  95.jpg\n",
            "166.jpg  27.jpg   393.jpg  506.jpg  61.jpg   733.jpg  847.jpg  960.jpg\n",
            "167.jpg  280.jpg  394.jpg  507.jpg  620.jpg  734.jpg  848.jpg  961.jpg\n",
            "168.jpg  281.jpg  395.jpg  508.jpg  621.jpg  735.jpg  849.jpg  962.jpg\n",
            "169.jpg  282.jpg  396.jpg  509.jpg  622.jpg  736.jpg  84.jpg   963.jpg\n",
            "16.jpg   283.jpg  397.jpg  50.jpg   623.jpg  737.jpg  850.jpg  964.jpg\n",
            "170.jpg  284.jpg  398.jpg  510.jpg  624.jpg  738.jpg  851.jpg  965.jpg\n",
            "171.jpg  285.jpg  399.jpg  511.jpg  625.jpg  739.jpg  852.jpg  966.jpg\n",
            "172.jpg  286.jpg  39.jpg   512.jpg  626.jpg  73.jpg   853.jpg  967.jpg\n",
            "173.jpg  287.jpg  3.jpg    513.jpg  627.jpg  740.jpg  854.jpg  968.jpg\n",
            "174.jpg  288.jpg  400.jpg  514.jpg  628.jpg  741.jpg  855.jpg  969.jpg\n",
            "175.jpg  289.jpg  401.jpg  515.jpg  629.jpg  742.jpg  856.jpg  96.jpg\n",
            "176.jpg  28.jpg   402.jpg  516.jpg  62.jpg   743.jpg  857.jpg  970.jpg\n",
            "177.jpg  290.jpg  403.jpg  517.jpg  630.jpg  744.jpg  858.jpg  971.jpg\n",
            "178.jpg  291.jpg  404.jpg  518.jpg  631.jpg  745.jpg  859.jpg  972.jpg\n",
            "179.jpg  292.jpg  405.jpg  519.jpg  632.jpg  746.jpg  85.jpg   973.jpg\n",
            "17.jpg   293.jpg  406.jpg  51.jpg   633.jpg  747.jpg  860.jpg  974.jpg\n",
            "180.jpg  294.jpg  407.jpg  520.jpg  634.jpg  748.jpg  861.jpg  975.jpg\n",
            "181.jpg  295.jpg  408.jpg  521.jpg  635.jpg  749.jpg  862.jpg  976.jpg\n",
            "182.jpg  296.jpg  409.jpg  522.jpg  636.jpg  74.jpg   863.jpg  977.jpg\n",
            "183.jpg  297.jpg  40.jpg   523.jpg  637.jpg  750.jpg  864.jpg  978.jpg\n",
            "184.jpg  298.jpg  410.jpg  524.jpg  638.jpg  751.jpg  865.jpg  979.jpg\n",
            "185.jpg  299.jpg  411.jpg  525.jpg  639.jpg  752.jpg  866.jpg  97.jpg\n",
            "186.jpg  29.jpg   412.jpg  526.jpg  63.jpg   753.jpg  867.jpg  980.jpg\n",
            "187.jpg  2.jpg    413.jpg  527.jpg  640.jpg  754.jpg  868.jpg  981.jpg\n",
            "188.jpg  300.jpg  414.jpg  528.jpg  641.jpg  755.jpg  869.jpg  982.jpg\n",
            "189.jpg  301.jpg  415.jpg  529.jpg  642.jpg  756.jpg  86.jpg   983.jpg\n",
            "18.jpg   302.jpg  416.jpg  52.jpg   643.jpg  757.jpg  870.jpg  984.jpg\n",
            "190.jpg  303.jpg  417.jpg  530.jpg  644.jpg  758.jpg  871.jpg  985.jpg\n",
            "191.jpg  304.jpg  418.jpg  531.jpg  645.jpg  759.jpg  872.jpg  986.jpg\n",
            "192.jpg  305.jpg  419.jpg  532.jpg  646.jpg  75.jpg   873.jpg  987.jpg\n",
            "193.jpg  306.jpg  41.jpg   533.jpg  647.jpg  760.jpg  874.jpg  988.jpg\n",
            "194.jpg  307.jpg  420.jpg  534.jpg  648.jpg  761.jpg  875.jpg  989.jpg\n",
            "195.jpg  308.jpg  421.jpg  535.jpg  649.jpg  762.jpg  876.jpg  98.jpg\n",
            "196.jpg  309.jpg  422.jpg  536.jpg  64.jpg   763.jpg  877.jpg  990.jpg\n",
            "197.jpg  30.jpg   423.jpg  537.jpg  650.jpg  764.jpg  878.jpg  991.jpg\n",
            "198.jpg  310.jpg  424.jpg  538.jpg  651.jpg  765.jpg  879.jpg  992.jpg\n",
            "199.jpg  311.jpg  425.jpg  539.jpg  652.jpg  766.jpg  87.jpg   993.jpg\n",
            "19.jpg   312.jpg  426.jpg  53.jpg   653.jpg  767.jpg  880.jpg  994.jpg\n",
            "1.jpg    313.jpg  427.jpg  540.jpg  654.jpg  768.jpg  881.jpg  995.jpg\n",
            "200.jpg  314.jpg  428.jpg  541.jpg  655.jpg  769.jpg  882.jpg  996.jpg\n",
            "201.jpg  315.jpg  429.jpg  542.jpg  656.jpg  76.jpg   883.jpg  997.jpg\n",
            "202.jpg  316.jpg  42.jpg   543.jpg  657.jpg  770.jpg  884.jpg  998.jpg\n",
            "203.jpg  317.jpg  430.jpg  544.jpg  658.jpg  771.jpg  885.jpg  999.jpg\n",
            "204.jpg  318.jpg  431.jpg  545.jpg  659.jpg  772.jpg  886.jpg  99.jpg\n",
            "205.jpg  319.jpg  432.jpg  546.jpg  65.jpg   773.jpg  887.jpg  9.jpg\n",
            "206.jpg  31.jpg   433.jpg  547.jpg  660.jpg  774.jpg  888.jpg  \u001b[0m\u001b[01;34mnoisyblack15\u001b[0m/\n",
            "207.jpg  320.jpg  434.jpg  548.jpg  661.jpg  775.jpg  889.jpg  \u001b[01;34mnoisyblue15\u001b[0m/\n",
            "208.jpg  321.jpg  435.jpg  549.jpg  662.jpg  776.jpg  88.jpg   \u001b[01;34mnoisygreen15\u001b[0m/\n",
            "209.jpg  322.jpg  436.jpg  54.jpg   663.jpg  777.jpg  890.jpg  \u001b[01;34mnoisypurple15\u001b[0m/\n",
            "20.jpg   323.jpg  437.jpg  550.jpg  664.jpg  778.jpg  891.jpg  \u001b[01;34mnoisyred15\u001b[0m/\n",
            "210.jpg  324.jpg  438.jpg  551.jpg  665.jpg  779.jpg  892.jpg  \u001b[01;34mnoisywhite15\u001b[0m/\n",
            "211.jpg  325.jpg  439.jpg  552.jpg  666.jpg  77.jpg   893.jpg  \u001b[01;34mnoisyyellow15\u001b[0m/\n",
            "212.jpg  326.jpg  43.jpg   553.jpg  667.jpg  780.jpg  894.jpg  \u001b[01;34msample_data\u001b[0m/\n"
          ]
        }
      ]
    },
    {
      "cell_type": "code",
      "source": [
        "batch_size = 20\n",
        "img_height = 100\n",
        "img_width = 100\n",
        "data_dir = \"/content\""
      ],
      "metadata": {
        "id": "Q7kpi_Lrwfcb"
      },
      "execution_count": 14,
      "outputs": []
    },
    {
      "cell_type": "code",
      "source": [
        "val_ds = tf.keras.utils.image_dataset_from_directory(\n",
        "  data_dir,\n",
        "  validation_split=0.2,\n",
        "  subset=\"validation\",\n",
        "  seed=123,\n",
        "  image_size=(img_height, img_width),\n",
        "  batch_size=batch_size)"
      ],
      "metadata": {
        "colab": {
          "base_uri": "https://localhost:8080/"
        },
        "id": "jGraoKzGwnZL",
        "outputId": "7acf4079-1844-4bd8-eb7e-ddec08c2b01f"
      },
      "execution_count": 15,
      "outputs": [
        {
          "output_type": "stream",
          "name": "stdout",
          "text": [
            "Found 1000 files belonging to 9 classes.\n",
            "Using 200 files for validation.\n"
          ]
        }
      ]
    },
    {
      "cell_type": "code",
      "source": [
        "train_ds = tf.keras.utils.image_dataset_from_directory(\n",
        "  data_dir,\n",
        "  validation_split=0.2,\n",
        "  subset=\"training\",\n",
        "  seed=123,\n",
        "  image_size=(img_height, img_width),\n",
        "  batch_size=batch_size)"
      ],
      "metadata": {
        "colab": {
          "base_uri": "https://localhost:8080/"
        },
        "id": "v0-UK38Y7EAD",
        "outputId": "ba1c3757-2069-47af-f90d-d4a1633bcc70"
      },
      "execution_count": 16,
      "outputs": [
        {
          "output_type": "stream",
          "name": "stdout",
          "text": [
            "Found 1000 files belonging to 9 classes.\n",
            "Using 800 files for training.\n"
          ]
        }
      ]
    },
    {
      "cell_type": "code",
      "source": [],
      "metadata": {
        "id": "vKo6ujmF69NZ"
      },
      "execution_count": null,
      "outputs": []
    },
    {
      "cell_type": "code",
      "source": [
        "from tensorflow.keras import datasets, layers, models\n",
        "model = models.Sequential()\n",
        "model.add(layers.Conv2D(32, (3, 3), activation='relu', input_shape=(100, 100, 3)))\n",
        "model.add(layers.MaxPooling2D((2, 2)))\n",
        "model.add(layers.Conv2D(64, (3, 3), activation='relu'))\n",
        "model.add(layers.MaxPooling2D((2, 2)))\n",
        "model.add(layers.Conv2D(64, (3, 3), activation='relu'))"
      ],
      "metadata": {
        "id": "8JJQpHxrwuid"
      },
      "execution_count": 17,
      "outputs": []
    },
    {
      "cell_type": "code",
      "source": [
        "model.add(layers.Flatten())\n",
        "model.add(layers.Dense(64, activation='relu'))\n",
        "model.add(layers.Dense(10))"
      ],
      "metadata": {
        "id": "Z9nK8CFCwziB"
      },
      "execution_count": 18,
      "outputs": []
    },
    {
      "cell_type": "code",
      "source": [
        "model.summary()\n"
      ],
      "metadata": {
        "id": "p1EFieUew23n"
      },
      "execution_count": null,
      "outputs": []
    },
    {
      "cell_type": "code",
      "source": [
        "ls"
      ],
      "metadata": {
        "colab": {
          "base_uri": "https://localhost:8080/"
        },
        "id": "90RcZURyZDP9",
        "outputId": "67d0465a-d12d-4bf7-f120-8092ec0afcca"
      },
      "execution_count": null,
      "outputs": [
        {
          "output_type": "stream",
          "name": "stdout",
          "text": [
            "0.jpg    214.jpg  329.jpg  443.jpg  558.jpg  672.jpg  787.jpg  900.jpg\n",
            "100.jpg  215.jpg  32.jpg   444.jpg  559.jpg  673.jpg  788.jpg  901.jpg\n",
            "101.jpg  216.jpg  330.jpg  445.jpg  55.jpg   674.jpg  789.jpg  902.jpg\n",
            "102.jpg  217.jpg  331.jpg  446.jpg  560.jpg  675.jpg  78.jpg   903.jpg\n",
            "103.jpg  218.jpg  332.jpg  447.jpg  561.jpg  676.jpg  790.jpg  904.jpg\n",
            "104.jpg  219.jpg  333.jpg  448.jpg  562.jpg  677.jpg  791.jpg  905.jpg\n",
            "105.jpg  21.jpg   334.jpg  449.jpg  563.jpg  678.jpg  792.jpg  906.jpg\n",
            "106.jpg  220.jpg  335.jpg  44.jpg   564.jpg  679.jpg  793.jpg  907.jpg\n",
            "107.jpg  221.jpg  336.jpg  450.jpg  565.jpg  67.jpg   794.jpg  908.jpg\n",
            "108.jpg  222.jpg  337.jpg  451.jpg  566.jpg  680.jpg  795.jpg  909.jpg\n",
            "109.jpg  223.jpg  338.jpg  452.jpg  567.jpg  681.jpg  796.jpg  90.jpg\n",
            "10.jpg   224.jpg  339.jpg  453.jpg  568.jpg  682.jpg  797.jpg  910.jpg\n",
            "110.jpg  225.jpg  33.jpg   454.jpg  569.jpg  683.jpg  798.jpg  911.jpg\n",
            "111.jpg  226.jpg  340.jpg  455.jpg  56.jpg   684.jpg  799.jpg  912.jpg\n",
            "112.jpg  227.jpg  341.jpg  456.jpg  570.jpg  685.jpg  79.jpg   913.jpg\n",
            "113.jpg  228.jpg  342.jpg  457.jpg  571.jpg  686.jpg  7.jpg    914.jpg\n",
            "114.jpg  229.jpg  343.jpg  458.jpg  572.jpg  687.jpg  800.jpg  915.jpg\n",
            "115.jpg  22.jpg   344.jpg  459.jpg  573.jpg  688.jpg  801.jpg  916.jpg\n",
            "116.jpg  230.jpg  345.jpg  45.jpg   574.jpg  689.jpg  802.jpg  917.jpg\n",
            "117.jpg  231.jpg  346.jpg  460.jpg  575.jpg  68.jpg   803.jpg  918.jpg\n",
            "118.jpg  232.jpg  347.jpg  461.jpg  576.jpg  690.jpg  804.jpg  919.jpg\n",
            "119.jpg  233.jpg  348.jpg  462.jpg  577.jpg  691.jpg  805.jpg  91.jpg\n",
            "11.jpg   234.jpg  349.jpg  463.jpg  578.jpg  692.jpg  806.jpg  920.jpg\n",
            "120.jpg  235.jpg  34.jpg   464.jpg  579.jpg  693.jpg  807.jpg  921.jpg\n",
            "121.jpg  236.jpg  350.jpg  465.jpg  57.jpg   694.jpg  808.jpg  922.jpg\n",
            "122.jpg  237.jpg  351.jpg  466.jpg  580.jpg  695.jpg  809.jpg  923.jpg\n",
            "123.jpg  238.jpg  352.jpg  467.jpg  581.jpg  696.jpg  80.jpg   924.jpg\n",
            "124.jpg  239.jpg  353.jpg  468.jpg  582.jpg  697.jpg  810.jpg  925.jpg\n",
            "125.jpg  23.jpg   354.jpg  469.jpg  583.jpg  698.jpg  811.jpg  926.jpg\n",
            "126.jpg  240.jpg  355.jpg  46.jpg   584.jpg  699.jpg  812.jpg  927.jpg\n",
            "127.jpg  241.jpg  356.jpg  470.jpg  585.jpg  69.jpg   813.jpg  928.jpg\n",
            "128.jpg  242.jpg  357.jpg  471.jpg  586.jpg  6.jpg    814.jpg  929.jpg\n",
            "129.jpg  243.jpg  358.jpg  472.jpg  587.jpg  700.jpg  815.jpg  92.jpg\n",
            "12.jpg   244.jpg  359.jpg  473.jpg  588.jpg  701.jpg  816.jpg  930.jpg\n",
            "130.jpg  245.jpg  35.jpg   474.jpg  589.jpg  702.jpg  817.jpg  931.jpg\n",
            "131.jpg  246.jpg  360.jpg  475.jpg  58.jpg   703.jpg  818.jpg  932.jpg\n",
            "132.jpg  247.jpg  361.jpg  476.jpg  590.jpg  704.jpg  819.jpg  933.jpg\n",
            "133.jpg  248.jpg  362.jpg  477.jpg  591.jpg  705.jpg  81.jpg   934.jpg\n",
            "134.jpg  249.jpg  363.jpg  478.jpg  592.jpg  706.jpg  820.jpg  935.jpg\n",
            "135.jpg  24.jpg   364.jpg  479.jpg  593.jpg  707.jpg  821.jpg  936.jpg\n",
            "136.jpg  250.jpg  365.jpg  47.jpg   594.jpg  708.jpg  822.jpg  937.jpg\n",
            "137.jpg  251.jpg  366.jpg  480.jpg  595.jpg  709.jpg  823.jpg  938.jpg\n",
            "138.jpg  252.jpg  367.jpg  481.jpg  596.jpg  70.jpg   824.jpg  939.jpg\n",
            "139.jpg  253.jpg  368.jpg  482.jpg  597.jpg  710.jpg  825.jpg  93.jpg\n",
            "13.jpg   254.jpg  369.jpg  483.jpg  598.jpg  711.jpg  826.jpg  940.jpg\n",
            "140.jpg  255.jpg  36.jpg   484.jpg  599.jpg  712.jpg  827.jpg  941.jpg\n",
            "141.jpg  256.jpg  370.jpg  485.jpg  59.jpg   713.jpg  828.jpg  942.jpg\n",
            "142.jpg  257.jpg  371.jpg  486.jpg  5.jpg    714.jpg  829.jpg  943.jpg\n",
            "143.jpg  258.jpg  372.jpg  487.jpg  600.jpg  715.jpg  82.jpg   944.jpg\n",
            "144.jpg  259.jpg  373.jpg  488.jpg  601.jpg  716.jpg  830.jpg  945.jpg\n",
            "145.jpg  25.jpg   374.jpg  489.jpg  602.jpg  717.jpg  831.jpg  946.jpg\n",
            "146.jpg  260.jpg  375.jpg  48.jpg   603.jpg  718.jpg  832.jpg  947.jpg\n",
            "147.jpg  261.jpg  376.jpg  490.jpg  604.jpg  719.jpg  833.jpg  948.jpg\n",
            "148.jpg  262.jpg  377.jpg  491.jpg  605.jpg  71.jpg   834.jpg  949.jpg\n",
            "149.jpg  263.jpg  378.jpg  492.jpg  606.jpg  720.jpg  835.jpg  94.jpg\n",
            "14.jpg   264.jpg  379.jpg  493.jpg  607.jpg  721.jpg  836.jpg  950.jpg\n",
            "150.jpg  265.jpg  37.jpg   494.jpg  608.jpg  722.jpg  837.jpg  951.jpg\n",
            "151.jpg  266.jpg  380.jpg  495.jpg  609.jpg  723.jpg  838.jpg  952.jpg\n",
            "152.jpg  267.jpg  381.jpg  496.jpg  60.jpg   724.jpg  839.jpg  953.jpg\n",
            "153.jpg  268.jpg  382.jpg  497.jpg  610.jpg  725.jpg  83.jpg   954.jpg\n",
            "154.jpg  269.jpg  383.jpg  498.jpg  611.jpg  726.jpg  840.jpg  955.jpg\n",
            "155.jpg  26.jpg   384.jpg  499.jpg  612.jpg  727.jpg  841.jpg  956.jpg\n",
            "156.jpg  270.jpg  385.jpg  49.jpg   613.jpg  728.jpg  842.jpg  957.jpg\n",
            "157.jpg  271.jpg  386.jpg  4.jpg    614.jpg  729.jpg  843.jpg  958.jpg\n",
            "158.jpg  272.jpg  387.jpg  500.jpg  615.jpg  72.jpg   844.jpg  959.jpg\n",
            "159.jpg  273.jpg  388.jpg  501.jpg  616.jpg  730.jpg  845.jpg  95.jpg\n",
            "15.jpg   274.jpg  389.jpg  502.jpg  617.jpg  731.jpg  846.jpg  960.jpg\n",
            "160.jpg  275.jpg  38.jpg   503.jpg  618.jpg  732.jpg  847.jpg  961.jpg\n",
            "161.jpg  276.jpg  390.jpg  504.jpg  619.jpg  733.jpg  848.jpg  962.jpg\n",
            "162.jpg  277.jpg  391.jpg  505.jpg  61.jpg   734.jpg  849.jpg  963.jpg\n",
            "163.jpg  278.jpg  392.jpg  506.jpg  620.jpg  735.jpg  84.jpg   964.jpg\n",
            "164.jpg  279.jpg  393.jpg  507.jpg  621.jpg  736.jpg  850.jpg  965.jpg\n",
            "165.jpg  27.jpg   394.jpg  508.jpg  622.jpg  737.jpg  851.jpg  966.jpg\n",
            "166.jpg  280.jpg  395.jpg  509.jpg  623.jpg  738.jpg  852.jpg  967.jpg\n",
            "167.jpg  281.jpg  396.jpg  50.jpg   624.jpg  739.jpg  853.jpg  968.jpg\n",
            "168.jpg  282.jpg  397.jpg  510.jpg  625.jpg  73.jpg   854.jpg  969.jpg\n",
            "169.jpg  283.jpg  398.jpg  511.jpg  626.jpg  740.jpg  855.jpg  96.jpg\n",
            "16.jpg   284.jpg  399.jpg  512.jpg  627.jpg  741.jpg  856.jpg  970.jpg\n",
            "170.jpg  285.jpg  39.jpg   513.jpg  628.jpg  742.jpg  857.jpg  971.jpg\n",
            "171.jpg  286.jpg  3.jpg    514.jpg  629.jpg  743.jpg  858.jpg  972.jpg\n",
            "172.jpg  287.jpg  400.jpg  515.jpg  62.jpg   744.jpg  859.jpg  973.jpg\n",
            "173.jpg  288.jpg  401.jpg  516.jpg  630.jpg  745.jpg  85.jpg   974.jpg\n",
            "174.jpg  289.jpg  402.jpg  517.jpg  631.jpg  746.jpg  860.jpg  975.jpg\n",
            "175.jpg  28.jpg   403.jpg  518.jpg  632.jpg  747.jpg  861.jpg  976.jpg\n",
            "176.jpg  290.jpg  404.jpg  519.jpg  633.jpg  748.jpg  862.jpg  977.jpg\n",
            "177.jpg  291.jpg  405.jpg  51.jpg   634.jpg  749.jpg  863.jpg  978.jpg\n",
            "178.jpg  292.jpg  406.jpg  520.jpg  635.jpg  74.jpg   864.jpg  979.jpg\n",
            "179.jpg  293.jpg  407.jpg  521.jpg  636.jpg  750.jpg  865.jpg  97.jpg\n",
            "17.jpg   294.jpg  408.jpg  522.jpg  637.jpg  751.jpg  866.jpg  980.jpg\n",
            "180.jpg  295.jpg  409.jpg  523.jpg  638.jpg  752.jpg  867.jpg  981.jpg\n",
            "181.jpg  296.jpg  40.jpg   524.jpg  639.jpg  753.jpg  868.jpg  982.jpg\n",
            "182.jpg  297.jpg  410.jpg  525.jpg  63.jpg   754.jpg  869.jpg  983.jpg\n",
            "183.jpg  298.jpg  411.jpg  526.jpg  640.jpg  755.jpg  86.jpg   984.jpg\n",
            "184.jpg  299.jpg  412.jpg  527.jpg  641.jpg  756.jpg  870.jpg  985.jpg\n",
            "185.jpg  29.jpg   413.jpg  528.jpg  642.jpg  757.jpg  871.jpg  986.jpg\n",
            "186.jpg  2.jpg    414.jpg  529.jpg  643.jpg  758.jpg  872.jpg  987.jpg\n",
            "187.jpg  300.jpg  415.jpg  52.jpg   644.jpg  759.jpg  873.jpg  988.jpg\n",
            "188.jpg  301.jpg  416.jpg  530.jpg  645.jpg  75.jpg   874.jpg  989.jpg\n",
            "189.jpg  302.jpg  417.jpg  531.jpg  646.jpg  760.jpg  875.jpg  98.jpg\n",
            "18.jpg   303.jpg  418.jpg  532.jpg  647.jpg  761.jpg  876.jpg  990.jpg\n",
            "190.jpg  304.jpg  419.jpg  533.jpg  648.jpg  762.jpg  877.jpg  991.jpg\n",
            "191.jpg  305.jpg  41.jpg   534.jpg  649.jpg  763.jpg  878.jpg  992.jpg\n",
            "192.jpg  306.jpg  420.jpg  535.jpg  64.jpg   764.jpg  879.jpg  993.jpg\n",
            "193.jpg  307.jpg  421.jpg  536.jpg  650.jpg  765.jpg  87.jpg   994.jpg\n",
            "194.jpg  308.jpg  422.jpg  537.jpg  651.jpg  766.jpg  880.jpg  995.jpg\n",
            "195.jpg  309.jpg  423.jpg  538.jpg  652.jpg  767.jpg  881.jpg  996.jpg\n",
            "196.jpg  30.jpg   424.jpg  539.jpg  653.jpg  768.jpg  882.jpg  997.jpg\n",
            "197.jpg  310.jpg  425.jpg  53.jpg   654.jpg  769.jpg  883.jpg  998.jpg\n",
            "198.jpg  311.jpg  426.jpg  540.jpg  655.jpg  76.jpg   884.jpg  999.jpg\n",
            "199.jpg  312.jpg  427.jpg  541.jpg  656.jpg  770.jpg  885.jpg  99.jpg\n",
            "19.jpg   313.jpg  428.jpg  542.jpg  657.jpg  771.jpg  886.jpg  9.jpg\n",
            "1.jpg    314.jpg  429.jpg  543.jpg  658.jpg  772.jpg  887.jpg  model.tflite\n",
            "200.jpg  315.jpg  42.jpg   544.jpg  659.jpg  773.jpg  888.jpg  \u001b[0m\u001b[01;34mnoisyblack45\u001b[0m/\n",
            "201.jpg  316.jpg  430.jpg  545.jpg  65.jpg   774.jpg  889.jpg  \u001b[01;34mnoisyblue45\u001b[0m/\n",
            "202.jpg  317.jpg  431.jpg  546.jpg  660.jpg  775.jpg  88.jpg   \u001b[01;34mnoisygreen45\u001b[0m/\n",
            "203.jpg  318.jpg  432.jpg  547.jpg  661.jpg  776.jpg  890.jpg  \u001b[01;34mnoisypurple45\u001b[0m/\n",
            "204.jpg  319.jpg  433.jpg  548.jpg  662.jpg  777.jpg  891.jpg  \u001b[01;34mnoisyred45\u001b[0m/\n",
            "205.jpg  31.jpg   434.jpg  549.jpg  663.jpg  778.jpg  892.jpg  \u001b[01;34mnoisywhite45\u001b[0m/\n",
            "206.jpg  320.jpg  435.jpg  54.jpg   664.jpg  779.jpg  893.jpg  \u001b[01;34mnoisyyellow45\u001b[0m/\n",
            "207.jpg  321.jpg  436.jpg  550.jpg  665.jpg  77.jpg   894.jpg  \u001b[01;34msample_data\u001b[0m/\n",
            "208.jpg  322.jpg  437.jpg  551.jpg  666.jpg  780.jpg  895.jpg\n",
            "209.jpg  323.jpg  438.jpg  552.jpg  667.jpg  781.jpg  896.jpg\n",
            "20.jpg   324.jpg  439.jpg  553.jpg  668.jpg  782.jpg  897.jpg\n",
            "210.jpg  325.jpg  43.jpg   554.jpg  669.jpg  783.jpg  898.jpg\n",
            "211.jpg  326.jpg  440.jpg  555.jpg  66.jpg   784.jpg  899.jpg\n",
            "212.jpg  327.jpg  441.jpg  556.jpg  670.jpg  785.jpg  89.jpg\n",
            "213.jpg  328.jpg  442.jpg  557.jpg  671.jpg  786.jpg  8.jpg\n"
          ]
        }
      ]
    },
    {
      "cell_type": "code",
      "source": [
        "model.compile(optimizer='adam',\n",
        "              loss=tf.keras.losses.SparseCategoricalCrossentropy(from_logits=True),\n",
        "              metrics=['acc'])\n",
        "\n",
        "history = model.fit(numpydata_test, labels_test, epochs=10)"
      ],
      "metadata": {
        "colab": {
          "base_uri": "https://localhost:8080/"
        },
        "id": "sXqvcNaIw59W",
        "outputId": "2bf9d787-4a76-43a6-9b15-f506eafbd58d"
      },
      "execution_count": 19,
      "outputs": [
        {
          "output_type": "stream",
          "name": "stdout",
          "text": [
            "Epoch 1/10\n",
            "32/32 [==============================] - 12s 20ms/step - loss: 20.6769 - acc: 0.4780\n",
            "Epoch 2/10\n",
            "32/32 [==============================] - 0s 13ms/step - loss: 1.0195 - acc: 0.6150\n",
            "Epoch 3/10\n",
            "32/32 [==============================] - 0s 13ms/step - loss: 0.9025 - acc: 0.6470\n",
            "Epoch 4/10\n",
            "32/32 [==============================] - 0s 12ms/step - loss: 0.8436 - acc: 0.6370\n",
            "Epoch 5/10\n",
            "32/32 [==============================] - 0s 13ms/step - loss: 0.8467 - acc: 0.6560\n",
            "Epoch 6/10\n",
            "32/32 [==============================] - 0s 13ms/step - loss: 0.8398 - acc: 0.6340\n",
            "Epoch 7/10\n",
            "32/32 [==============================] - 0s 13ms/step - loss: 0.7555 - acc: 0.6910\n",
            "Epoch 8/10\n",
            "32/32 [==============================] - 0s 15ms/step - loss: 0.6434 - acc: 0.6980\n",
            "Epoch 9/10\n",
            "32/32 [==============================] - 0s 14ms/step - loss: 0.6462 - acc: 0.7230\n",
            "Epoch 10/10\n",
            "32/32 [==============================] - 0s 14ms/step - loss: 0.6802 - acc: 0.7240\n"
          ]
        }
      ]
    },
    {
      "cell_type": "code",
      "source": [
        "import numpy as np\n",
        "np.argmax(model(numpydata_test)[99])"
      ],
      "metadata": {
        "colab": {
          "base_uri": "https://localhost:8080/"
        },
        "id": "YRwhwTzwHVgG",
        "outputId": "914747ba-4e7d-4118-9125-4815861c923e"
      },
      "execution_count": 37,
      "outputs": [
        {
          "output_type": "execute_result",
          "data": {
            "text/plain": [
              "6"
            ]
          },
          "metadata": {},
          "execution_count": 37
        }
      ]
    },
    {
      "cell_type": "code",
      "source": [
        "class_names = val_ds.class_names\n",
        "print(class_names)"
      ],
      "metadata": {
        "colab": {
          "base_uri": "https://localhost:8080/"
        },
        "id": "UeZdKlS5L31b",
        "outputId": "fcba159d-0c9b-4019-95d8-8fb722cb88d3"
      },
      "execution_count": 32,
      "outputs": [
        {
          "output_type": "stream",
          "name": "stdout",
          "text": [
            "['.config', 'noisyblack15', 'noisyblue15', 'noisygreen15', 'noisypurple15', 'noisyred15', 'noisywhite15', 'noisyyellow15', 'sample_data']\n"
          ]
        }
      ]
    },
    {
      "cell_type": "code",
      "source": [
        "cd noisy"
      ],
      "metadata": {
        "id": "BGbY_vyKJbLG"
      },
      "execution_count": 44,
      "outputs": []
    },
    {
      "cell_type": "markdown",
      "source": [
        "result of validation on images with 15% noises\n",
        "\n",
        "Epoch 1/10\n",
        "32/32 [==============================] - 2s 14ms/step - loss: 23.3167 - acc: 0.5580\n",
        "Epoch 2/10\n",
        "32/32 [==============================] - 0s 13ms/step - loss: 1.1656 - acc: 0.5690\n",
        "Epoch 3/10\n",
        "32/32 [==============================] - 0s 13ms/step - loss: 0.9001 - acc: 0.5720\n",
        "Epoch 4/10\n",
        "32/32 [==============================] - 0s 14ms/step - loss: 0.9191 - acc: 0.6100\n",
        "Epoch 5/10\n",
        "32/32 [==============================] - 0s 14ms/step - loss: 1.4659 - acc: 0.4780\n",
        "Epoch 6/10\n",
        "32/32 [==============================] - 0s 14ms/step - loss: 1.4780 - acc: 0.6610\n",
        "Epoch 7/10\n",
        "32/32 [==============================] - 0s 14ms/step - loss: 1.2863 - acc: 0.6870\n",
        "Epoch 8/10\n",
        "32/32 [==============================] - 1s 16ms/step - loss: 1.1594 - acc: 0.6840\n",
        "Epoch 9/10\n",
        "32/32 [==============================] - 0s 13ms/step - loss: 0.9598 - acc: 0.6970\n",
        "Epoch 10/10\n",
        "32/32 [==============================] - 0s 13ms/step - loss: 0.8754 - acc: 0.6960\n"
      ],
      "metadata": {
        "id": "JEmh3RTRbVve"
      }
    },
    {
      "cell_type": "markdown",
      "source": [
        "result of validation on images with 25% noises\n",
        "\n",
        "Epoch 1/10\n",
        "32/32 [==============================] - 2s 14ms/step - loss: 50.5913 - acc: 0.5270\n",
        "Epoch 2/10\n",
        "32/32 [==============================] - 0s 13ms/step - loss: 1.1217 - acc: 0.6170\n",
        "Epoch 3/10\n",
        "32/32 [==============================] - 0s 12ms/step - loss: 0.7228 - acc: 0.7160\n",
        "Epoch 4/10\n",
        "32/32 [==============================] - 0s 12ms/step - loss: 0.6273 - acc: 0.7380\n",
        "Epoch 5/10\n",
        "32/32 [==============================] - 0s 13ms/step - loss: 0.6090 - acc: 0.7480\n",
        "Epoch 6/10\n",
        "32/32 [==============================] - 0s 13ms/step - loss: 0.5925 - acc: 0.7560\n",
        "Epoch 7/10\n",
        "32/32 [==============================] - 0s 12ms/step - loss: 0.5152 - acc: 0.7970\n",
        "Epoch 8/10\n",
        "32/32 [==============================] - 0s 13ms/step - loss: 0.4877 - acc: 0.8060\n",
        "Epoch 9/10\n",
        "32/32 [==============================] - 0s 13ms/step - loss: 0.6852 - acc: 0.7500\n",
        "Epoch 10/10\n",
        "32/32 [==============================] - 0s 13ms/step - loss: 0.5254 - acc: 0.7950"
      ],
      "metadata": {
        "id": "HH21PW9hilVv"
      }
    },
    {
      "cell_type": "code",
      "source": [],
      "metadata": {
        "id": "xV8gyLE0m2zD"
      },
      "execution_count": null,
      "outputs": []
    },
    {
      "cell_type": "markdown",
      "source": [
        "result of validation on images with 45% noises\n",
        "\n",
        "Epoch 1/10\n",
        "32/32 [==============================] - 3s 16ms/step - loss: 29.4900 - acc: 0.3580\n",
        "Epoch 2/10\n",
        "32/32 [==============================] - 0s 14ms/step - loss: 1.2315 - acc: 0.4990\n",
        "Epoch 3/10\n",
        "32/32 [==============================] - 0s 14ms/step - loss: 1.1706 - acc: 0.4840\n",
        "Epoch 4/10\n",
        "32/32 [==============================] - 0s 14ms/step - loss: 1.1235 - acc: 0.4900\n",
        "Epoch 5/10\n",
        "32/32 [==============================] - 0s 14ms/step - loss: 1.1577 - acc: 0.4790\n",
        "Epoch 6/10\n",
        "32/32 [==============================] - 0s 13ms/step - loss: 2.0312 - acc: 0.3690\n",
        "Epoch 7/10\n",
        "32/32 [==============================] - 0s 13ms/step - loss: 1.8527 - acc: 0.3870\n",
        "Epoch 8/10\n",
        "32/32 [==============================] - 0s 12ms/step - loss: 1.6437 - acc: 0.3980\n",
        "Epoch 9/10\n",
        "32/32 [==============================] - 0s 13ms/step - loss: 1.4801 - acc: 0.3980\n",
        "Epoch 10/10\n",
        "32/32 [==============================] - 0s 13ms/step - loss: 1.3650 - acc: 0.3980\n"
      ],
      "metadata": {
        "id": "BVEeaxHIe1Q9"
      }
    },
    {
      "cell_type": "code",
      "source": [
        "rm -rf tf"
      ],
      "metadata": {
        "id": "3eSM-gChkUk_"
      },
      "execution_count": null,
      "outputs": []
    },
    {
      "cell_type": "markdown",
      "source": [],
      "metadata": {
        "id": "uwA8uxKtZA-p"
      }
    },
    {
      "cell_type": "code",
      "source": [
        "import matplotlib.pyplot as plt\n",
        "plt.plot(history.history['acc'], label='acc')\n",
        "plt.plot(history.history['val_acc'], label = 'val_acc')\n",
        "plt.xlabel('Epoch')\n",
        "plt.ylabel('Accuracy')\n",
        "plt.ylim([0.5, 1])\n",
        "plt.legend(loc='lower right')\n",
        "\n",
        "test_loss, test_acc = model.evaluate(numpydata_test,  labels_test, verbose=2)"
      ],
      "metadata": {
        "id": "RnSu8J9yw7Jw"
      },
      "execution_count": null,
      "outputs": []
    }
  ]
}
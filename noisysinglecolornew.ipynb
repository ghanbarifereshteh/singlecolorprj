{
  "nbformat": 4,
  "nbformat_minor": 0,
  "metadata": {
    "colab": {
      "provenance": [],
      "gpuType": "T4",
      "include_colab_link": true
    },
    "kernelspec": {
      "name": "python3",
      "display_name": "Python 3"
    },
    "language_info": {
      "name": "python"
    },
    "accelerator": "GPU"
  },
  "cells": [
    {
      "cell_type": "markdown",
      "metadata": {
        "id": "view-in-github",
        "colab_type": "text"
      },
      "source": [
        "<a href=\"https://colab.research.google.com/github/ghanbarifereshteh/singlecolorprj/blob/main/noisysinglecolornew.ipynb\" target=\"_parent\"><img src=\"https://colab.research.google.com/assets/colab-badge.svg\" alt=\"Open In Colab\"/></a>"
      ]
    },
    {
      "cell_type": "code",
      "execution_count": 2,
      "metadata": {
        "id": "Vd5OhAASfLfs"
      },
      "outputs": [],
      "source": [
        "import numpy as np\n",
        "import tensorflow as tf\n",
        "\n",
        "from tensorflow import keras\n",
        "from tensorflow.keras import layers\n",
        "from tensorflow.keras.models import Sequential\n",
        "from sklearn.model_selection import train_test_split\n",
        "from PIL import Image\n",
        "from numpy import asarray\n",
        "import shutil\n",
        "import os"
      ]
    },
    {
      "cell_type": "code",
      "source": [
        "#generate original data\n",
        "#generate 3 random number and then create a 180*180 image(with single color)\n",
        "from PIL import Image\n",
        "def createimage(numberOfimg,sizeOfImage):\n",
        "  for i in range(numberOfimg):\n",
        "    red = np.random.choice(range(256), size=1)\n",
        "    green = np.random.choice(range(256), size=1)\n",
        "    blue = np.random.choice(range(256), size=1)\n",
        "    img = Image.new('RGB', (sizeOfImage, sizeOfImage), (red[0], green[0], blue[0]))\n",
        "    img.save(str(i)+\".jpg\")"
      ],
      "metadata": {
        "id": "Prd0SO5BgsC3"
      },
      "execution_count": 3,
      "outputs": []
    },
    {
      "cell_type": "markdown",
      "source": [
        "In this notebook, we have a function that generates images with noises. we send the percent of the noise we want, so the images are created.and also this function creates 7 folders and classifies data."
      ],
      "metadata": {
        "id": "WE1hLJ5eRuTL"
      }
    },
    {
      "cell_type": "code",
      "source": [
        "def get_color_name(rgb):\n",
        "  colors = {\n",
        "    \"red\": (255, 0, 0),\n",
        "    \"green\": (0, 255, 0),\n",
        "    \"blue\": (0, 0, 255),\n",
        "    \"yellow\": (255, 255, 0),\n",
        "    \"magenta\": (255, 0, 255),\n",
        "    \"cyan\": (0, 255, 255),\n",
        "    \"black\": (0, 0, 0),\n",
        "    \"white\": (255, 255, 255)\n",
        "  }\n",
        "  min_distance = float(\"inf\")\n",
        "  closest_color = None\n",
        "  for color, value in colors.items():\n",
        "    distance = sum([(i - j) ** 2 for i, j in zip(rgb, value)])\n",
        "    if distance < min_distance:\n",
        "        min_distance = distance\n",
        "        closest_color = color\n",
        "  return closest_color"
      ],
      "metadata": {
        "id": "7MBRp_c33Kt-"
      },
      "execution_count": 4,
      "outputs": []
    },
    {
      "cell_type": "code",
      "source": [
        "#create image whith percent% noise\n",
        "def createNoisyImage(numberOfImages,sizeOfImage,percent):\n",
        "  folder = \"\"\n",
        "  label = 0\n",
        "  sum = 0\n",
        "  numpydata_noisy = np.empty([numberOfImages, sizeOfImage, sizeOfImage, 3], dtype=np.int)\n",
        "  labels_noisy = []\n",
        "  for i in range(0,numberOfImages):\n",
        "    #before applying noises, we must distinguish the color\n",
        "    name = str(i)+\".jpg\"\n",
        "    img = Image.open(name)\n",
        "    numpydata_noisy[i] = asarray(img)\n",
        "    red = numpydata_noisy[i][0][0][0]\n",
        "    green = numpydata_noisy[i][0][0][1]\n",
        "    blue = numpydata_noisy[i][0][0][2]\n",
        "    color = list(np.random.choice(range(256), size=3))\n",
        "    color = (red,green,blue)\n",
        "    folder = get_color_name(color)\n",
        "    labels_noisy.append(folder)\n",
        "    noiseColor=list(np.random.choice(range(256), size=3));\n",
        "    for j in range(0,sizeOfImage*percent) :\n",
        "        x=np.random.choice(range(100))\n",
        "        y=np.random.choice(range(100))\n",
        "        img.putpixel((x,y), (noiseColor[0], noiseColor[1], noiseColor[2]))\n",
        "        #plt.imshow(img)\n",
        "    newName = \"noise\"+str(percent)+str(i)+\".jpg\"\n",
        "    if not os.path.exists(\"/content/\"+folder):\n",
        "      # if the demo_folder directory is not present\n",
        "      # then create it.\n",
        "      os.makedirs(\"/content/\"+folder)\n",
        "    img.save(\"/content/\"+folder+\"/\"+newName)\n",
        "    numpydata_noisy[i] = asarray(img)\n",
        "  return labels_noisy,numpydata_noisy"
      ],
      "metadata": {
        "id": "oroBVP5Rfggt"
      },
      "execution_count": 5,
      "outputs": []
    },
    {
      "cell_type": "markdown",
      "source": [
        "for start creating data and training run codes below.\n",
        "we first remove any folder in the root.because the training model use the folders in the directory path as classes.\n"
      ],
      "metadata": {
        "id": "YMWZzdNXSvbj"
      }
    },
    {
      "cell_type": "code",
      "source": [
        "rm -rf *"
      ],
      "metadata": {
        "id": "CYcWHgEf4tZ9"
      },
      "execution_count": 19,
      "outputs": []
    },
    {
      "cell_type": "code",
      "source": [
        "ls"
      ],
      "metadata": {
        "id": "Nvg9XzFQFEfx"
      },
      "execution_count": 23,
      "outputs": []
    },
    {
      "cell_type": "markdown",
      "source": [
        "we create 1000 images as a single color dataset."
      ],
      "metadata": {
        "id": "tD1QdD0EaOcn"
      }
    },
    {
      "cell_type": "code",
      "source": [
        "createimage(3000,100)"
      ],
      "metadata": {
        "id": "H8VF6dVCmhBC"
      },
      "execution_count": 24,
      "outputs": []
    },
    {
      "cell_type": "markdown",
      "source": [
        "and then make them noisy."
      ],
      "metadata": {
        "id": "e1t58zuJTg2v"
      }
    },
    {
      "cell_type": "code",
      "source": [
        "(labels_test,numpydata_test) = createNoisyImage(3000,100,0)"
      ],
      "metadata": {
        "id": "JbShG509m7O2",
        "colab": {
          "base_uri": "https://localhost:8080/"
        },
        "outputId": "6d528883-4884-4abd-d0a4-2bd66cdc2012"
      },
      "execution_count": 25,
      "outputs": [
        {
          "output_type": "stream",
          "name": "stderr",
          "text": [
            "<ipython-input-5-1659f6911308>:6: DeprecationWarning: `np.int` is a deprecated alias for the builtin `int`. To silence this warning, use `int` by itself. Doing this will not modify any behavior and is safe. When replacing `np.int`, you may wish to use e.g. `np.int64` or `np.int32` to specify the precision. If you wish to review your current use, check the release note link for additional information.\n",
            "Deprecated in NumPy 1.20; for more details and guidance: https://numpy.org/devdocs/release/1.20.0-notes.html#deprecations\n",
            "  numpydata_noisy = np.empty([numberOfImages, sizeOfImage, sizeOfImage, 3], dtype=np.int)\n"
          ]
        }
      ]
    },
    {
      "cell_type": "code",
      "source": [
        "after creating noisy images, please go further to start training.\n",
        "And for creating noisy images with other percent of noise, run the corresponding command bellow. be carefull to remove remaining folders."
      ],
      "metadata": {
        "id": "w1vV8a1qUMDw"
      },
      "execution_count": null,
      "outputs": []
    },
    {
      "cell_type": "code",
      "source": [
        "import matplotlib.pyplot as plt\n",
        "plt.imshow(numpydata_test[141])\n",
        "print(labels_test[141])"
      ],
      "metadata": {
        "colab": {
          "base_uri": "https://localhost:8080/",
          "height": 450
        },
        "id": "LP4s5AeLLelO",
        "outputId": "48d49ace-ab25-45d7-8136-c8fb4619ed41"
      },
      "execution_count": null,
      "outputs": [
        {
          "output_type": "stream",
          "name": "stdout",
          "text": [
            "6\n"
          ]
        },
        {
          "output_type": "display_data",
          "data": {
            "text/plain": [
              "<Figure size 640x480 with 1 Axes>"
            ],
            "image/png": "[encoded data removed]"
          },
          "metadata": {}
        }
      ]
    },
    {
      "cell_type": "markdown",
      "source": [
        "when you want to create iamges with 25% noises"
      ],
      "metadata": {
        "id": "4uAh94WfaEw9"
      }
    },
    {
      "cell_type": "code",
      "source": [
        "rm -rf noisy*"
      ],
      "metadata": {
        "id": "PDPt6-I6bfg8"
      },
      "execution_count": null,
      "outputs": []
    },
    {
      "cell_type": "code",
      "source": [
        "(labels_test,numpydata_test) = createNoisyImage(1000,100,25)"
      ],
      "metadata": {
        "id": "XOPOUgjn4KJ3"
      },
      "execution_count": null,
      "outputs": []
    },
    {
      "cell_type": "code",
      "source": [
        "ls"
      ],
      "metadata": {
        "colab": {
          "base_uri": "https://localhost:8080/"
        },
        "id": "tX1JpnA_ekSE",
        "outputId": "8ffee3eb-8c9f-42d0-f90f-dcd257836ed5"
      },
      "execution_count": null,
      "outputs": [
        {
          "output_type": "stream",
          "name": "stdout",
          "text": [
            "noise25938.jpg\n"
          ]
        }
      ]
    },
    {
      "cell_type": "code",
      "source": [
        "import matplotlib.pyplot as plt\n",
        "plt.imshow(numpydata_test[938])"
      ],
      "metadata": {
        "colab": {
          "base_uri": "https://localhost:8080/",
          "height": 450
        },
        "id": "4ycILQz7etwT",
        "outputId": "19f13c63-91a1-44ed-fb01-53f8ed4863d0"
      },
      "execution_count": null,
      "outputs": [
        {
          "output_type": "execute_result",
          "data": {
            "text/plain": [
              "<matplotlib.image.AxesImage at 0x7b0662aab4f0>"
            ]
          },
          "metadata": {},
          "execution_count": 70
        },
        {
          "output_type": "display_data",
          "data": {
            "text/plain": [
              "<Figure size 640x480 with 1 Axes>"
            ],
            "image/png": "[encoded data removed]"
          },
          "metadata": {}
        }
      ]
    },
    {
      "cell_type": "code",
      "source": [
        "rm -rf noisy*"
      ],
      "metadata": {
        "id": "afVIhkzzg4Ia"
      },
      "execution_count": null,
      "outputs": []
    },
    {
      "cell_type": "code",
      "source": [
        "(labels_test,numpydata_test) = createNoisyImage(1000,100,45)"
      ],
      "metadata": {
        "id": "hJMrUDm_hVky"
      },
      "execution_count": null,
      "outputs": []
    },
    {
      "cell_type": "code",
      "source": [
        "cd noisygreen15/"
      ],
      "metadata": {
        "id": "9lCjF2wup53C",
        "colab": {
          "base_uri": "https://localhost:8080/"
        },
        "outputId": "7d86fded-f94b-43dc-ab39-71c28c5915e2"
      },
      "execution_count": null,
      "outputs": [
        {
          "output_type": "stream",
          "name": "stdout",
          "text": [
            "/content/noisygreen15\n"
          ]
        }
      ]
    },
    {
      "cell_type": "code",
      "source": [
        "import matplotlib.pyplot as plt\n",
        "plt.imshow(numpydata_test[987])"
      ],
      "metadata": {
        "colab": {
          "base_uri": "https://localhost:8080/",
          "height": 450
        },
        "id": "2qsbCnG9qJjq",
        "outputId": "a927c6b1-3386-4884-f6b9-61f66dedb9a3"
      },
      "execution_count": null,
      "outputs": [
        {
          "output_type": "execute_result",
          "data": {
            "text/plain": [
              "<matplotlib.image.AxesImage at 0x7face972cd00>"
            ]
          },
          "metadata": {},
          "execution_count": 24
        },
        {
          "output_type": "display_data",
          "data": {
            "text/plain": [
              "<Figure size 640x480 with 1 Axes>"
            ],
            "image/png": "[encoded data removed]"
          },
          "metadata": {}
        }
      ]
    },
    {
      "cell_type": "code",
      "source": [
        "import pathlib\n",
        "current_working_directory = os.getcwd()\n",
        "data_dir = pathlib.Path(current_working_directory)\n",
        "print(data_dir)"
      ],
      "metadata": {
        "colab": {
          "base_uri": "https://localhost:8080/"
        },
        "id": "SmsHG_wAg4kv",
        "outputId": "20e097e8-4ad8-448c-aff6-d18fffb4241e"
      },
      "execution_count": 13,
      "outputs": [
        {
          "output_type": "stream",
          "name": "stdout",
          "text": [
            "/content\n"
          ]
        }
      ]
    },
    {
      "cell_type": "code",
      "source": [
        "batch_size = 32\n",
        "img_height = 100\n",
        "img_width = 100"
      ],
      "metadata": {
        "id": "Q7kpi_Lrwfcb"
      },
      "execution_count": 26,
      "outputs": []
    },
    {
      "cell_type": "code",
      "source": [
        "val_ds = tf.keras.utils.image_dataset_from_directory(\n",
        "  data_dir,\n",
        "  validation_split=0.2,\n",
        "  subset=\"validation\",\n",
        "  seed=123,\n",
        "  image_size=(img_height, img_width),\n",
        "  batch_size=batch_size)"
      ],
      "metadata": {
        "colab": {
          "base_uri": "https://localhost:8080/"
        },
        "id": "jGraoKzGwnZL",
        "outputId": "4fcc52ae-3d29-407d-f0c4-8d0c934155db"
      },
      "execution_count": 33,
      "outputs": [
        {
          "output_type": "stream",
          "name": "stdout",
          "text": [
            "Found 3000 files belonging to 8 classes.\n",
            "Using 600 files for validation.\n"
          ]
        }
      ]
    },
    {
      "cell_type": "code",
      "source": [
        "train_ds = tf.keras.utils.image_dataset_from_directory(\n",
        "  data_dir,\n",
        "  validation_split=0.2,\n",
        "  subset=\"training\",\n",
        "  seed=123,\n",
        "  image_size=(img_height, img_width),\n",
        "  batch_size=batch_size)"
      ],
      "metadata": {
        "colab": {
          "base_uri": "https://localhost:8080/"
        },
        "id": "v0-UK38Y7EAD",
        "outputId": "cf1bac6e-639e-419d-8615-e7f899eb26ff"
      },
      "execution_count": 32,
      "outputs": [
        {
          "output_type": "stream",
          "name": "stdout",
          "text": [
            "Found 3000 files belonging to 8 classes.\n",
            "Using 2400 files for training.\n"
          ]
        }
      ]
    },
    {
      "cell_type": "code",
      "source": [
        "val_ds.class_names"
      ],
      "metadata": {
        "id": "vKo6ujmF69NZ",
        "outputId": "5fd3ca93-fa9d-4e06-a8b2-914fbf3b201c",
        "colab": {
          "base_uri": "https://localhost:8080/"
        }
      },
      "execution_count": 34,
      "outputs": [
        {
          "output_type": "execute_result",
          "data": {
            "text/plain": [
              "['black', 'blue', 'cyan', 'green', 'magenta', 'red', 'white', 'yellow']"
            ]
          },
          "metadata": {},
          "execution_count": 34
        }
      ]
    },
    {
      "cell_type": "code",
      "source": [
        "!ls -1 white|wc -l"
      ],
      "metadata": {
        "id": "iERzIUmTFcNr",
        "outputId": "2677c198-1eae-4688-ca30-2cb447f9966b",
        "colab": {
          "base_uri": "https://localhost:8080/"
        }
      },
      "execution_count": 48,
      "outputs": [
        {
          "output_type": "stream",
          "name": "stdout",
          "text": [
            "364\n"
          ]
        }
      ]
    },
    {
      "cell_type": "code",
      "source": [
        "from tensorflow.keras import datasets, layers, models\n",
        "model = models.Sequential()\n",
        "model.add(layers.Conv2D(32, (3, 3), activation='relu', input_shape=(100, 100, 3)))\n",
        "model.add(layers.MaxPooling2D((2, 2)))\n",
        "model.add(layers.Conv2D(64, (3, 3), activation='relu'))\n",
        "model.add(layers.MaxPooling2D((2, 2)))\n",
        "model.add(layers.Conv2D(64, (3, 3), activation='relu'))"
      ],
      "metadata": {
        "id": "8JJQpHxrwuid"
      },
      "execution_count": 91,
      "outputs": []
    },
    {
      "cell_type": "code",
      "source": [
        "model.add(layers.Flatten())\n",
        "model.add(layers.Dense(64, activation='relu'))\n",
        "model.add(layers.Dense(10))"
      ],
      "metadata": {
        "id": "Z9nK8CFCwziB"
      },
      "execution_count": 92,
      "outputs": []
    },
    {
      "cell_type": "code",
      "source": [
        "model.summary()\n"
      ],
      "metadata": {
        "id": "p1EFieUew23n"
      },
      "execution_count": null,
      "outputs": []
    },
    {
      "cell_type": "code",
      "source": [
        "model.compile(optimizer='adam',\n",
        "              loss=tf.keras.losses.SparseCategoricalCrossentropy(from_logits=True),\n",
        "              metrics=['acc'])\n",
        "callback = tf.keras.callbacks.EarlyStopping(monitor='val_loss',\n",
        "                                            patience=5,\n",
        "                                            verbose=1)\n",
        "epochs = 100\n",
        "history = model.fit(train_ds,validation_data=val_ds,epochs=epochs,shuffle='true',callbacks=[callback])\n",
        "#history = model.fit(numpydata_test, labels_test, epochs=10)"
      ],
      "metadata": {
        "colab": {
          "base_uri": "https://localhost:8080/"
        },
        "id": "sXqvcNaIw59W",
        "outputId": "6ac39e8d-8fe9-4704-f33c-5c85922259a5"
      },
      "execution_count": 93,
      "outputs": [
        {
          "output_type": "stream",
          "name": "stdout",
          "text": [
            "Epoch 1/100\n",
            "75/75 [==============================] - 3s 16ms/step - loss: 18.4712 - acc: 0.4379 - val_loss: 1.1330 - val_acc: 0.6417\n",
            "Epoch 2/100\n",
            "75/75 [==============================] - 1s 16ms/step - loss: 1.2819 - acc: 0.5775 - val_loss: 1.2159 - val_acc: 0.5883\n",
            "Epoch 3/100\n",
            "75/75 [==============================] - 1s 17ms/step - loss: 1.1104 - acc: 0.6342 - val_loss: 0.9001 - val_acc: 0.6783\n",
            "Epoch 4/100\n",
            "75/75 [==============================] - 1s 16ms/step - loss: 0.9265 - acc: 0.6729 - val_loss: 0.8465 - val_acc: 0.6567\n",
            "Epoch 5/100\n",
            "75/75 [==============================] - 2s 20ms/step - loss: 1.0773 - acc: 0.6179 - val_loss: 0.9170 - val_acc: 0.6483\n",
            "Epoch 6/100\n",
            "75/75 [==============================] - 1s 14ms/step - loss: 0.9569 - acc: 0.6562 - val_loss: 1.0556 - val_acc: 0.5933\n",
            "Epoch 7/100\n",
            "75/75 [==============================] - 1s 15ms/step - loss: 0.8333 - acc: 0.6746 - val_loss: 0.8030 - val_acc: 0.6967\n",
            "Epoch 8/100\n",
            "75/75 [==============================] - 1s 16ms/step - loss: 0.8163 - acc: 0.6833 - val_loss: 0.7623 - val_acc: 0.6950\n",
            "Epoch 9/100\n",
            "75/75 [==============================] - 1s 16ms/step - loss: 0.8458 - acc: 0.6750 - val_loss: 0.7792 - val_acc: 0.6783\n",
            "Epoch 10/100\n",
            "75/75 [==============================] - 1s 16ms/step - loss: 0.7675 - acc: 0.6958 - val_loss: 0.7623 - val_acc: 0.6783\n",
            "Epoch 11/100\n",
            "75/75 [==============================] - 1s 14ms/step - loss: 0.7223 - acc: 0.7042 - val_loss: 0.7588 - val_acc: 0.6933\n",
            "Epoch 12/100\n",
            "75/75 [==============================] - 1s 14ms/step - loss: 0.8273 - acc: 0.6867 - val_loss: 0.8312 - val_acc: 0.6817\n",
            "Epoch 13/100\n",
            "75/75 [==============================] - 1s 16ms/step - loss: 0.7990 - acc: 0.6833 - val_loss: 0.7902 - val_acc: 0.6967\n",
            "Epoch 14/100\n",
            "75/75 [==============================] - 2s 23ms/step - loss: 0.7433 - acc: 0.7008 - val_loss: 0.7991 - val_acc: 0.6700\n",
            "Epoch 15/100\n",
            "75/75 [==============================] - 1s 17ms/step - loss: 0.7203 - acc: 0.7083 - val_loss: 0.6804 - val_acc: 0.7200\n",
            "Epoch 16/100\n",
            "75/75 [==============================] - 1s 16ms/step - loss: 0.7085 - acc: 0.7108 - val_loss: 0.6863 - val_acc: 0.7017\n",
            "Epoch 17/100\n",
            "75/75 [==============================] - 1s 15ms/step - loss: 0.7122 - acc: 0.6975 - val_loss: 0.7219 - val_acc: 0.7050\n",
            "Epoch 18/100\n",
            "75/75 [==============================] - 1s 16ms/step - loss: 0.7226 - acc: 0.7108 - val_loss: 0.7369 - val_acc: 0.7050\n",
            "Epoch 19/100\n",
            "75/75 [==============================] - 1s 14ms/step - loss: 0.6874 - acc: 0.7129 - val_loss: 0.6758 - val_acc: 0.7433\n",
            "Epoch 20/100\n",
            "75/75 [==============================] - 1s 16ms/step - loss: 0.6943 - acc: 0.7063 - val_loss: 0.6651 - val_acc: 0.7250\n",
            "Epoch 21/100\n",
            "75/75 [==============================] - 1s 14ms/step - loss: 0.6690 - acc: 0.7142 - val_loss: 0.6569 - val_acc: 0.7467\n",
            "Epoch 22/100\n",
            "75/75 [==============================] - 1s 14ms/step - loss: 0.6655 - acc: 0.7217 - val_loss: 0.6343 - val_acc: 0.7117\n",
            "Epoch 23/100\n",
            "75/75 [==============================] - 1s 19ms/step - loss: 0.6841 - acc: 0.7246 - val_loss: 0.7138 - val_acc: 0.7017\n",
            "Epoch 24/100\n",
            "75/75 [==============================] - 2s 22ms/step - loss: 0.6792 - acc: 0.7200 - val_loss: 0.6903 - val_acc: 0.6833\n",
            "Epoch 25/100\n",
            "75/75 [==============================] - 1s 16ms/step - loss: 0.6886 - acc: 0.7154 - val_loss: 0.7804 - val_acc: 0.7000\n",
            "Epoch 26/100\n",
            "75/75 [==============================] - 1s 17ms/step - loss: 0.6715 - acc: 0.7283 - val_loss: 0.6637 - val_acc: 0.7050\n",
            "Epoch 27/100\n",
            "75/75 [==============================] - 1s 14ms/step - loss: 0.7002 - acc: 0.7154 - val_loss: 0.6416 - val_acc: 0.7100\n",
            "Epoch 27: early stopping\n"
          ]
        }
      ]
    },
    {
      "cell_type": "markdown",
      "source": [
        "we can test some of our data. the image with number 141 was drawn an its label is 6. lets see that how out network predict its color."
      ],
      "metadata": {
        "id": "hGyS3C0phmjd"
      }
    },
    {
      "cell_type": "code",
      "source": [
        "import numpy as np\n",
        "model(numpydata_test)[141]\n",
        "np.argmax(model(numpydata_test)[141])"
      ],
      "metadata": {
        "colab": {
          "base_uri": "https://localhost:8080/"
        },
        "id": "YRwhwTzwHVgG",
        "outputId": "2463146f-8ce5-4c37-d77b-59720fb90754"
      },
      "execution_count": null,
      "outputs": [
        {
          "output_type": "execute_result",
          "data": {
            "text/plain": [
              "6"
            ]
          },
          "metadata": {},
          "execution_count": 27
        }
      ]
    },
    {
      "cell_type": "code",
      "source": [
        "import numpy as np\n",
        "model(numpydata_test)[722]\n",
        "print(model(numpydata_test)[722])\n",
        "np.argmax(model(numpydata_test)[722])"
      ],
      "metadata": {
        "colab": {
          "base_uri": "https://localhost:8080/"
        },
        "id": "p4vQToGOiUrp",
        "outputId": "4a3ed06e-d90f-4e47-d99d-72b7ac1e1477"
      },
      "execution_count": null,
      "outputs": [
        {
          "output_type": "stream",
          "name": "stdout",
          "text": [
            "tf.Tensor(\n",
            "[ 2.6114063  -4.4213905  -6.195866   -0.10071872  0.29045317  1.2520814\n",
            "  2.730952   -5.4395328  -3.6727228  -5.4016643 ], shape=(10,), dtype=float32)\n"
          ]
        },
        {
          "output_type": "execute_result",
          "data": {
            "text/plain": [
              "6"
            ]
          },
          "metadata": {},
          "execution_count": 32
        }
      ]
    },
    {
      "cell_type": "markdown",
      "source": [
        "now we test an image of another color. those image are blue and were predicted correctly."
      ],
      "metadata": {
        "id": "P2-XprQfkm3_"
      }
    },
    {
      "cell_type": "code",
      "source": [
        "print(model(numpydata_test)[366])\n",
        "np.argmax(model(numpydata_test)[366])"
      ],
      "metadata": {
        "colab": {
          "base_uri": "https://localhost:8080/"
        },
        "id": "FFM6XYOfkSFU",
        "outputId": "7a481d83-e54e-4418-b357-9c4de8b929ac"
      },
      "execution_count": null,
      "outputs": [
        {
          "output_type": "stream",
          "name": "stdout",
          "text": [
            "tf.Tensor(\n",
            "[ 21.352667  -32.844677  -43.38867    -1.4409175   1.6609558  12.937952\n",
            "  19.052536  -38.42757   -26.717478  -39.21145  ], shape=(10,), dtype=float32)\n"
          ]
        },
        {
          "output_type": "execute_result",
          "data": {
            "text/plain": [
              "0"
            ]
          },
          "metadata": {},
          "execution_count": 37
        }
      ]
    },
    {
      "cell_type": "markdown",
      "source": [
        "this image is red and was predicted correctly inspite of noises made on it."
      ],
      "metadata": {
        "id": "jXfhgThDkofJ"
      }
    },
    {
      "cell_type": "code",
      "source": [
        "class_names = val_ds.class_names\n",
        "print(class_names)"
      ],
      "metadata": {
        "colab": {
          "base_uri": "https://localhost:8080/"
        },
        "id": "UeZdKlS5L31b",
        "outputId": "d6f37ed2-f2b7-4391-b959-3d93efa20591"
      },
      "execution_count": null,
      "outputs": [
        {
          "output_type": "stream",
          "name": "stdout",
          "text": [
            "['.config', 'noisyblack15', 'noisyblue15', 'noisygreen15', 'noisypurple15', 'noisyred15', 'noisywhite15', 'noisyyellow15', 'sample_data']\n"
          ]
        }
      ]
    },
    {
      "cell_type": "markdown",
      "source": [],
      "metadata": {
        "id": "kiqYtP8siS5c"
      }
    },
    {
      "cell_type": "markdown",
      "source": [
        "result of validation on images with 15% noises\n",
        "\n",
        "Epoch 1/10\n",
        "32/32 [==============================] - 2s 14ms/step - loss: 23.3167 - acc: 0.5580\n",
        "Epoch 2/10\n",
        "32/32 [==============================] - 0s 13ms/step - loss: 1.1656 - acc: 0.5690\n",
        "Epoch 3/10\n",
        "32/32 [==============================] - 0s 13ms/step - loss: 0.9001 - acc: 0.5720\n",
        "Epoch 4/10\n",
        "32/32 [==============================] - 0s 14ms/step - loss: 0.9191 - acc: 0.6100\n",
        "Epoch 5/10\n",
        "32/32 [==============================] - 0s 14ms/step - loss: 1.4659 - acc: 0.4780\n",
        "Epoch 6/10\n",
        "32/32 [==============================] - 0s 14ms/step - loss: 1.4780 - acc: 0.6610\n",
        "Epoch 7/10\n",
        "32/32 [==============================] - 0s 14ms/step - loss: 1.2863 - acc: 0.6870\n",
        "Epoch 8/10\n",
        "32/32 [==============================] - 1s 16ms/step - loss: 1.1594 - acc: 0.6840\n",
        "Epoch 9/10\n",
        "32/32 [==============================] - 0s 13ms/step - loss: 0.9598 - acc: 0.6970\n",
        "Epoch 10/10\n",
        "32/32 [==============================] - 0s 13ms/step - loss: 0.8754 - acc: 0.6960\n"
      ],
      "metadata": {
        "id": "JEmh3RTRbVve"
      }
    },
    {
      "cell_type": "markdown",
      "source": [
        "result of validation on images with 25% noises\n",
        "\n",
        "Epoch 1/10\n",
        "32/32 [==============================] - 2s 14ms/step - loss: 50.5913 - acc: 0.5270\n",
        "Epoch 2/10\n",
        "32/32 [==============================] - 0s 13ms/step - loss: 1.1217 - acc: 0.6170\n",
        "Epoch 3/10\n",
        "32/32 [==============================] - 0s 12ms/step - loss: 0.7228 - acc: 0.7160\n",
        "Epoch 4/10\n",
        "32/32 [==============================] - 0s 12ms/step - loss: 0.6273 - acc: 0.7380\n",
        "Epoch 5/10\n",
        "32/32 [==============================] - 0s 13ms/step - loss: 0.6090 - acc: 0.7480\n",
        "Epoch 6/10\n",
        "32/32 [==============================] - 0s 13ms/step - loss: 0.5925 - acc: 0.7560\n",
        "Epoch 7/10\n",
        "32/32 [==============================] - 0s 12ms/step - loss: 0.5152 - acc: 0.7970\n",
        "Epoch 8/10\n",
        "32/32 [==============================] - 0s 13ms/step - loss: 0.4877 - acc: 0.8060\n",
        "Epoch 9/10\n",
        "32/32 [==============================] - 0s 13ms/step - loss: 0.6852 - acc: 0.7500\n",
        "Epoch 10/10\n",
        "32/32 [==============================] - 0s 13ms/step - loss: 0.5254 - acc: 0.7950"
      ],
      "metadata": {
        "id": "HH21PW9hilVv"
      }
    },
    {
      "cell_type": "code",
      "source": [],
      "metadata": {
        "id": "xV8gyLE0m2zD"
      },
      "execution_count": null,
      "outputs": []
    },
    {
      "cell_type": "markdown",
      "source": [
        "result of validation on images with 45% noises\n",
        "\n",
        "Epoch 1/10\n",
        "32/32 [==============================] - 3s 16ms/step - loss: 29.4900 - acc: 0.3580\n",
        "Epoch 2/10\n",
        "32/32 [==============================] - 0s 14ms/step - loss: 1.2315 - acc: 0.4990\n",
        "Epoch 3/10\n",
        "32/32 [==============================] - 0s 14ms/step - loss: 1.1706 - acc: 0.4840\n",
        "Epoch 4/10\n",
        "32/32 [==============================] - 0s 14ms/step - loss: 1.1235 - acc: 0.4900\n",
        "Epoch 5/10\n",
        "32/32 [==============================] - 0s 14ms/step - loss: 1.1577 - acc: 0.4790\n",
        "Epoch 6/10\n",
        "32/32 [==============================] - 0s 13ms/step - loss: 2.0312 - acc: 0.3690\n",
        "Epoch 7/10\n",
        "32/32 [==============================] - 0s 13ms/step - loss: 1.8527 - acc: 0.3870\n",
        "Epoch 8/10\n",
        "32/32 [==============================] - 0s 12ms/step - loss: 1.6437 - acc: 0.3980\n",
        "Epoch 9/10\n",
        "32/32 [==============================] - 0s 13ms/step - loss: 1.4801 - acc: 0.3980\n",
        "Epoch 10/10\n",
        "32/32 [==============================] - 0s 13ms/step - loss: 1.3650 - acc: 0.3980\n"
      ],
      "metadata": {
        "id": "BVEeaxHIe1Q9"
      }
    },
    {
      "cell_type": "code",
      "source": [
        "rm -rf tf"
      ],
      "metadata": {
        "id": "3eSM-gChkUk_"
      },
      "execution_count": null,
      "outputs": []
    },
    {
      "cell_type": "code",
      "source": [
        "epochs_range = callback.stopped_epoch + 1\n",
        "print(epochs_range)"
      ],
      "metadata": {
        "id": "JODUYsk-Jbo5",
        "outputId": "c899a0d2-0a16-4854-e061-8261565c7737",
        "colab": {
          "base_uri": "https://localhost:8080/"
        }
      },
      "execution_count": 60,
      "outputs": [
        {
          "output_type": "stream",
          "name": "stdout",
          "text": [
            "13\n"
          ]
        }
      ]
    },
    {
      "cell_type": "markdown",
      "source": [],
      "metadata": {
        "id": "uwA8uxKtZA-p"
      }
    },
    {
      "cell_type": "code",
      "source": [
        "import matplotlib.pyplot as plt\n",
        "acc = history.history['acc']\n",
        "val_acc = history.history['val_acc']\n",
        "\n",
        "loss = history.history['loss']\n",
        "val_loss = history.history['val_loss']\n",
        "\n",
        "epochs = range(1, len(acc) + 1)\n",
        "\n",
        "plt.figure(figsize=(8, 8))\n",
        "plt.subplot(1, 2, 1)\n",
        "plt.plot(epochs, acc, label='Training Accuracy')\n",
        "plt.plot(epochs, val_acc, label='Validation Accuracy')\n",
        "plt.legend(loc='lower right')\n",
        "plt.title('Training and Validation Accuracy')\n",
        "\n",
        "plt.subplot(1, 2, 2)\n",
        "plt.plot(epochs, loss, label='Training Loss')\n",
        "plt.plot(epochs, val_loss, label='Validation Loss')\n",
        "plt.legend(loc='upper right')\n",
        "plt.title('Training and Validation Loss')\n",
        "plt.show()\n",
        "\n",
        "#test_loss, test_acc = model.evaluate(numpydata_test,  labels_test, verbose=2)"
      ],
      "metadata": {
        "id": "RnSu8J9yw7Jw",
        "colab": {
          "base_uri": "https://localhost:8080/",
          "height": 699
        },
        "outputId": "ef774e69-ed7b-44e1-ed57-83aa61ba68af"
      },
      "execution_count": 94,
      "outputs": [
        {
          "output_type": "display_data",
          "data": {
            "text/plain": [
              "<Figure size 800x800 with 2 Axes>"
            ],
            "image/png": "[encoded data removed]"
          },
          "metadata": {}
        }
      ]
    }
  ]
}
{
  "nbformat": 4,
  "nbformat_minor": 0,
  "metadata": {
    "colab": {
      "provenance": [],
      "authorship_tag": "ABX9TyOb5amWUFDi6LeM9j6jzQOK",
      "include_colab_link": true
    },
    "kernelspec": {
      "name": "python3",
      "display_name": "Python 3"
    },
    "language_info": {
      "name": "python"
    }
  },
  "cells": [
    {
      "cell_type": "markdown",
      "metadata": {
        "id": "view-in-github",
        "colab_type": "text"
      },
      "source": [
        "<a href=\"https://colab.research.google.com/github/ghanbarifereshteh/singlecolorprj/blob/main/noisysinglecolor.ipynb\" target=\"_parent\"><img src=\"https://colab.research.google.com/assets/colab-badge.svg\" alt=\"Open In Colab\"/></a>"
      ]
    },
    {
      "cell_type": "code",
      "execution_count": null,
      "metadata": {
        "id": "Vd5OhAASfLfs"
      },
      "outputs": [],
      "source": [
        "import numpy as np\n",
        "import tensorflow as tf\n",
        "\n",
        "from tensorflow import keras\n",
        "from tensorflow.keras import layers\n",
        "from tensorflow.keras.models import Sequential\n",
        "from sklearn.model_selection import train_test_split\n",
        "from PIL import Image\n"
      ]
    },
    {
      "cell_type": "code",
      "source": [
        "#generate original data\n",
        "#generate 3 random number and then create a 180*180 image(with single color)\n",
        "from PIL import Image\n",
        "def createimage(numberOfimg,sizeOfImage):\n",
        "  for i in range(numberOfimg):\n",
        "    red = np.random.choice(range(256), size=1)\n",
        "    green = np.random.choice(range(256), size=1)\n",
        "    blue = np.random.choice(range(256), size=1)\n",
        "    img = Image.new('RGB', (sizeOfImage, sizeOfImage), (red[0], green[0], blue[0]))\n",
        "    img.save(str(i)+\".jpg\")"
      ],
      "metadata": {
        "id": "Prd0SO5BgsC3"
      },
      "execution_count": null,
      "outputs": []
    },
    {
      "cell_type": "code",
      "source": [
        "#create image whith percent% noise\n",
        "def createNoisyImage(numberOfImages,sizeOfImage,percent):\n",
        "  for i in range(0,numberOfImages):\n",
        "    noiseColor=list(np.random.choice(range(256), size=3));\n",
        "    name = str(i)+\".jpg\"\n",
        "    img = Image.open(name)\n",
        "    for j in range(0,sizeOfImage*percent) :\n",
        "        x=np.random.choice(range(100))\n",
        "        y=np.random.choice(range(100))\n",
        "        img.putpixel((x,y), (noiseColor[0], noiseColor[1], noiseColor[2]))\n",
        "        #plt.imshow(img)\n",
        "    newName = \"noise\"+str(percent)+str(i)+\".jpg\"\n",
        "    img.save(newName)\n"
      ],
      "metadata": {
        "id": "oroBVP5Rfggt"
      },
      "execution_count": 75,
      "outputs": []
    },
    {
      "cell_type": "code",
      "source": [
        "ls"
      ],
      "metadata": {
        "colab": {
          "base_uri": "https://localhost:8080/"
        },
        "id": "Nb-WmTqXvNKE",
        "outputId": "8a2ca295-02ae-498e-b194-b4849349512d"
      },
      "execution_count": 76,
      "outputs": [
        {
          "output_type": "stream",
          "name": "stdout",
          "text": [
            "\u001b[0m\u001b[01;34mnoisy15black\u001b[0m/  \u001b[01;34mnoisy15purple\u001b[0m/  \u001b[01;34mnoisy15yellow\u001b[0m/  \u001b[01;34mnoisygreen\u001b[0m/   \u001b[01;34mnoisywhite\u001b[0m/\n",
            "\u001b[01;34mnoisy15blue\u001b[0m/   \u001b[01;34mnoisy15red\u001b[0m/     \u001b[01;34mnoisyblack\u001b[0m/     \u001b[01;34mnoisypurple\u001b[0m/  \u001b[01;34mnoisyyellow\u001b[0m/\n",
            "\u001b[01;34mnoisy15green\u001b[0m/  \u001b[01;34mnoisy15white\u001b[0m/   \u001b[01;34mnoisyblue\u001b[0m/      \u001b[01;34mnoisyred\u001b[0m/     \u001b[01;34msample_data\u001b[0m/\n"
          ]
        }
      ]
    },
    {
      "cell_type": "code",
      "source": [
        "#def createFolder(percent,color):\n",
        " # os.mkdir(\"/content/noisy\"+str(percent)+str(color))"
      ],
      "metadata": {
        "id": "CHKQHxcJp9Zc"
      },
      "execution_count": 61,
      "outputs": []
    },
    {
      "cell_type": "code",
      "source": [
        "rm -rf noisy*"
      ],
      "metadata": {
        "id": "Da82zgtKUZJ8"
      },
      "execution_count": 295,
      "outputs": []
    },
    {
      "cell_type": "code",
      "source": [
        "mkdir noisyblack15"
      ],
      "metadata": {
        "id": "rM7pZu3euKqE"
      },
      "execution_count": 296,
      "outputs": []
    },
    {
      "cell_type": "code",
      "source": [
        "mkdir noisyblue15"
      ],
      "metadata": {
        "id": "DtdNac1QuZzz"
      },
      "execution_count": 297,
      "outputs": []
    },
    {
      "cell_type": "code",
      "source": [
        "mkdir noisyred15"
      ],
      "metadata": {
        "id": "N5_JMaDnudah"
      },
      "execution_count": 300,
      "outputs": []
    },
    {
      "cell_type": "code",
      "source": [
        "mkdir noisygreen15"
      ],
      "metadata": {
        "id": "jJjAoaYmuffL"
      },
      "execution_count": 298,
      "outputs": []
    },
    {
      "cell_type": "code",
      "source": [
        "mkdir noisywhite15\n"
      ],
      "metadata": {
        "id": "61LlrbImuhrb"
      },
      "execution_count": 299,
      "outputs": []
    },
    {
      "cell_type": "code",
      "source": [
        "mkdir noisyyellow15"
      ],
      "metadata": {
        "id": "YfaMqjWMuj8a"
      },
      "execution_count": 301,
      "outputs": []
    },
    {
      "cell_type": "code",
      "source": [
        "mkdir noisypurple15"
      ],
      "metadata": {
        "id": "MZT95NEZumCM"
      },
      "execution_count": 302,
      "outputs": []
    },
    {
      "cell_type": "code",
      "source": [
        "ls"
      ],
      "metadata": {
        "colab": {
          "base_uri": "https://localhost:8080/"
        },
        "id": "ug8GLxGGuoXD",
        "outputId": "c75dda8d-2ce5-4e4a-d293-18789ab8cb9f"
      },
      "execution_count": 303,
      "outputs": [
        {
          "output_type": "stream",
          "name": "stdout",
          "text": [
            "\u001b[0m\u001b[01;34mnoisyblack15\u001b[0m/  \u001b[01;34mnoisygreen15\u001b[0m/   \u001b[01;34mnoisyred15\u001b[0m/    \u001b[01;34mnoisyyellow15\u001b[0m/\n",
            "\u001b[01;34mnoisyblue15\u001b[0m/   \u001b[01;34mnoisypurple15\u001b[0m/  \u001b[01;34mnoisywhite15\u001b[0m/\n"
          ]
        }
      ]
    },
    {
      "cell_type": "code",
      "source": [
        "from numpy import asarray\n",
        "import shutil\n",
        "import os\n",
        "#from numpy import asarray\n",
        "# load the image and convert into\n",
        "# numpy array\n",
        "def imagesToFolder(data_Length,sizeOfImage,percent):\n",
        "  folder = \"\"\n",
        "  label = \"\"\n",
        "  sum = 0\n",
        "  numpydata_noisy = np.empty([data_Length, sizeOfImage, sizeOfImage, 3], dtype=np.int)\n",
        "  labels_noisy = np.arange(0,data_Length)\n",
        "  for i in range(data_Length):\n",
        "    img = Image.open(\"noise\"+str(percent)+str(i)+'.jpg')\n",
        "    numpydata_noisy[i] = asarray(img)\n",
        "    for ii in range(sizeOfImage):\n",
        "      for jj in range(sizeOfImage):\n",
        "        sum = sum + numpydata_noisy[i][ii][jj][0]\n",
        "    red = sum / sizeOfImage * sizeOfImage\n",
        "    sum = 0\n",
        "    for ii in range(sizeOfImage):\n",
        "      for jj in range(sizeOfImage):\n",
        "        sum = sum + numpydata_noisy[i][ii][jj][1]\n",
        "    green = sum / sizeOfImage * sizeOfImage\n",
        "    sum = 0\n",
        "    for ii in range(sizeOfImage):\n",
        "      for jj in range(sizeOfImage):\n",
        "        sum = sum + numpydata_noisy[i][ii][jj][2]\n",
        "    blue = sum / sizeOfImage * sizeOfImage\n",
        "    #red = numpydata_noisy[i][0][0][0]\n",
        "    #green = numpydata_noisy[i][0][0][1]\n",
        "    #blue = numpydata_noisy[i][0][0][2]\n",
        "    if(red > green):\n",
        "      if(red>blue):\n",
        "        label = 0  #red\n",
        "        folder = \"noisyred\"\n",
        "      elif (red == blue) and (blue==green) and (red == 255):\n",
        "        label = 1 #white\n",
        "        folder = \"noisywhite\"\n",
        "      elif(red == blue) and (blue==green) and (red != 255):\n",
        "        label = 2  #black\n",
        "        folder = \"noisyblack\"\n",
        "      elif(red == blue):\n",
        "        label = 3  #purple\n",
        "        folder = \"noisypurple\"\n",
        "    elif (red == green):\n",
        "      label = 4 #yellow\n",
        "      folder = \"noisyyellow\"\n",
        "    elif(green>=blue):\n",
        "      label = 5 #green\n",
        "      folder = \"noisygreen\"\n",
        "    else:\n",
        "      label = 6 #blue\n",
        "      folder = \"noisyblue\"\n",
        "    shutil.move(\"noise\"+str(percent)+str(i)+\".jpg\", str(folder)+str(percent)+\"/\"+\"noise\"+str(percent)+str(i)+\".jpg\")\n",
        "    labels_noisy[i] = label\n",
        "  return labels_noisy,numpydata_noisy"
      ],
      "metadata": {
        "id": "D1rrNz_7lYPD"
      },
      "execution_count": 267,
      "outputs": []
    },
    {
      "cell_type": "markdown",
      "source": [
        "create 1000 images as a single color dataset"
      ],
      "metadata": {
        "id": "tD1QdD0EaOcn"
      }
    },
    {
      "cell_type": "code",
      "source": [
        "createimage(1000,100)"
      ],
      "metadata": {
        "id": "H8VF6dVCmhBC"
      },
      "execution_count": 376,
      "outputs": []
    },
    {
      "cell_type": "code",
      "source": [
        "ls"
      ],
      "metadata": {
        "id": "ze0KSjOpm13p"
      },
      "execution_count": null,
      "outputs": []
    },
    {
      "cell_type": "markdown",
      "source": [
        "when you want to create iamges with 15% noises"
      ],
      "metadata": {
        "id": "5TipuPxvaWSO"
      }
    },
    {
      "cell_type": "code",
      "source": [
        "createNoisyImage(1000,100,15)"
      ],
      "metadata": {
        "id": "JbShG509m7O2"
      },
      "execution_count": 306,
      "outputs": []
    },
    {
      "cell_type": "code",
      "source": [
        "(labels_test,numpydata_test) = imagesToFolder(1000,100,15)"
      ],
      "metadata": {
        "colab": {
          "base_uri": "https://localhost:8080/"
        },
        "id": "1Csr_Yhun4GI",
        "outputId": "802351fc-04fd-46b0-934b-99587b795f93"
      },
      "execution_count": 307,
      "outputs": [
        {
          "output_type": "stream",
          "name": "stderr",
          "text": [
            "<ipython-input-267-adea43b418ad>:11: DeprecationWarning: `np.int` is a deprecated alias for the builtin `int`. To silence this warning, use `int` by itself. Doing this will not modify any behavior and is safe. When replacing `np.int`, you may wish to use e.g. `np.int64` or `np.int32` to specify the precision. If you wish to review your current use, check the release note link for additional information.\n",
            "Deprecated in NumPy 1.20; for more details and guidance: https://numpy.org/devdocs/release/1.20.0-notes.html#deprecations\n",
            "  numpydata_noisy = np.empty([data_Length, sizeOfImage, sizeOfImage, 3], dtype=np.int)\n"
          ]
        }
      ]
    },
    {
      "cell_type": "code",
      "source": [
        "import matplotlib.pyplot as plt\n",
        "plt.imshow(numpydata_test[357])\n"
      ],
      "metadata": {
        "colab": {
          "base_uri": "https://localhost:8080/",
          "height": 450
        },
        "id": "oDbNowJ4XgyT",
        "outputId": "2df8e7f9-18bf-4dcf-8f92-9571de2bea8d"
      },
      "execution_count": 317,
      "outputs": [
        {
          "output_type": "execute_result",
          "data": {
            "text/plain": [
              "<matplotlib.image.AxesImage at 0x7a6dc0048760>"
            ]
          },
          "metadata": {},
          "execution_count": 317
        },
        {
          "output_type": "display_data",
          "data": {
            "text/plain": [
              "<Figure size 640x480 with 1 Axes>"
            ],
            "image/png": "[encoded data removed]"
          },
          "metadata": {}
        }
      ]
    },
    {
      "cell_type": "code",
      "source": [
        "cd .."
      ],
      "metadata": {
        "colab": {
          "base_uri": "https://localhost:8080/"
        },
        "id": "uQxcy6FFZjt0",
        "outputId": "9c0d44cd-8267-4ecf-e0e3-7f192c33869f"
      },
      "execution_count": 326,
      "outputs": [
        {
          "output_type": "stream",
          "name": "stdout",
          "text": [
            "/root\n"
          ]
        }
      ]
    },
    {
      "cell_type": "markdown",
      "source": [
        "when you want to create iamges with 25% noises"
      ],
      "metadata": {
        "id": "4uAh94WfaEw9"
      }
    },
    {
      "cell_type": "code",
      "source": [
        "createNoisyImage(1000,100,25)"
      ],
      "metadata": {
        "id": "q-WS4QkuZZ5_"
      },
      "execution_count": 327,
      "outputs": []
    },
    {
      "cell_type": "code",
      "source": [
        "rm -rf noisy*"
      ],
      "metadata": {
        "id": "PDPt6-I6bfg8"
      },
      "execution_count": 331,
      "outputs": []
    },
    {
      "cell_type": "code",
      "source": [
        "mkdir noisyred25"
      ],
      "metadata": {
        "id": "qo5j9d5dalN0"
      },
      "execution_count": 332,
      "outputs": []
    },
    {
      "cell_type": "code",
      "source": [
        "mkdir noisygreen25"
      ],
      "metadata": {
        "id": "vA4I1af2dc11"
      },
      "execution_count": 333,
      "outputs": []
    },
    {
      "cell_type": "code",
      "source": [
        "mkdir noisyblack25"
      ],
      "metadata": {
        "id": "JC4FOvaBddGP"
      },
      "execution_count": 334,
      "outputs": []
    },
    {
      "cell_type": "code",
      "source": [
        "mkdir noisyblue25"
      ],
      "metadata": {
        "id": "ZyI5r-EKddiR"
      },
      "execution_count": 336,
      "outputs": []
    },
    {
      "cell_type": "code",
      "source": [
        "mkdir noisyyellow25"
      ],
      "metadata": {
        "id": "ySAXqqRSdd1z"
      },
      "execution_count": 335,
      "outputs": []
    },
    {
      "cell_type": "code",
      "source": [
        "mkdir noisypurple25"
      ],
      "metadata": {
        "id": "GfEPHDZhdeCf"
      },
      "execution_count": 338,
      "outputs": []
    },
    {
      "cell_type": "code",
      "source": [
        "mkdir noisywhite25"
      ],
      "metadata": {
        "id": "t0pY8OY6deMF"
      },
      "execution_count": 337,
      "outputs": []
    },
    {
      "cell_type": "code",
      "source": [
        "(labels_test,numpydata_test) = imagesToFolder(1000,100,25)"
      ],
      "metadata": {
        "colab": {
          "base_uri": "https://localhost:8080/"
        },
        "id": "twFYBwZsZoeO",
        "outputId": "b5f7d704-de16-49c2-a9a6-8ba4b534370b"
      },
      "execution_count": 341,
      "outputs": [
        {
          "output_type": "stream",
          "name": "stderr",
          "text": [
            "<ipython-input-267-adea43b418ad>:11: DeprecationWarning: `np.int` is a deprecated alias for the builtin `int`. To silence this warning, use `int` by itself. Doing this will not modify any behavior and is safe. When replacing `np.int`, you may wish to use e.g. `np.int64` or `np.int32` to specify the precision. If you wish to review your current use, check the release note link for additional information.\n",
            "Deprecated in NumPy 1.20; for more details and guidance: https://numpy.org/devdocs/release/1.20.0-notes.html#deprecations\n",
            "  numpydata_noisy = np.empty([data_Length, sizeOfImage, sizeOfImage, 3], dtype=np.int)\n"
          ]
        }
      ]
    },
    {
      "cell_type": "code",
      "source": [
        "cd noisyblue25"
      ],
      "metadata": {
        "colab": {
          "base_uri": "https://localhost:8080/"
        },
        "id": "0fsKTYAufGK3",
        "outputId": "e454d3a8-b4d7-49df-da36-ef55cfec285c"
      },
      "execution_count": 353,
      "outputs": [
        {
          "output_type": "stream",
          "name": "stdout",
          "text": [
            "/root/noisyblue25\n"
          ]
        }
      ]
    },
    {
      "cell_type": "code",
      "source": [
        "ls"
      ],
      "metadata": {
        "colab": {
          "base_uri": "https://localhost:8080/"
        },
        "id": "0upbz_M-giOW",
        "outputId": "045ecf26-dc29-4751-9c86-5c928ab70c82"
      },
      "execution_count": 354,
      "outputs": [
        {
          "output_type": "stream",
          "name": "stdout",
          "text": [
            "noise25125.jpg  noise25424.jpg  noise2554.jpg   noise25703.jpg  noise258.jpg\n",
            "noise25254.jpg  noise25436.jpg  noise25589.jpg  noise25757.jpg  noise25962.jpg\n",
            "noise25311.jpg  noise25491.jpg  noise25653.jpg  noise25762.jpg\n",
            "noise2539.jpg   noise254.jpg    noise25656.jpg  noise25855.jpg\n",
            "noise25414.jpg  noise25507.jpg  noise25687.jpg  noise25857.jpg\n"
          ]
        }
      ]
    },
    {
      "cell_type": "code",
      "source": [
        "import matplotlib.pyplot as plt\n",
        "plt.imshow(numpydata_test[762])"
      ],
      "metadata": {
        "colab": {
          "base_uri": "https://localhost:8080/",
          "height": 450
        },
        "id": "H96_Ulf7gjEx",
        "outputId": "de51a34c-7dec-42ff-f6e3-5cdf8fd72d2f"
      },
      "execution_count": 355,
      "outputs": [
        {
          "output_type": "execute_result",
          "data": {
            "text/plain": [
              "<matplotlib.image.AxesImage at 0x7a6dbfc39390>"
            ]
          },
          "metadata": {},
          "execution_count": 355
        },
        {
          "output_type": "display_data",
          "data": {
            "text/plain": [
              "<Figure size 640x480 with 1 Axes>"
            ],
            "image/png": "[encoded data removed]"
          },
          "metadata": {}
        }
      ]
    },
    {
      "cell_type": "code",
      "source": [
        "rm -rf noisy*"
      ],
      "metadata": {
        "id": "afVIhkzzg4Ia"
      },
      "execution_count": 356,
      "outputs": []
    },
    {
      "cell_type": "code",
      "source": [
        "mkdir noisyblue45"
      ],
      "metadata": {
        "id": "_y2py8Oxg8q_"
      },
      "execution_count": 387,
      "outputs": []
    },
    {
      "cell_type": "code",
      "source": [
        "mkdir noisyblack45"
      ],
      "metadata": {
        "id": "lkbkb2Feg_Mm"
      },
      "execution_count": 388,
      "outputs": []
    },
    {
      "cell_type": "code",
      "source": [
        "mkdir noisyred45"
      ],
      "metadata": {
        "colab": {
          "base_uri": "https://localhost:8080/"
        },
        "id": "LwQylzuUg_XS",
        "outputId": "e7923722-98c3-4275-83a7-275a73bf9fa3"
      },
      "execution_count": 390,
      "outputs": [
        {
          "output_type": "stream",
          "name": "stdout",
          "text": [
            "mkdir: cannot create directory ‘noisyred45’: File exists\n"
          ]
        }
      ]
    },
    {
      "cell_type": "code",
      "source": [
        "mkdir noisygreen45"
      ],
      "metadata": {
        "colab": {
          "base_uri": "https://localhost:8080/"
        },
        "id": "-Hrliolog_qO",
        "outputId": "5b010fc4-faab-49b9-b578-d633a0a5aeac"
      },
      "execution_count": 389,
      "outputs": [
        {
          "output_type": "stream",
          "name": "stdout",
          "text": [
            "mkdir: cannot create directory ‘noisygreen45’: File exists\n"
          ]
        }
      ]
    },
    {
      "cell_type": "code",
      "source": [
        "mkdir noisyyellow45"
      ],
      "metadata": {
        "colab": {
          "base_uri": "https://localhost:8080/"
        },
        "id": "tHwcNrxKg_6P",
        "outputId": "07147c54-cea4-440a-fe03-f91eef7b4a94"
      },
      "execution_count": 384,
      "outputs": [
        {
          "output_type": "stream",
          "name": "stdout",
          "text": [
            "mkdir: cannot create directory ‘noisyyellow45’: File exists\n"
          ]
        }
      ]
    },
    {
      "cell_type": "code",
      "source": [
        "mkdir noisywhite45"
      ],
      "metadata": {
        "id": "0zYDtiD4hAFQ"
      },
      "execution_count": 385,
      "outputs": []
    },
    {
      "cell_type": "code",
      "source": [
        "mkdir noisypurple45"
      ],
      "metadata": {
        "colab": {
          "base_uri": "https://localhost:8080/"
        },
        "id": "8ZT__SUThAOb",
        "outputId": "623b9dee-ed36-4266-b3f9-cff6b7836b6e"
      },
      "execution_count": 391,
      "outputs": [
        {
          "output_type": "stream",
          "name": "stdout",
          "text": [
            "mkdir: cannot create directory ‘noisypurple45’: File exists\n"
          ]
        }
      ]
    },
    {
      "cell_type": "code",
      "source": [
        "ls"
      ],
      "metadata": {
        "colab": {
          "base_uri": "https://localhost:8080/"
        },
        "id": "rsRZmI11j8nt",
        "outputId": "2bfc12ae-ab24-430c-b2d5-b77453f3a1ba"
      },
      "execution_count": 377,
      "outputs": [
        {
          "output_type": "stream",
          "name": "stdout",
          "text": [
            "0.jpg    213.jpg  327.jpg  440.jpg  554.jpg  668.jpg  781.jpg  895.jpg\n",
            "100.jpg  214.jpg  328.jpg  441.jpg  555.jpg  669.jpg  782.jpg  896.jpg\n",
            "101.jpg  215.jpg  329.jpg  442.jpg  556.jpg  66.jpg   783.jpg  897.jpg\n",
            "102.jpg  216.jpg  32.jpg   443.jpg  557.jpg  670.jpg  784.jpg  898.jpg\n",
            "103.jpg  217.jpg  330.jpg  444.jpg  558.jpg  671.jpg  785.jpg  899.jpg\n",
            "104.jpg  218.jpg  331.jpg  445.jpg  559.jpg  672.jpg  786.jpg  89.jpg\n",
            "105.jpg  219.jpg  332.jpg  446.jpg  55.jpg   673.jpg  787.jpg  8.jpg\n",
            "106.jpg  21.jpg   333.jpg  447.jpg  560.jpg  674.jpg  788.jpg  900.jpg\n",
            "107.jpg  220.jpg  334.jpg  448.jpg  561.jpg  675.jpg  789.jpg  901.jpg\n",
            "108.jpg  221.jpg  335.jpg  449.jpg  562.jpg  676.jpg  78.jpg   902.jpg\n",
            "109.jpg  222.jpg  336.jpg  44.jpg   563.jpg  677.jpg  790.jpg  903.jpg\n",
            "10.jpg   223.jpg  337.jpg  450.jpg  564.jpg  678.jpg  791.jpg  904.jpg\n",
            "110.jpg  224.jpg  338.jpg  451.jpg  565.jpg  679.jpg  792.jpg  905.jpg\n",
            "111.jpg  225.jpg  339.jpg  452.jpg  566.jpg  67.jpg   793.jpg  906.jpg\n",
            "112.jpg  226.jpg  33.jpg   453.jpg  567.jpg  680.jpg  794.jpg  907.jpg\n",
            "113.jpg  227.jpg  340.jpg  454.jpg  568.jpg  681.jpg  795.jpg  908.jpg\n",
            "114.jpg  228.jpg  341.jpg  455.jpg  569.jpg  682.jpg  796.jpg  909.jpg\n",
            "115.jpg  229.jpg  342.jpg  456.jpg  56.jpg   683.jpg  797.jpg  90.jpg\n",
            "116.jpg  22.jpg   343.jpg  457.jpg  570.jpg  684.jpg  798.jpg  910.jpg\n",
            "117.jpg  230.jpg  344.jpg  458.jpg  571.jpg  685.jpg  799.jpg  911.jpg\n",
            "118.jpg  231.jpg  345.jpg  459.jpg  572.jpg  686.jpg  79.jpg   912.jpg\n",
            "119.jpg  232.jpg  346.jpg  45.jpg   573.jpg  687.jpg  7.jpg    913.jpg\n",
            "11.jpg   233.jpg  347.jpg  460.jpg  574.jpg  688.jpg  800.jpg  914.jpg\n",
            "120.jpg  234.jpg  348.jpg  461.jpg  575.jpg  689.jpg  801.jpg  915.jpg\n",
            "121.jpg  235.jpg  349.jpg  462.jpg  576.jpg  68.jpg   802.jpg  916.jpg\n",
            "122.jpg  236.jpg  34.jpg   463.jpg  577.jpg  690.jpg  803.jpg  917.jpg\n",
            "123.jpg  237.jpg  350.jpg  464.jpg  578.jpg  691.jpg  804.jpg  918.jpg\n",
            "124.jpg  238.jpg  351.jpg  465.jpg  579.jpg  692.jpg  805.jpg  919.jpg\n",
            "125.jpg  239.jpg  352.jpg  466.jpg  57.jpg   693.jpg  806.jpg  91.jpg\n",
            "126.jpg  23.jpg   353.jpg  467.jpg  580.jpg  694.jpg  807.jpg  920.jpg\n",
            "127.jpg  240.jpg  354.jpg  468.jpg  581.jpg  695.jpg  808.jpg  921.jpg\n",
            "128.jpg  241.jpg  355.jpg  469.jpg  582.jpg  696.jpg  809.jpg  922.jpg\n",
            "129.jpg  242.jpg  356.jpg  46.jpg   583.jpg  697.jpg  80.jpg   923.jpg\n",
            "12.jpg   243.jpg  357.jpg  470.jpg  584.jpg  698.jpg  810.jpg  924.jpg\n",
            "130.jpg  244.jpg  358.jpg  471.jpg  585.jpg  699.jpg  811.jpg  925.jpg\n",
            "131.jpg  245.jpg  359.jpg  472.jpg  586.jpg  69.jpg   812.jpg  926.jpg\n",
            "132.jpg  246.jpg  35.jpg   473.jpg  587.jpg  6.jpg    813.jpg  927.jpg\n",
            "133.jpg  247.jpg  360.jpg  474.jpg  588.jpg  700.jpg  814.jpg  928.jpg\n",
            "134.jpg  248.jpg  361.jpg  475.jpg  589.jpg  701.jpg  815.jpg  929.jpg\n",
            "135.jpg  249.jpg  362.jpg  476.jpg  58.jpg   702.jpg  816.jpg  92.jpg\n",
            "136.jpg  24.jpg   363.jpg  477.jpg  590.jpg  703.jpg  817.jpg  930.jpg\n",
            "137.jpg  250.jpg  364.jpg  478.jpg  591.jpg  704.jpg  818.jpg  931.jpg\n",
            "138.jpg  251.jpg  365.jpg  479.jpg  592.jpg  705.jpg  819.jpg  932.jpg\n",
            "139.jpg  252.jpg  366.jpg  47.jpg   593.jpg  706.jpg  81.jpg   933.jpg\n",
            "13.jpg   253.jpg  367.jpg  480.jpg  594.jpg  707.jpg  820.jpg  934.jpg\n",
            "140.jpg  254.jpg  368.jpg  481.jpg  595.jpg  708.jpg  821.jpg  935.jpg\n",
            "141.jpg  255.jpg  369.jpg  482.jpg  596.jpg  709.jpg  822.jpg  936.jpg\n",
            "142.jpg  256.jpg  36.jpg   483.jpg  597.jpg  70.jpg   823.jpg  937.jpg\n",
            "143.jpg  257.jpg  370.jpg  484.jpg  598.jpg  710.jpg  824.jpg  938.jpg\n",
            "144.jpg  258.jpg  371.jpg  485.jpg  599.jpg  711.jpg  825.jpg  939.jpg\n",
            "145.jpg  259.jpg  372.jpg  486.jpg  59.jpg   712.jpg  826.jpg  93.jpg\n",
            "146.jpg  25.jpg   373.jpg  487.jpg  5.jpg    713.jpg  827.jpg  940.jpg\n",
            "147.jpg  260.jpg  374.jpg  488.jpg  600.jpg  714.jpg  828.jpg  941.jpg\n",
            "148.jpg  261.jpg  375.jpg  489.jpg  601.jpg  715.jpg  829.jpg  942.jpg\n",
            "149.jpg  262.jpg  376.jpg  48.jpg   602.jpg  716.jpg  82.jpg   943.jpg\n",
            "14.jpg   263.jpg  377.jpg  490.jpg  603.jpg  717.jpg  830.jpg  944.jpg\n",
            "150.jpg  264.jpg  378.jpg  491.jpg  604.jpg  718.jpg  831.jpg  945.jpg\n",
            "151.jpg  265.jpg  379.jpg  492.jpg  605.jpg  719.jpg  832.jpg  946.jpg\n",
            "152.jpg  266.jpg  37.jpg   493.jpg  606.jpg  71.jpg   833.jpg  947.jpg\n",
            "153.jpg  267.jpg  380.jpg  494.jpg  607.jpg  720.jpg  834.jpg  948.jpg\n",
            "154.jpg  268.jpg  381.jpg  495.jpg  608.jpg  721.jpg  835.jpg  949.jpg\n",
            "155.jpg  269.jpg  382.jpg  496.jpg  609.jpg  722.jpg  836.jpg  94.jpg\n",
            "156.jpg  26.jpg   383.jpg  497.jpg  60.jpg   723.jpg  837.jpg  950.jpg\n",
            "157.jpg  270.jpg  384.jpg  498.jpg  610.jpg  724.jpg  838.jpg  951.jpg\n",
            "158.jpg  271.jpg  385.jpg  499.jpg  611.jpg  725.jpg  839.jpg  952.jpg\n",
            "159.jpg  272.jpg  386.jpg  49.jpg   612.jpg  726.jpg  83.jpg   953.jpg\n",
            "15.jpg   273.jpg  387.jpg  4.jpg    613.jpg  727.jpg  840.jpg  954.jpg\n",
            "160.jpg  274.jpg  388.jpg  500.jpg  614.jpg  728.jpg  841.jpg  955.jpg\n",
            "161.jpg  275.jpg  389.jpg  501.jpg  615.jpg  729.jpg  842.jpg  956.jpg\n",
            "162.jpg  276.jpg  38.jpg   502.jpg  616.jpg  72.jpg   843.jpg  957.jpg\n",
            "163.jpg  277.jpg  390.jpg  503.jpg  617.jpg  730.jpg  844.jpg  958.jpg\n",
            "164.jpg  278.jpg  391.jpg  504.jpg  618.jpg  731.jpg  845.jpg  959.jpg\n",
            "165.jpg  279.jpg  392.jpg  505.jpg  619.jpg  732.jpg  846.jpg  95.jpg\n",
            "166.jpg  27.jpg   393.jpg  506.jpg  61.jpg   733.jpg  847.jpg  960.jpg\n",
            "167.jpg  280.jpg  394.jpg  507.jpg  620.jpg  734.jpg  848.jpg  961.jpg\n",
            "168.jpg  281.jpg  395.jpg  508.jpg  621.jpg  735.jpg  849.jpg  962.jpg\n",
            "169.jpg  282.jpg  396.jpg  509.jpg  622.jpg  736.jpg  84.jpg   963.jpg\n",
            "16.jpg   283.jpg  397.jpg  50.jpg   623.jpg  737.jpg  850.jpg  964.jpg\n",
            "170.jpg  284.jpg  398.jpg  510.jpg  624.jpg  738.jpg  851.jpg  965.jpg\n",
            "171.jpg  285.jpg  399.jpg  511.jpg  625.jpg  739.jpg  852.jpg  966.jpg\n",
            "172.jpg  286.jpg  39.jpg   512.jpg  626.jpg  73.jpg   853.jpg  967.jpg\n",
            "173.jpg  287.jpg  3.jpg    513.jpg  627.jpg  740.jpg  854.jpg  968.jpg\n",
            "174.jpg  288.jpg  400.jpg  514.jpg  628.jpg  741.jpg  855.jpg  969.jpg\n",
            "175.jpg  289.jpg  401.jpg  515.jpg  629.jpg  742.jpg  856.jpg  96.jpg\n",
            "176.jpg  28.jpg   402.jpg  516.jpg  62.jpg   743.jpg  857.jpg  970.jpg\n",
            "177.jpg  290.jpg  403.jpg  517.jpg  630.jpg  744.jpg  858.jpg  971.jpg\n",
            "178.jpg  291.jpg  404.jpg  518.jpg  631.jpg  745.jpg  859.jpg  972.jpg\n",
            "179.jpg  292.jpg  405.jpg  519.jpg  632.jpg  746.jpg  85.jpg   973.jpg\n",
            "17.jpg   293.jpg  406.jpg  51.jpg   633.jpg  747.jpg  860.jpg  974.jpg\n",
            "180.jpg  294.jpg  407.jpg  520.jpg  634.jpg  748.jpg  861.jpg  975.jpg\n",
            "181.jpg  295.jpg  408.jpg  521.jpg  635.jpg  749.jpg  862.jpg  976.jpg\n",
            "182.jpg  296.jpg  409.jpg  522.jpg  636.jpg  74.jpg   863.jpg  977.jpg\n",
            "183.jpg  297.jpg  40.jpg   523.jpg  637.jpg  750.jpg  864.jpg  978.jpg\n",
            "184.jpg  298.jpg  410.jpg  524.jpg  638.jpg  751.jpg  865.jpg  979.jpg\n",
            "185.jpg  299.jpg  411.jpg  525.jpg  639.jpg  752.jpg  866.jpg  97.jpg\n",
            "186.jpg  29.jpg   412.jpg  526.jpg  63.jpg   753.jpg  867.jpg  980.jpg\n",
            "187.jpg  2.jpg    413.jpg  527.jpg  640.jpg  754.jpg  868.jpg  981.jpg\n",
            "188.jpg  300.jpg  414.jpg  528.jpg  641.jpg  755.jpg  869.jpg  982.jpg\n",
            "189.jpg  301.jpg  415.jpg  529.jpg  642.jpg  756.jpg  86.jpg   983.jpg\n",
            "18.jpg   302.jpg  416.jpg  52.jpg   643.jpg  757.jpg  870.jpg  984.jpg\n",
            "190.jpg  303.jpg  417.jpg  530.jpg  644.jpg  758.jpg  871.jpg  985.jpg\n",
            "191.jpg  304.jpg  418.jpg  531.jpg  645.jpg  759.jpg  872.jpg  986.jpg\n",
            "192.jpg  305.jpg  419.jpg  532.jpg  646.jpg  75.jpg   873.jpg  987.jpg\n",
            "193.jpg  306.jpg  41.jpg   533.jpg  647.jpg  760.jpg  874.jpg  988.jpg\n",
            "194.jpg  307.jpg  420.jpg  534.jpg  648.jpg  761.jpg  875.jpg  989.jpg\n",
            "195.jpg  308.jpg  421.jpg  535.jpg  649.jpg  762.jpg  876.jpg  98.jpg\n",
            "196.jpg  309.jpg  422.jpg  536.jpg  64.jpg   763.jpg  877.jpg  990.jpg\n",
            "197.jpg  30.jpg   423.jpg  537.jpg  650.jpg  764.jpg  878.jpg  991.jpg\n",
            "198.jpg  310.jpg  424.jpg  538.jpg  651.jpg  765.jpg  879.jpg  992.jpg\n",
            "199.jpg  311.jpg  425.jpg  539.jpg  652.jpg  766.jpg  87.jpg   993.jpg\n",
            "19.jpg   312.jpg  426.jpg  53.jpg   653.jpg  767.jpg  880.jpg  994.jpg\n",
            "1.jpg    313.jpg  427.jpg  540.jpg  654.jpg  768.jpg  881.jpg  995.jpg\n",
            "200.jpg  314.jpg  428.jpg  541.jpg  655.jpg  769.jpg  882.jpg  996.jpg\n",
            "201.jpg  315.jpg  429.jpg  542.jpg  656.jpg  76.jpg   883.jpg  997.jpg\n",
            "202.jpg  316.jpg  42.jpg   543.jpg  657.jpg  770.jpg  884.jpg  998.jpg\n",
            "203.jpg  317.jpg  430.jpg  544.jpg  658.jpg  771.jpg  885.jpg  999.jpg\n",
            "204.jpg  318.jpg  431.jpg  545.jpg  659.jpg  772.jpg  886.jpg  99.jpg\n",
            "205.jpg  319.jpg  432.jpg  546.jpg  65.jpg   773.jpg  887.jpg  9.jpg\n",
            "206.jpg  31.jpg   433.jpg  547.jpg  660.jpg  774.jpg  888.jpg  \u001b[0m\u001b[01;34mnoisyblack25\u001b[0m/\n",
            "207.jpg  320.jpg  434.jpg  548.jpg  661.jpg  775.jpg  889.jpg  \u001b[01;34mnoisyblue25\u001b[0m/\n",
            "208.jpg  321.jpg  435.jpg  549.jpg  662.jpg  776.jpg  88.jpg   \u001b[01;34mnoisygreen25\u001b[0m/\n",
            "209.jpg  322.jpg  436.jpg  54.jpg   663.jpg  777.jpg  890.jpg  \u001b[01;34mnoisypurple25\u001b[0m/\n",
            "20.jpg   323.jpg  437.jpg  550.jpg  664.jpg  778.jpg  891.jpg  \u001b[01;34mnoisyred25\u001b[0m/\n",
            "210.jpg  324.jpg  438.jpg  551.jpg  665.jpg  779.jpg  892.jpg  \u001b[01;34mnoisywhite25\u001b[0m/\n",
            "211.jpg  325.jpg  439.jpg  552.jpg  666.jpg  77.jpg   893.jpg  \u001b[01;34mnoisyyellow25\u001b[0m/\n",
            "212.jpg  326.jpg  43.jpg   553.jpg  667.jpg  780.jpg  894.jpg\n"
          ]
        }
      ]
    },
    {
      "cell_type": "code",
      "source": [
        "createNoisyImage(1000,100,45)"
      ],
      "metadata": {
        "id": "hJMrUDm_hVky"
      },
      "execution_count": 379,
      "outputs": []
    },
    {
      "cell_type": "code",
      "source": [
        "(labels_test,numpydata_test) = imagesToFolder(1000,100,45)"
      ],
      "metadata": {
        "colab": {
          "base_uri": "https://localhost:8080/"
        },
        "id": "YKw0NM1MhhDL",
        "outputId": "dee2c5a1-1e54-46d1-d421-d282f28e13b0"
      },
      "execution_count": 392,
      "outputs": [
        {
          "output_type": "stream",
          "name": "stderr",
          "text": [
            "<ipython-input-267-adea43b418ad>:11: DeprecationWarning: `np.int` is a deprecated alias for the builtin `int`. To silence this warning, use `int` by itself. Doing this will not modify any behavior and is safe. When replacing `np.int`, you may wish to use e.g. `np.int64` or `np.int32` to specify the precision. If you wish to review your current use, check the release note link for additional information.\n",
            "Deprecated in NumPy 1.20; for more details and guidance: https://numpy.org/devdocs/release/1.20.0-notes.html#deprecations\n",
            "  numpydata_noisy = np.empty([data_Length, sizeOfImage, sizeOfImage, 3], dtype=np.int)\n"
          ]
        }
      ]
    },
    {
      "cell_type": "code",
      "source": [
        "cd noisyred45"
      ],
      "metadata": {
        "colab": {
          "base_uri": "https://localhost:8080/"
        },
        "id": "OWRK1S9em1cT",
        "outputId": "ec557080-d104-49c9-c850-d3d5d5891cfb"
      },
      "execution_count": 404,
      "outputs": [
        {
          "output_type": "stream",
          "name": "stdout",
          "text": [
            "/root/noisyred45\n"
          ]
        }
      ]
    },
    {
      "cell_type": "code",
      "source": [
        "ls"
      ],
      "metadata": {
        "colab": {
          "base_uri": "https://localhost:8080/"
        },
        "id": "TrEG16Zcm8wH",
        "outputId": "89ccdc36-0eea-4f37-a647-fbe665338c0f"
      },
      "execution_count": 405,
      "outputs": [
        {
          "output_type": "stream",
          "name": "stdout",
          "text": [
            "noise450.jpg    noise45275.jpg  noise45453.jpg  noise45643.jpg  noise45822.jpg\n",
            "noise45100.jpg  noise45277.jpg  noise45454.jpg  noise45644.jpg  noise45823.jpg\n",
            "noise45102.jpg  noise45278.jpg  noise45455.jpg  noise45645.jpg  noise45824.jpg\n",
            "noise45103.jpg  noise45279.jpg  noise45456.jpg  noise45647.jpg  noise45825.jpg\n",
            "noise45104.jpg  noise4527.jpg   noise45457.jpg  noise45648.jpg  noise45826.jpg\n",
            "noise45105.jpg  noise45280.jpg  noise45458.jpg  noise45649.jpg  noise45827.jpg\n",
            "noise45106.jpg  noise45281.jpg  noise45459.jpg  noise4564.jpg   noise4582.jpg\n",
            "noise45108.jpg  noise45282.jpg  noise4545.jpg   noise45650.jpg  noise45830.jpg\n",
            "noise45109.jpg  noise45283.jpg  noise45460.jpg  noise45651.jpg  noise45832.jpg\n",
            "noise4510.jpg   noise45284.jpg  noise45461.jpg  noise45652.jpg  noise45833.jpg\n",
            "noise45110.jpg  noise45285.jpg  noise45463.jpg  noise45653.jpg  noise45834.jpg\n",
            "noise45111.jpg  noise45286.jpg  noise45464.jpg  noise45654.jpg  noise45836.jpg\n",
            "noise45112.jpg  noise45287.jpg  noise45466.jpg  noise45655.jpg  noise45837.jpg\n",
            "noise45113.jpg  noise45289.jpg  noise45467.jpg  noise45656.jpg  noise45838.jpg\n",
            "noise45114.jpg  noise4528.jpg   noise45468.jpg  noise45657.jpg  noise45839.jpg\n",
            "noise45115.jpg  noise45290.jpg  noise45469.jpg  noise45658.jpg  noise4583.jpg\n",
            "noise45116.jpg  noise45291.jpg  noise4546.jpg   noise45659.jpg  noise45840.jpg\n",
            "noise45117.jpg  noise45292.jpg  noise45472.jpg  noise4565.jpg   noise45841.jpg\n",
            "noise45118.jpg  noise45293.jpg  noise45473.jpg  noise45660.jpg  noise45842.jpg\n",
            "noise45119.jpg  noise45294.jpg  noise45474.jpg  noise45661.jpg  noise45843.jpg\n",
            "noise45120.jpg  noise45295.jpg  noise45476.jpg  noise45662.jpg  noise45844.jpg\n",
            "noise45121.jpg  noise45296.jpg  noise45477.jpg  noise45663.jpg  noise45845.jpg\n",
            "noise45122.jpg  noise45297.jpg  noise45478.jpg  noise45664.jpg  noise45846.jpg\n",
            "noise45123.jpg  noise45298.jpg  noise45479.jpg  noise45665.jpg  noise45847.jpg\n",
            "noise45124.jpg  noise45299.jpg  noise4547.jpg   noise45666.jpg  noise45848.jpg\n",
            "noise45125.jpg  noise4529.jpg   noise45480.jpg  noise45667.jpg  noise45849.jpg\n",
            "noise45126.jpg  noise452.jpg    noise45481.jpg  noise45668.jpg  noise45850.jpg\n",
            "noise45127.jpg  noise45300.jpg  noise45482.jpg  noise45669.jpg  noise45851.jpg\n",
            "noise45128.jpg  noise45301.jpg  noise45483.jpg  noise4566.jpg   noise45852.jpg\n",
            "noise45129.jpg  noise45305.jpg  noise45484.jpg  noise45670.jpg  noise45853.jpg\n",
            "noise4512.jpg   noise45306.jpg  noise45485.jpg  noise45672.jpg  noise45854.jpg\n",
            "noise45130.jpg  noise45307.jpg  noise45486.jpg  noise45674.jpg  noise45855.jpg\n",
            "noise45131.jpg  noise45308.jpg  noise45487.jpg  noise45675.jpg  noise45856.jpg\n",
            "noise45132.jpg  noise45309.jpg  noise45488.jpg  noise45676.jpg  noise45857.jpg\n",
            "noise45133.jpg  noise4530.jpg   noise45489.jpg  noise45677.jpg  noise45858.jpg\n",
            "noise45134.jpg  noise45310.jpg  noise4548.jpg   noise45678.jpg  noise45859.jpg\n",
            "noise45136.jpg  noise45311.jpg  noise45490.jpg  noise45679.jpg  noise4585.jpg\n",
            "noise45137.jpg  noise45312.jpg  noise45491.jpg  noise4567.jpg   noise45860.jpg\n",
            "noise45138.jpg  noise45313.jpg  noise45492.jpg  noise45680.jpg  noise45861.jpg\n",
            "noise45139.jpg  noise45314.jpg  noise45493.jpg  noise45681.jpg  noise45862.jpg\n",
            "noise4513.jpg   noise45315.jpg  noise45494.jpg  noise45682.jpg  noise45863.jpg\n",
            "noise45140.jpg  noise45316.jpg  noise45495.jpg  noise45683.jpg  noise45864.jpg\n",
            "noise45141.jpg  noise45317.jpg  noise45496.jpg  noise45684.jpg  noise45865.jpg\n",
            "noise45142.jpg  noise45318.jpg  noise45497.jpg  noise45685.jpg  noise45866.jpg\n",
            "noise45143.jpg  noise45319.jpg  noise45498.jpg  noise45686.jpg  noise45867.jpg\n",
            "noise45144.jpg  noise4531.jpg   noise45499.jpg  noise45687.jpg  noise45868.jpg\n",
            "noise45145.jpg  noise45320.jpg  noise4549.jpg   noise45688.jpg  noise45869.jpg\n",
            "noise45146.jpg  noise45322.jpg  noise454.jpg    noise45689.jpg  noise4586.jpg\n",
            "noise45147.jpg  noise45323.jpg  noise45500.jpg  noise4568.jpg   noise45870.jpg\n",
            "noise45148.jpg  noise45324.jpg  noise45502.jpg  noise45690.jpg  noise45873.jpg\n",
            "noise45149.jpg  noise45326.jpg  noise45504.jpg  noise45691.jpg  noise45874.jpg\n",
            "noise4514.jpg   noise45327.jpg  noise45505.jpg  noise45692.jpg  noise45875.jpg\n",
            "noise45150.jpg  noise45328.jpg  noise45506.jpg  noise45693.jpg  noise45876.jpg\n",
            "noise45151.jpg  noise45329.jpg  noise45508.jpg  noise45694.jpg  noise45877.jpg\n",
            "noise45152.jpg  noise45330.jpg  noise45509.jpg  noise45695.jpg  noise45878.jpg\n",
            "noise45153.jpg  noise45331.jpg  noise4550.jpg   noise45696.jpg  noise45879.jpg\n",
            "noise45154.jpg  noise45332.jpg  noise45510.jpg  noise45697.jpg  noise4587.jpg\n",
            "noise45155.jpg  noise45333.jpg  noise45511.jpg  noise45698.jpg  noise45880.jpg\n",
            "noise45156.jpg  noise45334.jpg  noise45513.jpg  noise45699.jpg  noise45881.jpg\n",
            "noise45157.jpg  noise45335.jpg  noise45514.jpg  noise4569.jpg   noise45882.jpg\n",
            "noise45158.jpg  noise45336.jpg  noise45515.jpg  noise456.jpg    noise45883.jpg\n",
            "noise45159.jpg  noise45337.jpg  noise45516.jpg  noise45700.jpg  noise45884.jpg\n",
            "noise45160.jpg  noise45338.jpg  noise45517.jpg  noise45701.jpg  noise45886.jpg\n",
            "noise45161.jpg  noise45340.jpg  noise45518.jpg  noise45702.jpg  noise45887.jpg\n",
            "noise45162.jpg  noise45341.jpg  noise45519.jpg  noise45703.jpg  noise45888.jpg\n",
            "noise45163.jpg  noise45342.jpg  noise4551.jpg   noise45704.jpg  noise45889.jpg\n",
            "noise45164.jpg  noise45343.jpg  noise45521.jpg  noise45705.jpg  noise4588.jpg\n",
            "noise45165.jpg  noise45344.jpg  noise45522.jpg  noise45706.jpg  noise45890.jpg\n",
            "noise45166.jpg  noise45345.jpg  noise45523.jpg  noise45707.jpg  noise45891.jpg\n",
            "noise45167.jpg  noise45347.jpg  noise45524.jpg  noise45708.jpg  noise45892.jpg\n",
            "noise45168.jpg  noise45348.jpg  noise45525.jpg  noise45709.jpg  noise45893.jpg\n",
            "noise45169.jpg  noise45349.jpg  noise45526.jpg  noise4570.jpg   noise45894.jpg\n",
            "noise45170.jpg  noise4534.jpg   noise45527.jpg  noise45710.jpg  noise45895.jpg\n",
            "noise45171.jpg  noise45350.jpg  noise45528.jpg  noise45711.jpg  noise45896.jpg\n",
            "noise45172.jpg  noise45351.jpg  noise45529.jpg  noise45712.jpg  noise45897.jpg\n",
            "noise45173.jpg  noise45352.jpg  noise4552.jpg   noise45713.jpg  noise45898.jpg\n",
            "noise45174.jpg  noise45353.jpg  noise45530.jpg  noise45714.jpg  noise45899.jpg\n",
            "noise45175.jpg  noise45355.jpg  noise45532.jpg  noise45715.jpg  noise4589.jpg\n",
            "noise45176.jpg  noise45356.jpg  noise45533.jpg  noise45716.jpg  noise458.jpg\n",
            "noise45177.jpg  noise45357.jpg  noise45534.jpg  noise45717.jpg  noise45900.jpg\n",
            "noise45178.jpg  noise45358.jpg  noise45535.jpg  noise45718.jpg  noise45902.jpg\n",
            "noise45179.jpg  noise45359.jpg  noise45536.jpg  noise45719.jpg  noise45903.jpg\n",
            "noise4517.jpg   noise4535.jpg   noise45537.jpg  noise4571.jpg   noise45904.jpg\n",
            "noise45183.jpg  noise45360.jpg  noise45539.jpg  noise45720.jpg  noise45905.jpg\n",
            "noise45184.jpg  noise45361.jpg  noise4553.jpg   noise45722.jpg  noise45907.jpg\n",
            "noise45185.jpg  noise45362.jpg  noise45540.jpg  noise45723.jpg  noise45908.jpg\n",
            "noise45186.jpg  noise45363.jpg  noise45542.jpg  noise45724.jpg  noise45909.jpg\n",
            "noise45187.jpg  noise45364.jpg  noise45543.jpg  noise45725.jpg  noise4590.jpg\n",
            "noise45188.jpg  noise45365.jpg  noise45544.jpg  noise45726.jpg  noise45910.jpg\n",
            "noise45189.jpg  noise45366.jpg  noise45545.jpg  noise45727.jpg  noise45911.jpg\n",
            "noise4518.jpg   noise45367.jpg  noise45546.jpg  noise45728.jpg  noise45912.jpg\n",
            "noise45190.jpg  noise45368.jpg  noise45547.jpg  noise45729.jpg  noise45914.jpg\n",
            "noise45191.jpg  noise45369.jpg  noise45549.jpg  noise4572.jpg   noise45915.jpg\n",
            "noise45192.jpg  noise4536.jpg   noise4554.jpg   noise45730.jpg  noise45917.jpg\n",
            "noise45193.jpg  noise45370.jpg  noise45550.jpg  noise45732.jpg  noise45919.jpg\n",
            "noise45195.jpg  noise45371.jpg  noise45551.jpg  noise45733.jpg  noise4591.jpg\n",
            "noise45196.jpg  noise45372.jpg  noise45552.jpg  noise45734.jpg  noise45920.jpg\n",
            "noise45197.jpg  noise45373.jpg  noise45553.jpg  noise45735.jpg  noise45921.jpg\n",
            "noise45198.jpg  noise45374.jpg  noise45554.jpg  noise45736.jpg  noise45922.jpg\n",
            "noise45199.jpg  noise45375.jpg  noise45555.jpg  noise45737.jpg  noise45924.jpg\n",
            "noise4519.jpg   noise45376.jpg  noise45556.jpg  noise45738.jpg  noise45925.jpg\n",
            "noise451.jpg    noise45377.jpg  noise45558.jpg  noise45739.jpg  noise45926.jpg\n",
            "noise45200.jpg  noise45378.jpg  noise45559.jpg  noise4573.jpg   noise45927.jpg\n",
            "noise45201.jpg  noise45379.jpg  noise4555.jpg   noise45740.jpg  noise45928.jpg\n",
            "noise45202.jpg  noise4537.jpg   noise45560.jpg  noise45741.jpg  noise45929.jpg\n",
            "noise45203.jpg  noise45380.jpg  noise45561.jpg  noise45742.jpg  noise4592.jpg\n",
            "noise45204.jpg  noise45381.jpg  noise45562.jpg  noise45744.jpg  noise45930.jpg\n",
            "noise45205.jpg  noise45382.jpg  noise45563.jpg  noise45745.jpg  noise45931.jpg\n",
            "noise45206.jpg  noise45383.jpg  noise45566.jpg  noise45746.jpg  noise45932.jpg\n",
            "noise45207.jpg  noise45384.jpg  noise45567.jpg  noise45747.jpg  noise45933.jpg\n",
            "noise45208.jpg  noise45386.jpg  noise45568.jpg  noise45748.jpg  noise45934.jpg\n",
            "noise45209.jpg  noise45387.jpg  noise45569.jpg  noise45749.jpg  noise45935.jpg\n",
            "noise4520.jpg   noise45388.jpg  noise4556.jpg   noise4574.jpg   noise45936.jpg\n",
            "noise45210.jpg  noise45389.jpg  noise45570.jpg  noise45750.jpg  noise45937.jpg\n",
            "noise45211.jpg  noise4538.jpg   noise45571.jpg  noise45751.jpg  noise45938.jpg\n",
            "noise45212.jpg  noise45390.jpg  noise45573.jpg  noise45752.jpg  noise4593.jpg\n",
            "noise45213.jpg  noise45391.jpg  noise45574.jpg  noise45753.jpg  noise45941.jpg\n",
            "noise45214.jpg  noise45392.jpg  noise45575.jpg  noise45754.jpg  noise45942.jpg\n",
            "noise45215.jpg  noise45393.jpg  noise45576.jpg  noise45755.jpg  noise45943.jpg\n",
            "noise45216.jpg  noise45394.jpg  noise45578.jpg  noise45756.jpg  noise45944.jpg\n",
            "noise45217.jpg  noise45395.jpg  noise4557.jpg   noise45758.jpg  noise45945.jpg\n",
            "noise45218.jpg  noise45396.jpg  noise45580.jpg  noise45759.jpg  noise45946.jpg\n",
            "noise4521.jpg   noise45397.jpg  noise45581.jpg  noise45760.jpg  noise45947.jpg\n",
            "noise45220.jpg  noise45398.jpg  noise45582.jpg  noise45761.jpg  noise45948.jpg\n",
            "noise45222.jpg  noise45399.jpg  noise45583.jpg  noise45762.jpg  noise4594.jpg\n",
            "noise45223.jpg  noise4539.jpg   noise45584.jpg  noise45763.jpg  noise45950.jpg\n",
            "noise45224.jpg  noise453.jpg    noise45585.jpg  noise45764.jpg  noise45951.jpg\n",
            "noise45225.jpg  noise45401.jpg  noise45586.jpg  noise45765.jpg  noise45952.jpg\n",
            "noise45226.jpg  noise45403.jpg  noise45587.jpg  noise45767.jpg  noise45953.jpg\n",
            "noise45227.jpg  noise45404.jpg  noise45588.jpg  noise45768.jpg  noise45955.jpg\n",
            "noise45228.jpg  noise45405.jpg  noise4558.jpg   noise45769.jpg  noise45957.jpg\n",
            "noise45229.jpg  noise45406.jpg  noise45591.jpg  noise4576.jpg   noise45959.jpg\n",
            "noise4522.jpg   noise45407.jpg  noise45594.jpg  noise45770.jpg  noise4595.jpg\n",
            "noise45230.jpg  noise45408.jpg  noise45595.jpg  noise45771.jpg  noise45960.jpg\n",
            "noise45231.jpg  noise45409.jpg  noise45597.jpg  noise45772.jpg  noise45961.jpg\n",
            "noise45232.jpg  noise4540.jpg   noise45598.jpg  noise45773.jpg  noise45962.jpg\n",
            "noise45233.jpg  noise45410.jpg  noise4559.jpg   noise45774.jpg  noise45963.jpg\n",
            "noise45234.jpg  noise45411.jpg  noise455.jpg    noise45775.jpg  noise45964.jpg\n",
            "noise45235.jpg  noise45412.jpg  noise45600.jpg  noise45776.jpg  noise45965.jpg\n",
            "noise45236.jpg  noise45413.jpg  noise45602.jpg  noise45777.jpg  noise45966.jpg\n",
            "noise45237.jpg  noise45414.jpg  noise45603.jpg  noise45778.jpg  noise45967.jpg\n",
            "noise45238.jpg  noise45415.jpg  noise45605.jpg  noise45779.jpg  noise45968.jpg\n",
            "noise45239.jpg  noise45416.jpg  noise45606.jpg  noise4577.jpg   noise45969.jpg\n",
            "noise4523.jpg   noise45417.jpg  noise45607.jpg  noise45780.jpg  noise4596.jpg\n",
            "noise45240.jpg  noise45418.jpg  noise45608.jpg  noise45781.jpg  noise45970.jpg\n",
            "noise45241.jpg  noise45419.jpg  noise45609.jpg  noise45782.jpg  noise45971.jpg\n",
            "noise45242.jpg  noise4541.jpg   noise4560.jpg   noise45785.jpg  noise45972.jpg\n",
            "noise45243.jpg  noise45420.jpg  noise45610.jpg  noise45786.jpg  noise45973.jpg\n",
            "noise45244.jpg  noise45421.jpg  noise45611.jpg  noise45788.jpg  noise45974.jpg\n",
            "noise45245.jpg  noise45422.jpg  noise45612.jpg  noise45789.jpg  noise45975.jpg\n",
            "noise45246.jpg  noise45423.jpg  noise45613.jpg  noise4578.jpg   noise45976.jpg\n",
            "noise45247.jpg  noise45424.jpg  noise45614.jpg  noise45790.jpg  noise45978.jpg\n",
            "noise45248.jpg  noise45425.jpg  noise45615.jpg  noise45791.jpg  noise45979.jpg\n",
            "noise45249.jpg  noise45426.jpg  noise45616.jpg  noise45792.jpg  noise4597.jpg\n",
            "noise4524.jpg   noise45427.jpg  noise45617.jpg  noise45794.jpg  noise45980.jpg\n",
            "noise45250.jpg  noise45428.jpg  noise45618.jpg  noise45795.jpg  noise45981.jpg\n",
            "noise45252.jpg  noise45429.jpg  noise45619.jpg  noise45796.jpg  noise45982.jpg\n",
            "noise45253.jpg  noise4542.jpg   noise4561.jpg   noise45799.jpg  noise45983.jpg\n",
            "noise45254.jpg  noise45430.jpg  noise45620.jpg  noise4579.jpg   noise45984.jpg\n",
            "noise45255.jpg  noise45431.jpg  noise45622.jpg  noise457.jpg    noise45985.jpg\n",
            "noise45256.jpg  noise45432.jpg  noise45623.jpg  noise45800.jpg  noise45986.jpg\n",
            "noise45257.jpg  noise45433.jpg  noise45624.jpg  noise45801.jpg  noise45987.jpg\n",
            "noise45258.jpg  noise45434.jpg  noise45625.jpg  noise45802.jpg  noise45988.jpg\n",
            "noise45259.jpg  noise45435.jpg  noise45626.jpg  noise45804.jpg  noise45989.jpg\n",
            "noise4525.jpg   noise45436.jpg  noise45627.jpg  noise45805.jpg  noise4598.jpg\n",
            "noise45260.jpg  noise45437.jpg  noise45628.jpg  noise45806.jpg  noise45990.jpg\n",
            "noise45261.jpg  noise45438.jpg  noise45629.jpg  noise45807.jpg  noise45991.jpg\n",
            "noise45262.jpg  noise45439.jpg  noise45630.jpg  noise45808.jpg  noise45992.jpg\n",
            "noise45263.jpg  noise45441.jpg  noise45631.jpg  noise45809.jpg  noise45993.jpg\n",
            "noise45264.jpg  noise45442.jpg  noise45632.jpg  noise4580.jpg   noise45995.jpg\n",
            "noise45265.jpg  noise45443.jpg  noise45633.jpg  noise45811.jpg  noise45996.jpg\n",
            "noise45266.jpg  noise45444.jpg  noise45634.jpg  noise45812.jpg  noise45997.jpg\n",
            "noise45267.jpg  noise45446.jpg  noise45635.jpg  noise45813.jpg  noise45998.jpg\n",
            "noise45268.jpg  noise45447.jpg  noise45636.jpg  noise45814.jpg  noise45999.jpg\n",
            "noise45269.jpg  noise45448.jpg  noise45637.jpg  noise45816.jpg  noise4599.jpg\n",
            "noise4526.jpg   noise45449.jpg  noise45638.jpg  noise45817.jpg  noise459.jpg\n",
            "noise45270.jpg  noise4544.jpg   noise45639.jpg  noise45818.jpg\n",
            "noise45271.jpg  noise45450.jpg  noise4563.jpg   noise45819.jpg\n",
            "noise45272.jpg  noise45451.jpg  noise45640.jpg  noise45820.jpg\n",
            "noise45274.jpg  noise45452.jpg  noise45642.jpg  noise45821.jpg\n"
          ]
        }
      ]
    },
    {
      "cell_type": "markdown",
      "source": [
        "when we make 45% noises on images, even the classification of images in the folder was not done well. for example, this image is green or blue. but it is in thr red folder\n"
      ],
      "metadata": {
        "id": "qpjcKd0knovM"
      }
    },
    {
      "cell_type": "markdown",
      "source": [
        "f"
      ],
      "metadata": {
        "id": "SsEh5GUAqcw4"
      }
    },
    {
      "cell_type": "code",
      "source": [
        "import matplotlib.pyplot as plt\n",
        "plt.imshow(numpydata_test[9])"
      ],
      "metadata": {
        "colab": {
          "base_uri": "https://localhost:8080/",
          "height": 450
        },
        "id": "XxJFncAYnO3p",
        "outputId": "3d16fd10-c18c-4345-97f6-44d8d39f4895"
      },
      "execution_count": 409,
      "outputs": [
        {
          "output_type": "execute_result",
          "data": {
            "text/plain": [
              "<matplotlib.image.AxesImage at 0x7a6dbf7299c0>"
            ]
          },
          "metadata": {},
          "execution_count": 409
        },
        {
          "output_type": "display_data",
          "data": {
            "text/plain": [
              "<Figure size 640x480 with 1 Axes>"
            ],
            "image/png": "[encoded data removed]"
          },
          "metadata": {}
        }
      ]
    },
    {
      "cell_type": "code",
      "source": [
        "ls"
      ],
      "metadata": {
        "colab": {
          "base_uri": "https://localhost:8080/"
        },
        "id": "pYQXvYr-o4Tz",
        "outputId": "431d7333-5fa0-4590-fea3-eb853d724240"
      },
      "execution_count": 422,
      "outputs": [
        {
          "output_type": "stream",
          "name": "stdout",
          "text": [
            "noise450.jpg    noise45275.jpg  noise45453.jpg  noise45643.jpg  noise45822.jpg\n",
            "noise45100.jpg  noise45277.jpg  noise45454.jpg  noise45644.jpg  noise45823.jpg\n",
            "noise45102.jpg  noise45278.jpg  noise45455.jpg  noise45645.jpg  noise45824.jpg\n",
            "noise45103.jpg  noise45279.jpg  noise45456.jpg  noise45647.jpg  noise45825.jpg\n",
            "noise45104.jpg  noise4527.jpg   noise45457.jpg  noise45648.jpg  noise45826.jpg\n",
            "noise45105.jpg  noise45280.jpg  noise45458.jpg  noise45649.jpg  noise45827.jpg\n",
            "noise45106.jpg  noise45281.jpg  noise45459.jpg  noise4564.jpg   noise4582.jpg\n",
            "noise45108.jpg  noise45282.jpg  noise4545.jpg   noise45650.jpg  noise45830.jpg\n",
            "noise45109.jpg  noise45283.jpg  noise45460.jpg  noise45651.jpg  noise45832.jpg\n",
            "noise4510.jpg   noise45284.jpg  noise45461.jpg  noise45652.jpg  noise45833.jpg\n",
            "noise45110.jpg  noise45285.jpg  noise45463.jpg  noise45653.jpg  noise45834.jpg\n",
            "noise45111.jpg  noise45286.jpg  noise45464.jpg  noise45654.jpg  noise45836.jpg\n",
            "noise45112.jpg  noise45287.jpg  noise45466.jpg  noise45655.jpg  noise45837.jpg\n",
            "noise45113.jpg  noise45289.jpg  noise45467.jpg  noise45656.jpg  noise45838.jpg\n",
            "noise45114.jpg  noise4528.jpg   noise45468.jpg  noise45657.jpg  noise45839.jpg\n",
            "noise45115.jpg  noise45290.jpg  noise45469.jpg  noise45658.jpg  noise4583.jpg\n",
            "noise45116.jpg  noise45291.jpg  noise4546.jpg   noise45659.jpg  noise45840.jpg\n",
            "noise45117.jpg  noise45292.jpg  noise45472.jpg  noise4565.jpg   noise45841.jpg\n",
            "noise45118.jpg  noise45293.jpg  noise45473.jpg  noise45660.jpg  noise45842.jpg\n",
            "noise45119.jpg  noise45294.jpg  noise45474.jpg  noise45661.jpg  noise45843.jpg\n",
            "noise45120.jpg  noise45295.jpg  noise45476.jpg  noise45662.jpg  noise45844.jpg\n",
            "noise45121.jpg  noise45296.jpg  noise45477.jpg  noise45663.jpg  noise45845.jpg\n",
            "noise45122.jpg  noise45297.jpg  noise45478.jpg  noise45664.jpg  noise45846.jpg\n",
            "noise45123.jpg  noise45298.jpg  noise45479.jpg  noise45665.jpg  noise45847.jpg\n",
            "noise45124.jpg  noise45299.jpg  noise4547.jpg   noise45666.jpg  noise45848.jpg\n",
            "noise45125.jpg  noise4529.jpg   noise45480.jpg  noise45667.jpg  noise45849.jpg\n",
            "noise45126.jpg  noise452.jpg    noise45481.jpg  noise45668.jpg  noise45850.jpg\n",
            "noise45127.jpg  noise45300.jpg  noise45482.jpg  noise45669.jpg  noise45851.jpg\n",
            "noise45128.jpg  noise45301.jpg  noise45483.jpg  noise4566.jpg   noise45852.jpg\n",
            "noise45129.jpg  noise45305.jpg  noise45484.jpg  noise45670.jpg  noise45853.jpg\n",
            "noise4512.jpg   noise45306.jpg  noise45485.jpg  noise45672.jpg  noise45854.jpg\n",
            "noise45130.jpg  noise45307.jpg  noise45486.jpg  noise45674.jpg  noise45855.jpg\n",
            "noise45131.jpg  noise45308.jpg  noise45487.jpg  noise45675.jpg  noise45856.jpg\n",
            "noise45132.jpg  noise45309.jpg  noise45488.jpg  noise45676.jpg  noise45857.jpg\n",
            "noise45133.jpg  noise4530.jpg   noise45489.jpg  noise45677.jpg  noise45858.jpg\n",
            "noise45134.jpg  noise45310.jpg  noise4548.jpg   noise45678.jpg  noise45859.jpg\n",
            "noise45136.jpg  noise45311.jpg  noise45490.jpg  noise45679.jpg  noise4585.jpg\n",
            "noise45137.jpg  noise45312.jpg  noise45491.jpg  noise4567.jpg   noise45860.jpg\n",
            "noise45138.jpg  noise45313.jpg  noise45492.jpg  noise45680.jpg  noise45861.jpg\n",
            "noise45139.jpg  noise45314.jpg  noise45493.jpg  noise45681.jpg  noise45862.jpg\n",
            "noise4513.jpg   noise45315.jpg  noise45494.jpg  noise45682.jpg  noise45863.jpg\n",
            "noise45140.jpg  noise45316.jpg  noise45495.jpg  noise45683.jpg  noise45864.jpg\n",
            "noise45141.jpg  noise45317.jpg  noise45496.jpg  noise45684.jpg  noise45865.jpg\n",
            "noise45142.jpg  noise45318.jpg  noise45497.jpg  noise45685.jpg  noise45866.jpg\n",
            "noise45143.jpg  noise45319.jpg  noise45498.jpg  noise45686.jpg  noise45867.jpg\n",
            "noise45144.jpg  noise4531.jpg   noise45499.jpg  noise45687.jpg  noise45868.jpg\n",
            "noise45145.jpg  noise45320.jpg  noise4549.jpg   noise45688.jpg  noise45869.jpg\n",
            "noise45146.jpg  noise45322.jpg  noise454.jpg    noise45689.jpg  noise4586.jpg\n",
            "noise45147.jpg  noise45323.jpg  noise45500.jpg  noise4568.jpg   noise45870.jpg\n",
            "noise45148.jpg  noise45324.jpg  noise45502.jpg  noise45690.jpg  noise45873.jpg\n",
            "noise45149.jpg  noise45326.jpg  noise45504.jpg  noise45691.jpg  noise45874.jpg\n",
            "noise4514.jpg   noise45327.jpg  noise45505.jpg  noise45692.jpg  noise45875.jpg\n",
            "noise45150.jpg  noise45328.jpg  noise45506.jpg  noise45693.jpg  noise45876.jpg\n",
            "noise45151.jpg  noise45329.jpg  noise45508.jpg  noise45694.jpg  noise45877.jpg\n",
            "noise45152.jpg  noise45330.jpg  noise45509.jpg  noise45695.jpg  noise45878.jpg\n",
            "noise45153.jpg  noise45331.jpg  noise4550.jpg   noise45696.jpg  noise45879.jpg\n",
            "noise45154.jpg  noise45332.jpg  noise45510.jpg  noise45697.jpg  noise4587.jpg\n",
            "noise45155.jpg  noise45333.jpg  noise45511.jpg  noise45698.jpg  noise45880.jpg\n",
            "noise45156.jpg  noise45334.jpg  noise45513.jpg  noise45699.jpg  noise45881.jpg\n",
            "noise45157.jpg  noise45335.jpg  noise45514.jpg  noise4569.jpg   noise45882.jpg\n",
            "noise45158.jpg  noise45336.jpg  noise45515.jpg  noise456.jpg    noise45883.jpg\n",
            "noise45159.jpg  noise45337.jpg  noise45516.jpg  noise45700.jpg  noise45884.jpg\n",
            "noise45160.jpg  noise45338.jpg  noise45517.jpg  noise45701.jpg  noise45886.jpg\n",
            "noise45161.jpg  noise45340.jpg  noise45518.jpg  noise45702.jpg  noise45887.jpg\n",
            "noise45162.jpg  noise45341.jpg  noise45519.jpg  noise45703.jpg  noise45888.jpg\n",
            "noise45163.jpg  noise45342.jpg  noise4551.jpg   noise45704.jpg  noise45889.jpg\n",
            "noise45164.jpg  noise45343.jpg  noise45521.jpg  noise45705.jpg  noise4588.jpg\n",
            "noise45165.jpg  noise45344.jpg  noise45522.jpg  noise45706.jpg  noise45890.jpg\n",
            "noise45166.jpg  noise45345.jpg  noise45523.jpg  noise45707.jpg  noise45891.jpg\n",
            "noise45167.jpg  noise45347.jpg  noise45524.jpg  noise45708.jpg  noise45892.jpg\n",
            "noise45168.jpg  noise45348.jpg  noise45525.jpg  noise45709.jpg  noise45893.jpg\n",
            "noise45169.jpg  noise45349.jpg  noise45526.jpg  noise4570.jpg   noise45894.jpg\n",
            "noise45170.jpg  noise4534.jpg   noise45527.jpg  noise45710.jpg  noise45895.jpg\n",
            "noise45171.jpg  noise45350.jpg  noise45528.jpg  noise45711.jpg  noise45896.jpg\n",
            "noise45172.jpg  noise45351.jpg  noise45529.jpg  noise45712.jpg  noise45897.jpg\n",
            "noise45173.jpg  noise45352.jpg  noise4552.jpg   noise45713.jpg  noise45898.jpg\n",
            "noise45174.jpg  noise45353.jpg  noise45530.jpg  noise45714.jpg  noise45899.jpg\n",
            "noise45175.jpg  noise45355.jpg  noise45532.jpg  noise45715.jpg  noise4589.jpg\n",
            "noise45176.jpg  noise45356.jpg  noise45533.jpg  noise45716.jpg  noise458.jpg\n",
            "noise45177.jpg  noise45357.jpg  noise45534.jpg  noise45717.jpg  noise45900.jpg\n",
            "noise45178.jpg  noise45358.jpg  noise45535.jpg  noise45718.jpg  noise45902.jpg\n",
            "noise45179.jpg  noise45359.jpg  noise45536.jpg  noise45719.jpg  noise45903.jpg\n",
            "noise4517.jpg   noise4535.jpg   noise45537.jpg  noise4571.jpg   noise45904.jpg\n",
            "noise45183.jpg  noise45360.jpg  noise45539.jpg  noise45720.jpg  noise45905.jpg\n",
            "noise45184.jpg  noise45361.jpg  noise4553.jpg   noise45722.jpg  noise45907.jpg\n",
            "noise45185.jpg  noise45362.jpg  noise45540.jpg  noise45723.jpg  noise45908.jpg\n",
            "noise45186.jpg  noise45363.jpg  noise45542.jpg  noise45724.jpg  noise45909.jpg\n",
            "noise45187.jpg  noise45364.jpg  noise45543.jpg  noise45725.jpg  noise4590.jpg\n",
            "noise45188.jpg  noise45365.jpg  noise45544.jpg  noise45726.jpg  noise45910.jpg\n",
            "noise45189.jpg  noise45366.jpg  noise45545.jpg  noise45727.jpg  noise45911.jpg\n",
            "noise4518.jpg   noise45367.jpg  noise45546.jpg  noise45728.jpg  noise45912.jpg\n",
            "noise45190.jpg  noise45368.jpg  noise45547.jpg  noise45729.jpg  noise45914.jpg\n",
            "noise45191.jpg  noise45369.jpg  noise45549.jpg  noise4572.jpg   noise45915.jpg\n",
            "noise45192.jpg  noise4536.jpg   noise4554.jpg   noise45730.jpg  noise45917.jpg\n",
            "noise45193.jpg  noise45370.jpg  noise45550.jpg  noise45732.jpg  noise45919.jpg\n",
            "noise45195.jpg  noise45371.jpg  noise45551.jpg  noise45733.jpg  noise4591.jpg\n",
            "noise45196.jpg  noise45372.jpg  noise45552.jpg  noise45734.jpg  noise45920.jpg\n",
            "noise45197.jpg  noise45373.jpg  noise45553.jpg  noise45735.jpg  noise45921.jpg\n",
            "noise45198.jpg  noise45374.jpg  noise45554.jpg  noise45736.jpg  noise45922.jpg\n",
            "noise45199.jpg  noise45375.jpg  noise45555.jpg  noise45737.jpg  noise45924.jpg\n",
            "noise4519.jpg   noise45376.jpg  noise45556.jpg  noise45738.jpg  noise45925.jpg\n",
            "noise451.jpg    noise45377.jpg  noise45558.jpg  noise45739.jpg  noise45926.jpg\n",
            "noise45200.jpg  noise45378.jpg  noise45559.jpg  noise4573.jpg   noise45927.jpg\n",
            "noise45201.jpg  noise45379.jpg  noise4555.jpg   noise45740.jpg  noise45928.jpg\n",
            "noise45202.jpg  noise4537.jpg   noise45560.jpg  noise45741.jpg  noise45929.jpg\n",
            "noise45203.jpg  noise45380.jpg  noise45561.jpg  noise45742.jpg  noise4592.jpg\n",
            "noise45204.jpg  noise45381.jpg  noise45562.jpg  noise45744.jpg  noise45930.jpg\n",
            "noise45205.jpg  noise45382.jpg  noise45563.jpg  noise45745.jpg  noise45931.jpg\n",
            "noise45206.jpg  noise45383.jpg  noise45566.jpg  noise45746.jpg  noise45932.jpg\n",
            "noise45207.jpg  noise45384.jpg  noise45567.jpg  noise45747.jpg  noise45933.jpg\n",
            "noise45208.jpg  noise45386.jpg  noise45568.jpg  noise45748.jpg  noise45934.jpg\n",
            "noise45209.jpg  noise45387.jpg  noise45569.jpg  noise45749.jpg  noise45935.jpg\n",
            "noise4520.jpg   noise45388.jpg  noise4556.jpg   noise4574.jpg   noise45936.jpg\n",
            "noise45210.jpg  noise45389.jpg  noise45570.jpg  noise45750.jpg  noise45937.jpg\n",
            "noise45211.jpg  noise4538.jpg   noise45571.jpg  noise45751.jpg  noise45938.jpg\n",
            "noise45212.jpg  noise45390.jpg  noise45573.jpg  noise45752.jpg  noise4593.jpg\n",
            "noise45213.jpg  noise45391.jpg  noise45574.jpg  noise45753.jpg  noise45941.jpg\n",
            "noise45214.jpg  noise45392.jpg  noise45575.jpg  noise45754.jpg  noise45942.jpg\n",
            "noise45215.jpg  noise45393.jpg  noise45576.jpg  noise45755.jpg  noise45943.jpg\n",
            "noise45216.jpg  noise45394.jpg  noise45578.jpg  noise45756.jpg  noise45944.jpg\n",
            "noise45217.jpg  noise45395.jpg  noise4557.jpg   noise45758.jpg  noise45945.jpg\n",
            "noise45218.jpg  noise45396.jpg  noise45580.jpg  noise45759.jpg  noise45946.jpg\n",
            "noise4521.jpg   noise45397.jpg  noise45581.jpg  noise45760.jpg  noise45947.jpg\n",
            "noise45220.jpg  noise45398.jpg  noise45582.jpg  noise45761.jpg  noise45948.jpg\n",
            "noise45222.jpg  noise45399.jpg  noise45583.jpg  noise45762.jpg  noise4594.jpg\n",
            "noise45223.jpg  noise4539.jpg   noise45584.jpg  noise45763.jpg  noise45950.jpg\n",
            "noise45224.jpg  noise453.jpg    noise45585.jpg  noise45764.jpg  noise45951.jpg\n",
            "noise45225.jpg  noise45401.jpg  noise45586.jpg  noise45765.jpg  noise45952.jpg\n",
            "noise45226.jpg  noise45403.jpg  noise45587.jpg  noise45767.jpg  noise45953.jpg\n",
            "noise45227.jpg  noise45404.jpg  noise45588.jpg  noise45768.jpg  noise45955.jpg\n",
            "noise45228.jpg  noise45405.jpg  noise4558.jpg   noise45769.jpg  noise45957.jpg\n",
            "noise45229.jpg  noise45406.jpg  noise45591.jpg  noise4576.jpg   noise45959.jpg\n",
            "noise4522.jpg   noise45407.jpg  noise45594.jpg  noise45770.jpg  noise4595.jpg\n",
            "noise45230.jpg  noise45408.jpg  noise45595.jpg  noise45771.jpg  noise45960.jpg\n",
            "noise45231.jpg  noise45409.jpg  noise45597.jpg  noise45772.jpg  noise45961.jpg\n",
            "noise45232.jpg  noise4540.jpg   noise45598.jpg  noise45773.jpg  noise45962.jpg\n",
            "noise45233.jpg  noise45410.jpg  noise4559.jpg   noise45774.jpg  noise45963.jpg\n",
            "noise45234.jpg  noise45411.jpg  noise455.jpg    noise45775.jpg  noise45964.jpg\n",
            "noise45235.jpg  noise45412.jpg  noise45600.jpg  noise45776.jpg  noise45965.jpg\n",
            "noise45236.jpg  noise45413.jpg  noise45602.jpg  noise45777.jpg  noise45966.jpg\n",
            "noise45237.jpg  noise45414.jpg  noise45603.jpg  noise45778.jpg  noise45967.jpg\n",
            "noise45238.jpg  noise45415.jpg  noise45605.jpg  noise45779.jpg  noise45968.jpg\n",
            "noise45239.jpg  noise45416.jpg  noise45606.jpg  noise4577.jpg   noise45969.jpg\n",
            "noise4523.jpg   noise45417.jpg  noise45607.jpg  noise45780.jpg  noise4596.jpg\n",
            "noise45240.jpg  noise45418.jpg  noise45608.jpg  noise45781.jpg  noise45970.jpg\n",
            "noise45241.jpg  noise45419.jpg  noise45609.jpg  noise45782.jpg  noise45971.jpg\n",
            "noise45242.jpg  noise4541.jpg   noise4560.jpg   noise45785.jpg  noise45972.jpg\n",
            "noise45243.jpg  noise45420.jpg  noise45610.jpg  noise45786.jpg  noise45973.jpg\n",
            "noise45244.jpg  noise45421.jpg  noise45611.jpg  noise45788.jpg  noise45974.jpg\n",
            "noise45245.jpg  noise45422.jpg  noise45612.jpg  noise45789.jpg  noise45975.jpg\n",
            "noise45246.jpg  noise45423.jpg  noise45613.jpg  noise4578.jpg   noise45976.jpg\n",
            "noise45247.jpg  noise45424.jpg  noise45614.jpg  noise45790.jpg  noise45978.jpg\n",
            "noise45248.jpg  noise45425.jpg  noise45615.jpg  noise45791.jpg  noise45979.jpg\n",
            "noise45249.jpg  noise45426.jpg  noise45616.jpg  noise45792.jpg  noise4597.jpg\n",
            "noise4524.jpg   noise45427.jpg  noise45617.jpg  noise45794.jpg  noise45980.jpg\n",
            "noise45250.jpg  noise45428.jpg  noise45618.jpg  noise45795.jpg  noise45981.jpg\n",
            "noise45252.jpg  noise45429.jpg  noise45619.jpg  noise45796.jpg  noise45982.jpg\n",
            "noise45253.jpg  noise4542.jpg   noise4561.jpg   noise45799.jpg  noise45983.jpg\n",
            "noise45254.jpg  noise45430.jpg  noise45620.jpg  noise4579.jpg   noise45984.jpg\n",
            "noise45255.jpg  noise45431.jpg  noise45622.jpg  noise457.jpg    noise45985.jpg\n",
            "noise45256.jpg  noise45432.jpg  noise45623.jpg  noise45800.jpg  noise45986.jpg\n",
            "noise45257.jpg  noise45433.jpg  noise45624.jpg  noise45801.jpg  noise45987.jpg\n",
            "noise45258.jpg  noise45434.jpg  noise45625.jpg  noise45802.jpg  noise45988.jpg\n",
            "noise45259.jpg  noise45435.jpg  noise45626.jpg  noise45804.jpg  noise45989.jpg\n",
            "noise4525.jpg   noise45436.jpg  noise45627.jpg  noise45805.jpg  noise4598.jpg\n",
            "noise45260.jpg  noise45437.jpg  noise45628.jpg  noise45806.jpg  noise45990.jpg\n",
            "noise45261.jpg  noise45438.jpg  noise45629.jpg  noise45807.jpg  noise45991.jpg\n",
            "noise45262.jpg  noise45439.jpg  noise45630.jpg  noise45808.jpg  noise45992.jpg\n",
            "noise45263.jpg  noise45441.jpg  noise45631.jpg  noise45809.jpg  noise45993.jpg\n",
            "noise45264.jpg  noise45442.jpg  noise45632.jpg  noise4580.jpg   noise45995.jpg\n",
            "noise45265.jpg  noise45443.jpg  noise45633.jpg  noise45811.jpg  noise45996.jpg\n",
            "noise45266.jpg  noise45444.jpg  noise45634.jpg  noise45812.jpg  noise45997.jpg\n",
            "noise45267.jpg  noise45446.jpg  noise45635.jpg  noise45813.jpg  noise45998.jpg\n",
            "noise45268.jpg  noise45447.jpg  noise45636.jpg  noise45814.jpg  noise45999.jpg\n",
            "noise45269.jpg  noise45448.jpg  noise45637.jpg  noise45816.jpg  noise4599.jpg\n",
            "noise4526.jpg   noise45449.jpg  noise45638.jpg  noise45817.jpg  noise459.jpg\n",
            "noise45270.jpg  noise4544.jpg   noise45639.jpg  noise45818.jpg\n",
            "noise45271.jpg  noise45450.jpg  noise4563.jpg   noise45819.jpg\n",
            "noise45272.jpg  noise45451.jpg  noise45640.jpg  noise45820.jpg\n",
            "noise45274.jpg  noise45452.jpg  noise45642.jpg  noise45821.jpg\n"
          ]
        }
      ]
    },
    {
      "cell_type": "code",
      "source": [
        "import matplotlib.pyplot as plt\n",
        "plt.imshow(numpydata_test[437])\n",
        "plt.imshow(numpydata_test[57])"
      ],
      "metadata": {
        "colab": {
          "base_uri": "https://localhost:8080/",
          "height": 450
        },
        "id": "qhO-k9UjpDmV",
        "outputId": "c29444e9-a1d8-4418-bdca-6db43efa3da0"
      },
      "execution_count": 429,
      "outputs": [
        {
          "output_type": "execute_result",
          "data": {
            "text/plain": [
              "<matplotlib.image.AxesImage at 0x7a6dbfac48b0>"
            ]
          },
          "metadata": {},
          "execution_count": 429
        },
        {
          "output_type": "display_data",
          "data": {
            "text/plain": [
              "<Figure size 640x480 with 1 Axes>"
            ],
            "image/png": "[encoded data removed]"
          },
          "metadata": {}
        }
      ]
    },
    {
      "cell_type": "code",
      "source": [
        "ls"
      ],
      "metadata": {
        "colab": {
          "base_uri": "https://localhost:8080/"
        },
        "id": "JkGaZw6gpANY",
        "outputId": "ccf8f101-7f0b-4ee0-a333-cacd41f079ea"
      },
      "execution_count": 420,
      "outputs": [
        {
          "output_type": "stream",
          "name": "stdout",
          "text": [
            "noise450.jpg    noise45275.jpg  noise45453.jpg  noise45643.jpg  noise45822.jpg\n",
            "noise45100.jpg  noise45277.jpg  noise45454.jpg  noise45644.jpg  noise45823.jpg\n",
            "noise45102.jpg  noise45278.jpg  noise45455.jpg  noise45645.jpg  noise45824.jpg\n",
            "noise45103.jpg  noise45279.jpg  noise45456.jpg  noise45647.jpg  noise45825.jpg\n",
            "noise45104.jpg  noise4527.jpg   noise45457.jpg  noise45648.jpg  noise45826.jpg\n",
            "noise45105.jpg  noise45280.jpg  noise45458.jpg  noise45649.jpg  noise45827.jpg\n",
            "noise45106.jpg  noise45281.jpg  noise45459.jpg  noise4564.jpg   noise4582.jpg\n",
            "noise45108.jpg  noise45282.jpg  noise4545.jpg   noise45650.jpg  noise45830.jpg\n",
            "noise45109.jpg  noise45283.jpg  noise45460.jpg  noise45651.jpg  noise45832.jpg\n",
            "noise4510.jpg   noise45284.jpg  noise45461.jpg  noise45652.jpg  noise45833.jpg\n",
            "noise45110.jpg  noise45285.jpg  noise45463.jpg  noise45653.jpg  noise45834.jpg\n",
            "noise45111.jpg  noise45286.jpg  noise45464.jpg  noise45654.jpg  noise45836.jpg\n",
            "noise45112.jpg  noise45287.jpg  noise45466.jpg  noise45655.jpg  noise45837.jpg\n",
            "noise45113.jpg  noise45289.jpg  noise45467.jpg  noise45656.jpg  noise45838.jpg\n",
            "noise45114.jpg  noise4528.jpg   noise45468.jpg  noise45657.jpg  noise45839.jpg\n",
            "noise45115.jpg  noise45290.jpg  noise45469.jpg  noise45658.jpg  noise4583.jpg\n",
            "noise45116.jpg  noise45291.jpg  noise4546.jpg   noise45659.jpg  noise45840.jpg\n",
            "noise45117.jpg  noise45292.jpg  noise45472.jpg  noise4565.jpg   noise45841.jpg\n",
            "noise45118.jpg  noise45293.jpg  noise45473.jpg  noise45660.jpg  noise45842.jpg\n",
            "noise45119.jpg  noise45294.jpg  noise45474.jpg  noise45661.jpg  noise45843.jpg\n",
            "noise45120.jpg  noise45295.jpg  noise45476.jpg  noise45662.jpg  noise45844.jpg\n",
            "noise45121.jpg  noise45296.jpg  noise45477.jpg  noise45663.jpg  noise45845.jpg\n",
            "noise45122.jpg  noise45297.jpg  noise45478.jpg  noise45664.jpg  noise45846.jpg\n",
            "noise45123.jpg  noise45298.jpg  noise45479.jpg  noise45665.jpg  noise45847.jpg\n",
            "noise45124.jpg  noise45299.jpg  noise4547.jpg   noise45666.jpg  noise45848.jpg\n",
            "noise45125.jpg  noise4529.jpg   noise45480.jpg  noise45667.jpg  noise45849.jpg\n",
            "noise45126.jpg  noise452.jpg    noise45481.jpg  noise45668.jpg  noise45850.jpg\n",
            "noise45127.jpg  noise45300.jpg  noise45482.jpg  noise45669.jpg  noise45851.jpg\n",
            "noise45128.jpg  noise45301.jpg  noise45483.jpg  noise4566.jpg   noise45852.jpg\n",
            "noise45129.jpg  noise45305.jpg  noise45484.jpg  noise45670.jpg  noise45853.jpg\n",
            "noise4512.jpg   noise45306.jpg  noise45485.jpg  noise45672.jpg  noise45854.jpg\n",
            "noise45130.jpg  noise45307.jpg  noise45486.jpg  noise45674.jpg  noise45855.jpg\n",
            "noise45131.jpg  noise45308.jpg  noise45487.jpg  noise45675.jpg  noise45856.jpg\n",
            "noise45132.jpg  noise45309.jpg  noise45488.jpg  noise45676.jpg  noise45857.jpg\n",
            "noise45133.jpg  noise4530.jpg   noise45489.jpg  noise45677.jpg  noise45858.jpg\n",
            "noise45134.jpg  noise45310.jpg  noise4548.jpg   noise45678.jpg  noise45859.jpg\n",
            "noise45136.jpg  noise45311.jpg  noise45490.jpg  noise45679.jpg  noise4585.jpg\n",
            "noise45137.jpg  noise45312.jpg  noise45491.jpg  noise4567.jpg   noise45860.jpg\n",
            "noise45138.jpg  noise45313.jpg  noise45492.jpg  noise45680.jpg  noise45861.jpg\n",
            "noise45139.jpg  noise45314.jpg  noise45493.jpg  noise45681.jpg  noise45862.jpg\n",
            "noise4513.jpg   noise45315.jpg  noise45494.jpg  noise45682.jpg  noise45863.jpg\n",
            "noise45140.jpg  noise45316.jpg  noise45495.jpg  noise45683.jpg  noise45864.jpg\n",
            "noise45141.jpg  noise45317.jpg  noise45496.jpg  noise45684.jpg  noise45865.jpg\n",
            "noise45142.jpg  noise45318.jpg  noise45497.jpg  noise45685.jpg  noise45866.jpg\n",
            "noise45143.jpg  noise45319.jpg  noise45498.jpg  noise45686.jpg  noise45867.jpg\n",
            "noise45144.jpg  noise4531.jpg   noise45499.jpg  noise45687.jpg  noise45868.jpg\n",
            "noise45145.jpg  noise45320.jpg  noise4549.jpg   noise45688.jpg  noise45869.jpg\n",
            "noise45146.jpg  noise45322.jpg  noise454.jpg    noise45689.jpg  noise4586.jpg\n",
            "noise45147.jpg  noise45323.jpg  noise45500.jpg  noise4568.jpg   noise45870.jpg\n",
            "noise45148.jpg  noise45324.jpg  noise45502.jpg  noise45690.jpg  noise45873.jpg\n",
            "noise45149.jpg  noise45326.jpg  noise45504.jpg  noise45691.jpg  noise45874.jpg\n",
            "noise4514.jpg   noise45327.jpg  noise45505.jpg  noise45692.jpg  noise45875.jpg\n",
            "noise45150.jpg  noise45328.jpg  noise45506.jpg  noise45693.jpg  noise45876.jpg\n",
            "noise45151.jpg  noise45329.jpg  noise45508.jpg  noise45694.jpg  noise45877.jpg\n",
            "noise45152.jpg  noise45330.jpg  noise45509.jpg  noise45695.jpg  noise45878.jpg\n",
            "noise45153.jpg  noise45331.jpg  noise4550.jpg   noise45696.jpg  noise45879.jpg\n",
            "noise45154.jpg  noise45332.jpg  noise45510.jpg  noise45697.jpg  noise4587.jpg\n",
            "noise45155.jpg  noise45333.jpg  noise45511.jpg  noise45698.jpg  noise45880.jpg\n",
            "noise45156.jpg  noise45334.jpg  noise45513.jpg  noise45699.jpg  noise45881.jpg\n",
            "noise45157.jpg  noise45335.jpg  noise45514.jpg  noise4569.jpg   noise45882.jpg\n",
            "noise45158.jpg  noise45336.jpg  noise45515.jpg  noise456.jpg    noise45883.jpg\n",
            "noise45159.jpg  noise45337.jpg  noise45516.jpg  noise45700.jpg  noise45884.jpg\n",
            "noise45160.jpg  noise45338.jpg  noise45517.jpg  noise45701.jpg  noise45886.jpg\n",
            "noise45161.jpg  noise45340.jpg  noise45518.jpg  noise45702.jpg  noise45887.jpg\n",
            "noise45162.jpg  noise45341.jpg  noise45519.jpg  noise45703.jpg  noise45888.jpg\n",
            "noise45163.jpg  noise45342.jpg  noise4551.jpg   noise45704.jpg  noise45889.jpg\n",
            "noise45164.jpg  noise45343.jpg  noise45521.jpg  noise45705.jpg  noise4588.jpg\n",
            "noise45165.jpg  noise45344.jpg  noise45522.jpg  noise45706.jpg  noise45890.jpg\n",
            "noise45166.jpg  noise45345.jpg  noise45523.jpg  noise45707.jpg  noise45891.jpg\n",
            "noise45167.jpg  noise45347.jpg  noise45524.jpg  noise45708.jpg  noise45892.jpg\n",
            "noise45168.jpg  noise45348.jpg  noise45525.jpg  noise45709.jpg  noise45893.jpg\n",
            "noise45169.jpg  noise45349.jpg  noise45526.jpg  noise4570.jpg   noise45894.jpg\n",
            "noise45170.jpg  noise4534.jpg   noise45527.jpg  noise45710.jpg  noise45895.jpg\n",
            "noise45171.jpg  noise45350.jpg  noise45528.jpg  noise45711.jpg  noise45896.jpg\n",
            "noise45172.jpg  noise45351.jpg  noise45529.jpg  noise45712.jpg  noise45897.jpg\n",
            "noise45173.jpg  noise45352.jpg  noise4552.jpg   noise45713.jpg  noise45898.jpg\n",
            "noise45174.jpg  noise45353.jpg  noise45530.jpg  noise45714.jpg  noise45899.jpg\n",
            "noise45175.jpg  noise45355.jpg  noise45532.jpg  noise45715.jpg  noise4589.jpg\n",
            "noise45176.jpg  noise45356.jpg  noise45533.jpg  noise45716.jpg  noise458.jpg\n",
            "noise45177.jpg  noise45357.jpg  noise45534.jpg  noise45717.jpg  noise45900.jpg\n",
            "noise45178.jpg  noise45358.jpg  noise45535.jpg  noise45718.jpg  noise45902.jpg\n",
            "noise45179.jpg  noise45359.jpg  noise45536.jpg  noise45719.jpg  noise45903.jpg\n",
            "noise4517.jpg   noise4535.jpg   noise45537.jpg  noise4571.jpg   noise45904.jpg\n",
            "noise45183.jpg  noise45360.jpg  noise45539.jpg  noise45720.jpg  noise45905.jpg\n",
            "noise45184.jpg  noise45361.jpg  noise4553.jpg   noise45722.jpg  noise45907.jpg\n",
            "noise45185.jpg  noise45362.jpg  noise45540.jpg  noise45723.jpg  noise45908.jpg\n",
            "noise45186.jpg  noise45363.jpg  noise45542.jpg  noise45724.jpg  noise45909.jpg\n",
            "noise45187.jpg  noise45364.jpg  noise45543.jpg  noise45725.jpg  noise4590.jpg\n",
            "noise45188.jpg  noise45365.jpg  noise45544.jpg  noise45726.jpg  noise45910.jpg\n",
            "noise45189.jpg  noise45366.jpg  noise45545.jpg  noise45727.jpg  noise45911.jpg\n",
            "noise4518.jpg   noise45367.jpg  noise45546.jpg  noise45728.jpg  noise45912.jpg\n",
            "noise45190.jpg  noise45368.jpg  noise45547.jpg  noise45729.jpg  noise45914.jpg\n",
            "noise45191.jpg  noise45369.jpg  noise45549.jpg  noise4572.jpg   noise45915.jpg\n",
            "noise45192.jpg  noise4536.jpg   noise4554.jpg   noise45730.jpg  noise45917.jpg\n",
            "noise45193.jpg  noise45370.jpg  noise45550.jpg  noise45732.jpg  noise45919.jpg\n",
            "noise45195.jpg  noise45371.jpg  noise45551.jpg  noise45733.jpg  noise4591.jpg\n",
            "noise45196.jpg  noise45372.jpg  noise45552.jpg  noise45734.jpg  noise45920.jpg\n",
            "noise45197.jpg  noise45373.jpg  noise45553.jpg  noise45735.jpg  noise45921.jpg\n",
            "noise45198.jpg  noise45374.jpg  noise45554.jpg  noise45736.jpg  noise45922.jpg\n",
            "noise45199.jpg  noise45375.jpg  noise45555.jpg  noise45737.jpg  noise45924.jpg\n",
            "noise4519.jpg   noise45376.jpg  noise45556.jpg  noise45738.jpg  noise45925.jpg\n",
            "noise451.jpg    noise45377.jpg  noise45558.jpg  noise45739.jpg  noise45926.jpg\n",
            "noise45200.jpg  noise45378.jpg  noise45559.jpg  noise4573.jpg   noise45927.jpg\n",
            "noise45201.jpg  noise45379.jpg  noise4555.jpg   noise45740.jpg  noise45928.jpg\n",
            "noise45202.jpg  noise4537.jpg   noise45560.jpg  noise45741.jpg  noise45929.jpg\n",
            "noise45203.jpg  noise45380.jpg  noise45561.jpg  noise45742.jpg  noise4592.jpg\n",
            "noise45204.jpg  noise45381.jpg  noise45562.jpg  noise45744.jpg  noise45930.jpg\n",
            "noise45205.jpg  noise45382.jpg  noise45563.jpg  noise45745.jpg  noise45931.jpg\n",
            "noise45206.jpg  noise45383.jpg  noise45566.jpg  noise45746.jpg  noise45932.jpg\n",
            "noise45207.jpg  noise45384.jpg  noise45567.jpg  noise45747.jpg  noise45933.jpg\n",
            "noise45208.jpg  noise45386.jpg  noise45568.jpg  noise45748.jpg  noise45934.jpg\n",
            "noise45209.jpg  noise45387.jpg  noise45569.jpg  noise45749.jpg  noise45935.jpg\n",
            "noise4520.jpg   noise45388.jpg  noise4556.jpg   noise4574.jpg   noise45936.jpg\n",
            "noise45210.jpg  noise45389.jpg  noise45570.jpg  noise45750.jpg  noise45937.jpg\n",
            "noise45211.jpg  noise4538.jpg   noise45571.jpg  noise45751.jpg  noise45938.jpg\n",
            "noise45212.jpg  noise45390.jpg  noise45573.jpg  noise45752.jpg  noise4593.jpg\n",
            "noise45213.jpg  noise45391.jpg  noise45574.jpg  noise45753.jpg  noise45941.jpg\n",
            "noise45214.jpg  noise45392.jpg  noise45575.jpg  noise45754.jpg  noise45942.jpg\n",
            "noise45215.jpg  noise45393.jpg  noise45576.jpg  noise45755.jpg  noise45943.jpg\n",
            "noise45216.jpg  noise45394.jpg  noise45578.jpg  noise45756.jpg  noise45944.jpg\n",
            "noise45217.jpg  noise45395.jpg  noise4557.jpg   noise45758.jpg  noise45945.jpg\n",
            "noise45218.jpg  noise45396.jpg  noise45580.jpg  noise45759.jpg  noise45946.jpg\n",
            "noise4521.jpg   noise45397.jpg  noise45581.jpg  noise45760.jpg  noise45947.jpg\n",
            "noise45220.jpg  noise45398.jpg  noise45582.jpg  noise45761.jpg  noise45948.jpg\n",
            "noise45222.jpg  noise45399.jpg  noise45583.jpg  noise45762.jpg  noise4594.jpg\n",
            "noise45223.jpg  noise4539.jpg   noise45584.jpg  noise45763.jpg  noise45950.jpg\n",
            "noise45224.jpg  noise453.jpg    noise45585.jpg  noise45764.jpg  noise45951.jpg\n",
            "noise45225.jpg  noise45401.jpg  noise45586.jpg  noise45765.jpg  noise45952.jpg\n",
            "noise45226.jpg  noise45403.jpg  noise45587.jpg  noise45767.jpg  noise45953.jpg\n",
            "noise45227.jpg  noise45404.jpg  noise45588.jpg  noise45768.jpg  noise45955.jpg\n",
            "noise45228.jpg  noise45405.jpg  noise4558.jpg   noise45769.jpg  noise45957.jpg\n",
            "noise45229.jpg  noise45406.jpg  noise45591.jpg  noise4576.jpg   noise45959.jpg\n",
            "noise4522.jpg   noise45407.jpg  noise45594.jpg  noise45770.jpg  noise4595.jpg\n",
            "noise45230.jpg  noise45408.jpg  noise45595.jpg  noise45771.jpg  noise45960.jpg\n",
            "noise45231.jpg  noise45409.jpg  noise45597.jpg  noise45772.jpg  noise45961.jpg\n",
            "noise45232.jpg  noise4540.jpg   noise45598.jpg  noise45773.jpg  noise45962.jpg\n",
            "noise45233.jpg  noise45410.jpg  noise4559.jpg   noise45774.jpg  noise45963.jpg\n",
            "noise45234.jpg  noise45411.jpg  noise455.jpg    noise45775.jpg  noise45964.jpg\n",
            "noise45235.jpg  noise45412.jpg  noise45600.jpg  noise45776.jpg  noise45965.jpg\n",
            "noise45236.jpg  noise45413.jpg  noise45602.jpg  noise45777.jpg  noise45966.jpg\n",
            "noise45237.jpg  noise45414.jpg  noise45603.jpg  noise45778.jpg  noise45967.jpg\n",
            "noise45238.jpg  noise45415.jpg  noise45605.jpg  noise45779.jpg  noise45968.jpg\n",
            "noise45239.jpg  noise45416.jpg  noise45606.jpg  noise4577.jpg   noise45969.jpg\n",
            "noise4523.jpg   noise45417.jpg  noise45607.jpg  noise45780.jpg  noise4596.jpg\n",
            "noise45240.jpg  noise45418.jpg  noise45608.jpg  noise45781.jpg  noise45970.jpg\n",
            "noise45241.jpg  noise45419.jpg  noise45609.jpg  noise45782.jpg  noise45971.jpg\n",
            "noise45242.jpg  noise4541.jpg   noise4560.jpg   noise45785.jpg  noise45972.jpg\n",
            "noise45243.jpg  noise45420.jpg  noise45610.jpg  noise45786.jpg  noise45973.jpg\n",
            "noise45244.jpg  noise45421.jpg  noise45611.jpg  noise45788.jpg  noise45974.jpg\n",
            "noise45245.jpg  noise45422.jpg  noise45612.jpg  noise45789.jpg  noise45975.jpg\n",
            "noise45246.jpg  noise45423.jpg  noise45613.jpg  noise4578.jpg   noise45976.jpg\n",
            "noise45247.jpg  noise45424.jpg  noise45614.jpg  noise45790.jpg  noise45978.jpg\n",
            "noise45248.jpg  noise45425.jpg  noise45615.jpg  noise45791.jpg  noise45979.jpg\n",
            "noise45249.jpg  noise45426.jpg  noise45616.jpg  noise45792.jpg  noise4597.jpg\n",
            "noise4524.jpg   noise45427.jpg  noise45617.jpg  noise45794.jpg  noise45980.jpg\n",
            "noise45250.jpg  noise45428.jpg  noise45618.jpg  noise45795.jpg  noise45981.jpg\n",
            "noise45252.jpg  noise45429.jpg  noise45619.jpg  noise45796.jpg  noise45982.jpg\n",
            "noise45253.jpg  noise4542.jpg   noise4561.jpg   noise45799.jpg  noise45983.jpg\n",
            "noise45254.jpg  noise45430.jpg  noise45620.jpg  noise4579.jpg   noise45984.jpg\n",
            "noise45255.jpg  noise45431.jpg  noise45622.jpg  noise457.jpg    noise45985.jpg\n",
            "noise45256.jpg  noise45432.jpg  noise45623.jpg  noise45800.jpg  noise45986.jpg\n",
            "noise45257.jpg  noise45433.jpg  noise45624.jpg  noise45801.jpg  noise45987.jpg\n",
            "noise45258.jpg  noise45434.jpg  noise45625.jpg  noise45802.jpg  noise45988.jpg\n",
            "noise45259.jpg  noise45435.jpg  noise45626.jpg  noise45804.jpg  noise45989.jpg\n",
            "noise4525.jpg   noise45436.jpg  noise45627.jpg  noise45805.jpg  noise4598.jpg\n",
            "noise45260.jpg  noise45437.jpg  noise45628.jpg  noise45806.jpg  noise45990.jpg\n",
            "noise45261.jpg  noise45438.jpg  noise45629.jpg  noise45807.jpg  noise45991.jpg\n",
            "noise45262.jpg  noise45439.jpg  noise45630.jpg  noise45808.jpg  noise45992.jpg\n",
            "noise45263.jpg  noise45441.jpg  noise45631.jpg  noise45809.jpg  noise45993.jpg\n",
            "noise45264.jpg  noise45442.jpg  noise45632.jpg  noise4580.jpg   noise45995.jpg\n",
            "noise45265.jpg  noise45443.jpg  noise45633.jpg  noise45811.jpg  noise45996.jpg\n",
            "noise45266.jpg  noise45444.jpg  noise45634.jpg  noise45812.jpg  noise45997.jpg\n",
            "noise45267.jpg  noise45446.jpg  noise45635.jpg  noise45813.jpg  noise45998.jpg\n",
            "noise45268.jpg  noise45447.jpg  noise45636.jpg  noise45814.jpg  noise45999.jpg\n",
            "noise45269.jpg  noise45448.jpg  noise45637.jpg  noise45816.jpg  noise4599.jpg\n",
            "noise4526.jpg   noise45449.jpg  noise45638.jpg  noise45817.jpg  noise459.jpg\n",
            "noise45270.jpg  noise4544.jpg   noise45639.jpg  noise45818.jpg\n",
            "noise45271.jpg  noise45450.jpg  noise4563.jpg   noise45819.jpg\n",
            "noise45272.jpg  noise45451.jpg  noise45640.jpg  noise45820.jpg\n",
            "noise45274.jpg  noise45452.jpg  noise45642.jpg  noise45821.jpg\n"
          ]
        }
      ]
    },
    {
      "cell_type": "code",
      "source": [
        "cd noisygreen45/"
      ],
      "metadata": {
        "colab": {
          "base_uri": "https://localhost:8080/"
        },
        "id": "4dDudk8PoLTC",
        "outputId": "a08f2e93-7135-4eca-e6e5-219c444ae2cd"
      },
      "execution_count": 411,
      "outputs": [
        {
          "output_type": "stream",
          "name": "stdout",
          "text": [
            "/root/noisygreen45\n"
          ]
        }
      ]
    },
    {
      "cell_type": "code",
      "source": [
        "ls"
      ],
      "metadata": {
        "colab": {
          "base_uri": "https://localhost:8080/"
        },
        "id": "XVaVEAUDoWGI",
        "outputId": "08092b39-ee2c-49a3-94b7-b309dc63ca22"
      },
      "execution_count": 412,
      "outputs": [
        {
          "output_type": "stream",
          "name": "stdout",
          "text": [
            "noise45101.jpg  noise45339.jpg  noise45541.jpg  noise45731.jpg  noise4584.jpg\n",
            "noise45107.jpg  noise45346.jpg  noise45548.jpg  noise45743.jpg  noise45871.jpg\n",
            "noise4511.jpg   noise45354.jpg  noise45557.jpg  noise45757.jpg  noise45872.jpg\n",
            "noise45135.jpg  noise45385.jpg  noise45564.jpg  noise4575.jpg   noise45885.jpg\n",
            "noise4515.jpg   noise45400.jpg  noise45565.jpg  noise45783.jpg  noise45901.jpg\n",
            "noise4516.jpg   noise4543.jpg   noise45572.jpg  noise45784.jpg  noise45906.jpg\n",
            "noise45180.jpg  noise45440.jpg  noise45577.jpg  noise45787.jpg  noise45913.jpg\n",
            "noise45181.jpg  noise45445.jpg  noise45579.jpg  noise45793.jpg  noise45916.jpg\n",
            "noise45182.jpg  noise45462.jpg  noise45589.jpg  noise45797.jpg  noise45918.jpg\n",
            "noise45194.jpg  noise45465.jpg  noise45592.jpg  noise45798.jpg  noise45939.jpg\n",
            "noise45251.jpg  noise45470.jpg  noise45593.jpg  noise45803.jpg  noise45940.jpg\n",
            "noise45273.jpg  noise45475.jpg  noise45601.jpg  noise45810.jpg  noise45949.jpg\n",
            "noise45276.jpg  noise45503.jpg  noise45604.jpg  noise45815.jpg  noise45954.jpg\n",
            "noise45288.jpg  noise45507.jpg  noise4562.jpg   noise4581.jpg   noise45956.jpg\n",
            "noise45302.jpg  noise45512.jpg  noise45646.jpg  noise45828.jpg  noise45958.jpg\n",
            "noise45303.jpg  noise45520.jpg  noise45671.jpg  noise45829.jpg  noise45994.jpg\n",
            "noise45304.jpg  noise45531.jpg  noise45673.jpg  noise45831.jpg\n",
            "noise4532.jpg   noise45538.jpg  noise45721.jpg  noise45835.jpg\n"
          ]
        }
      ]
    },
    {
      "cell_type": "code",
      "source": [
        "import matplotlib.pyplot as plt\n",
        "plt.imshow(numpydata_test[918])"
      ],
      "metadata": {
        "colab": {
          "base_uri": "https://localhost:8080/",
          "height": 450
        },
        "id": "blNpe81uoZfs",
        "outputId": "89f50c19-2e71-43da-f79f-af18aef69c9a"
      },
      "execution_count": 417,
      "outputs": [
        {
          "output_type": "execute_result",
          "data": {
            "text/plain": [
              "<matplotlib.image.AxesImage at 0x7a6dbff22110>"
            ]
          },
          "metadata": {},
          "execution_count": 417
        },
        {
          "output_type": "display_data",
          "data": {
            "text/plain": [
              "<Figure size 640x480 with 1 Axes>"
            ],
            "image/png": "[encoded data removed]"
          },
          "metadata": {}
        }
      ]
    },
    {
      "cell_type": "code",
      "source": [
        "batch_size = 32\n",
        "img_height = 100\n",
        "img_width = 100\n",
        "data_dir = \"/root\""
      ],
      "metadata": {
        "id": "Q7kpi_Lrwfcb"
      },
      "execution_count": 393,
      "outputs": []
    },
    {
      "cell_type": "code",
      "source": [
        "ls"
      ],
      "metadata": {
        "id": "bfmmEmBPyIr6"
      },
      "execution_count": 102,
      "outputs": []
    },
    {
      "cell_type": "code",
      "source": [
        "val_ds = tf.keras.utils.image_dataset_from_directory(\n",
        "  data_dir,\n",
        "  validation_split=0.2,\n",
        "  subset=\"validation\",\n",
        "  seed=123,\n",
        "  image_size=(img_height, img_width),\n",
        "  batch_size=batch_size)"
      ],
      "metadata": {
        "colab": {
          "base_uri": "https://localhost:8080/"
        },
        "id": "jGraoKzGwnZL",
        "outputId": "c1393e0e-fcac-4ab2-bf96-4f5a27d6d1df"
      },
      "execution_count": 394,
      "outputs": [
        {
          "output_type": "stream",
          "name": "stdout",
          "text": [
            "Found 1000 files belonging to 15 classes.\n",
            "Using 200 files for validation.\n"
          ]
        }
      ]
    },
    {
      "cell_type": "code",
      "source": [
        "train_ds = tf.keras.utils.image_dataset_from_directory(\n",
        "  data_dir,\n",
        "  validation_split=0.2,\n",
        "  subset=\"training\",\n",
        "  seed=123,\n",
        "  image_size=(img_height, img_width),\n",
        "  batch_size=batch_size)"
      ],
      "metadata": {
        "colab": {
          "base_uri": "https://localhost:8080/"
        },
        "id": "v0-UK38Y7EAD",
        "outputId": "f5ac543f-b718-4a93-9710-0988b3bcefeb"
      },
      "execution_count": 395,
      "outputs": [
        {
          "output_type": "stream",
          "name": "stdout",
          "text": [
            "Found 1000 files belonging to 15 classes.\n",
            "Using 800 files for training.\n"
          ]
        }
      ]
    },
    {
      "cell_type": "code",
      "source": [],
      "metadata": {
        "id": "vKo6ujmF69NZ"
      },
      "execution_count": null,
      "outputs": []
    },
    {
      "cell_type": "code",
      "source": [
        "from tensorflow.keras import datasets, layers, models\n",
        "model = models.Sequential()\n",
        "model.add(layers.Conv2D(32, (3, 3), activation='relu', input_shape=(100, 100, 3)))\n",
        "model.add(layers.MaxPooling2D((2, 2)))\n",
        "model.add(layers.Conv2D(64, (3, 3), activation='relu'))\n",
        "model.add(layers.MaxPooling2D((2, 2)))\n",
        "model.add(layers.Conv2D(64, (3, 3), activation='relu'))"
      ],
      "metadata": {
        "id": "8JJQpHxrwuid"
      },
      "execution_count": 345,
      "outputs": []
    },
    {
      "cell_type": "code",
      "source": [
        "model.add(layers.Flatten())\n",
        "model.add(layers.Dense(64, activation='relu'))\n",
        "model.add(layers.Dense(10))"
      ],
      "metadata": {
        "id": "Z9nK8CFCwziB"
      },
      "execution_count": 346,
      "outputs": []
    },
    {
      "cell_type": "code",
      "source": [
        "model.summary()"
      ],
      "metadata": {
        "colab": {
          "base_uri": "https://localhost:8080/"
        },
        "id": "p1EFieUew23n",
        "outputId": "1bb6222c-3db8-4d18-9e6d-4e6ffd02a4ca"
      },
      "execution_count": 347,
      "outputs": [
        {
          "output_type": "stream",
          "name": "stdout",
          "text": [
            "Model: \"sequential_7\"\n",
            "_________________________________________________________________\n",
            " Layer (type)                Output Shape              Param #   \n",
            "=================================================================\n",
            " conv2d_21 (Conv2D)          (None, 98, 98, 32)        896       \n",
            "                                                                 \n",
            " max_pooling2d_14 (MaxPoolin  (None, 49, 49, 32)       0         \n",
            " g2D)                                                            \n",
            "                                                                 \n",
            " conv2d_22 (Conv2D)          (None, 47, 47, 64)        18496     \n",
            "                                                                 \n",
            " max_pooling2d_15 (MaxPoolin  (None, 23, 23, 64)       0         \n",
            " g2D)                                                            \n",
            "                                                                 \n",
            " conv2d_23 (Conv2D)          (None, 21, 21, 64)        36928     \n",
            "                                                                 \n",
            " flatten_7 (Flatten)         (None, 28224)             0         \n",
            "                                                                 \n",
            " dense_14 (Dense)            (None, 64)                1806400   \n",
            "                                                                 \n",
            " dense_15 (Dense)            (None, 10)                650       \n",
            "                                                                 \n",
            "=================================================================\n",
            "Total params: 1,863,370\n",
            "Trainable params: 1,863,370\n",
            "Non-trainable params: 0\n",
            "_________________________________________________________________\n"
          ]
        }
      ]
    },
    {
      "cell_type": "code",
      "source": [
        "numpydata_test.shape"
      ],
      "metadata": {
        "colab": {
          "base_uri": "https://localhost:8080/"
        },
        "id": "rJUeZxUH7yZh",
        "outputId": "41b4fc9c-7b80-46a4-a456-8d53efeaefae"
      },
      "execution_count": 240,
      "outputs": [
        {
          "output_type": "execute_result",
          "data": {
            "text/plain": [
              "(1000, 100, 100, 3)"
            ]
          },
          "metadata": {},
          "execution_count": 240
        }
      ]
    },
    {
      "cell_type": "code",
      "source": [
        "model.compile(optimizer='adam',\n",
        "              loss=tf.keras.losses.SparseCategoricalCrossentropy(from_logits=True),\n",
        "              metrics=['accuracy'])\n",
        "\n",
        "history = model.fit(numpydata_test, labels_test, epochs=10)"
      ],
      "metadata": {
        "colab": {
          "base_uri": "https://localhost:8080/"
        },
        "id": "sXqvcNaIw59W",
        "outputId": "b9a6a481-07dd-46c7-9820-b875099d517c"
      },
      "execution_count": 348,
      "outputs": [
        {
          "output_type": "stream",
          "name": "stdout",
          "text": [
            "Epoch 1/10\n",
            "32/32 [==============================] - 19s 576ms/step - loss: 7.2112 - accuracy: 0.8190\n",
            "Epoch 2/10\n",
            "32/32 [==============================] - 20s 623ms/step - loss: 1.0246 - accuracy: 0.8150\n",
            "Epoch 3/10\n",
            "32/32 [==============================] - 18s 577ms/step - loss: 0.6121 - accuracy: 0.8670\n",
            "Epoch 4/10\n",
            "32/32 [==============================] - 19s 599ms/step - loss: 0.4585 - accuracy: 0.8860\n",
            "Epoch 5/10\n",
            "32/32 [==============================] - 19s 583ms/step - loss: 0.6140 - accuracy: 0.8670\n",
            "Epoch 6/10\n",
            "32/32 [==============================] - 18s 577ms/step - loss: 0.6307 - accuracy: 0.8840\n",
            "Epoch 7/10\n",
            "32/32 [==============================] - 20s 610ms/step - loss: 0.5991 - accuracy: 0.8850\n",
            "Epoch 8/10\n",
            "32/32 [==============================] - 19s 602ms/step - loss: 0.6847 - accuracy: 0.8850\n",
            "Epoch 9/10\n",
            "32/32 [==============================] - 21s 662ms/step - loss: 0.5034 - accuracy: 0.8870\n",
            "Epoch 10/10\n",
            "32/32 [==============================] - 19s 582ms/step - loss: 0.5070 - accuracy: 0.8870\n"
          ]
        }
      ]
    },
    {
      "cell_type": "markdown",
      "source": [
        "result of validation for images with 15% noises\n",
        "\n",
        "Epoch 1/10\n",
        "32/32 [==============================] - 20s 604ms/step - loss: 16.7374 - accuracy: 0.8110\n",
        "Epoch 2/10\n",
        "32/32 [==============================] - 19s 587ms/step - loss: 0.7698 - accuracy: 0.8630\n",
        "Epoch 3/10\n",
        "32/32 [==============================] - 18s 567ms/step - loss: 0.5254 - accuracy: 0.8640\n",
        "Epoch 4/10\n",
        "32/32 [==============================] - 20s 613ms/step - loss: 0.7041 - **accuracy**: 0.8550\n",
        "Epoch 5/10\n",
        "32/32 [==============================] - 18s 567ms/step - loss: 0.5719 - accuracy: 0.8620\n",
        "Epoch 6/10\n",
        "32/32 [==============================] - 20s 616ms/step - loss: 0.5066 - accuracy: 0.8660\n",
        "Epoch 7/10\n",
        "32/32 [==============================] - 18s 570ms/step - loss: 0.3969 - accuracy: 0.8680\n",
        "Epoch 8/10\n",
        "32/32 [==============================] - 19s 600ms/step - loss: 0.3888 - accuracy: 0.8670\n",
        "Epoch 9/10\n",
        "32/32 [==============================] - 19s 579ms/step - loss: 0.3306 - accuracy: 0.8690\n",
        "Epoch 10/10\n",
        "32/32 [==============================] - 18s 573ms/step - loss: 0.3187 - accuracy: 0.8670"
      ],
      "metadata": {
        "id": "KeQD8kNgZB2q"
      }
    },
    {
      "cell_type": "markdown",
      "source": [
        "result of validation for images with 25% noises\n",
        "\n",
        "Epoch 1/10\n",
        "32/32 [==============================] - 19s 576ms/step - loss: 7.2112 - accuracy: 0.8190\n",
        "Epoch 2/10\n",
        "32/32 [==============================] - 20s 623ms/step - loss: 1.0246 - accuracy: 0.8150\n",
        "Epoch 3/10\n",
        "32/32 [==============================] - 18s 577ms/step - loss: 0.6121 - accuracy: 0.8670\n",
        "Epoch 4/10\n",
        "32/32 [==============================] - 19s 599ms/step - loss: 0.4585 - accuracy: 0.8860\n",
        "Epoch 5/10\n",
        "32/32 [==============================] - 19s 583ms/step - loss: 0.6140 - accuracy: 0.8670\n",
        "Epoch 6/10\n",
        "32/32 [==============================] - 18s 577ms/step - loss: 0.6307 - accuracy: 0.8840\n",
        "Epoch 7/10\n",
        "32/32 [==============================] - 20s 610ms/step - loss: 0.5991 - accuracy: 0.8850\n",
        "Epoch 8/10\n",
        "32/32 [==============================] - 19s 602ms/step - loss: 0.6847 - accuracy: 0.8850\n",
        "Epoch 9/10\n",
        "32/32 [==============================] - 21s 662ms/step - loss: 0.5034 - accuracy: 0.8870\n",
        "Epoch 10/10\n",
        "32/32 [==============================] - 19s 582ms/step - loss: 0.5070 - accuracy: 0.8870"
      ],
      "metadata": {
        "id": "MERAkZtOgPNw"
      }
    },
    {
      "cell_type": "markdown",
      "source": [],
      "metadata": {
        "id": "uwA8uxKtZA-p"
      }
    },
    {
      "cell_type": "code",
      "source": [
        "import matplotlib.pyplot as plt\n",
        "plt.plot(history.history['accuracy'], label='accuracy')\n",
        "plt.plot(history.history['val_accuracy'], label = 'val_accuracy')\n",
        "plt.xlabel('Epoch')\n",
        "plt.ylabel('Accuracy')\n",
        "plt.ylim([0.5, 1])\n",
        "plt.legend(loc='lower right')\n",
        "\n",
        "test_loss, test_acc = model.evaluate(numpydata_test,  labels_test, verbose=2)"
      ],
      "metadata": {
        "id": "RnSu8J9yw7Jw"
      },
      "execution_count": null,
      "outputs": []
    }
  ]
}